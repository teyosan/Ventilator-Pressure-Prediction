{
 "cells": [
  {
   "cell_type": "markdown",
   "id": "piano-thread",
   "metadata": {
    "papermill": {
     "duration": 0.022464,
     "end_time": "2021-08-11T02:23:34.652267",
     "exception": false,
     "start_time": "2021-08-11T02:23:34.629803",
     "status": "completed"
    },
    "tags": []
   },
   "source": [
    "## Get env"
   ]
  },
  {
   "cell_type": "code",
   "execution_count": 1,
   "id": "demonstrated-moisture",
   "metadata": {
    "execution": {
     "iopub.execute_input": "2021-08-11T02:23:34.708820Z",
     "iopub.status.busy": "2021-08-11T02:23:34.708174Z",
     "iopub.status.idle": "2021-08-11T02:23:35.418895Z",
     "shell.execute_reply": "2021-08-11T02:23:35.419315Z",
     "shell.execute_reply.started": "2021-08-11T01:41:01.998026Z"
    },
    "papermill": {
     "duration": 0.746454,
     "end_time": "2021-08-11T02:23:35.419572",
     "exception": false,
     "start_time": "2021-08-11T02:23:34.673118",
     "status": "completed"
    },
    "tags": []
   },
   "outputs": [
    {
     "name": "stdout",
     "output_type": "stream",
     "text": [
      "Sat Aug 14 22:06:41 2021       \n",
      "+-----------------------------------------------------------------------------+\n",
      "| NVIDIA-SMI 471.11       Driver Version: 471.11       CUDA Version: 11.4     |\n",
      "|-------------------------------+----------------------+----------------------+\n",
      "| GPU  Name            TCC/WDDM | Bus-Id        Disp.A | Volatile Uncorr. ECC |\n",
      "| Fan  Temp  Perf  Pwr:Usage/Cap|         Memory-Usage | GPU-Util  Compute M. |\n",
      "|                               |                      |               MIG M. |\n",
      "|===============================+======================+======================|\n",
      "|   0  NVIDIA GeForce ... WDDM  | 00000000:07:00.0  On |                  N/A |\n",
      "| 30%   56C    P5   104W / 370W |   1281MiB / 24576MiB |      4%      Default |\n",
      "|                               |                      |                  N/A |\n",
      "+-------------------------------+----------------------+----------------------+\n",
      "                                                                               \n",
      "+-----------------------------------------------------------------------------+\n",
      "| Processes:                                                                  |\n",
      "|  GPU   GI   CI        PID   Type   Process name                  GPU Memory |\n",
      "|        ID   ID                                                   Usage      |\n",
      "|=============================================================================|\n",
      "|    0   N/A  N/A      1176    C+G   ...y\\ShellExperienceHost.exe    N/A      |\n",
      "|    0   N/A  N/A      1264    C+G   Insufficient Permissions        N/A      |\n",
      "|    0   N/A  N/A      3168    C+G   ...arp.BrowserSubprocess.exe    N/A      |\n",
      "|    0   N/A  N/A      4844    C+G   ...ekyb3d8bbwe\\YourPhone.exe    N/A      |\n",
      "|    0   N/A  N/A      6484    C+G   ...\\app-1.0.9002\\Discord.exe    N/A      |\n",
      "|    0   N/A  N/A      9516    C+G   C:\\Windows\\explorer.exe         N/A      |\n",
      "|    0   N/A  N/A      9616    C+G   ...nputApp\\TextInputHost.exe    N/A      |\n",
      "|    0   N/A  N/A     11196    C+G   ...5n1h2txyewy\\SearchApp.exe    N/A      |\n",
      "|    0   N/A  N/A     11540    C+G   ...cw5n1h2txyewy\\LockApp.exe    N/A      |\n",
      "|    0   N/A  N/A     12856    C+G   ...perience\\NVIDIA Share.exe    N/A      |\n",
      "|    0   N/A  N/A     13096    C+G   ...perience\\NVIDIA Share.exe    N/A      |\n",
      "|    0   N/A  N/A     13388    C+G   ...kyb3d8bbwe\\Calculator.exe    N/A      |\n",
      "|    0   N/A  N/A     13716    C+G   ...ram Files\\LGHUB\\lghub.exe    N/A      |\n",
      "|    0   N/A  N/A     14444    C+G   ...L\\app-2.7.11979\\DeepL.exe    N/A      |\n",
      "|    0   N/A  N/A     14500    C+G   ...lack\\app-4.18.0\\slack.exe    N/A      |\n",
      "|    0   N/A  N/A     14608    C+G   ...in7x64\\steamwebhelper.exe    N/A      |\n",
      "|    0   N/A  N/A     15644    C+G   ...wekyb3d8bbwe\\Video.UI.exe    N/A      |\n",
      "|    0   N/A  N/A     15752    C+G   ...InStyle\\ScreenInStyle.exe    N/A      |\n",
      "|    0   N/A  N/A     15900    C+G   ...ropbox\\Client\\Dropbox.exe    N/A      |\n",
      "|    0   N/A  N/A     16756    C+G   ...ICATION\\x-APPLICATION.exe    N/A      |\n",
      "|    0   N/A  N/A     16872    C+G   ...bbwe\\Microsoft.Photos.exe    N/A      |\n",
      "|    0   N/A  N/A     17308    C+G   ...me\\Application\\chrome.exe    N/A      |\n",
      "|    0   N/A  N/A     18580    C+G   ...t\\GoogleIMEJaRenderer.exe    N/A      |\n",
      "|    0   N/A  N/A     20272    C+G   ...lPanel\\SystemSettings.exe    N/A      |\n",
      "+-----------------------------------------------------------------------------+\n"
     ]
    }
   ],
   "source": [
    "!nvidia-smi"
   ]
  },
  {
   "cell_type": "code",
   "execution_count": 2,
   "id": "blank-jonathan",
   "metadata": {
    "execution": {
     "iopub.execute_input": "2021-08-11T02:23:35.475082Z",
     "iopub.status.busy": "2021-08-11T02:23:35.474291Z",
     "iopub.status.idle": "2021-08-11T02:23:35.477274Z",
     "shell.execute_reply": "2021-08-11T02:23:35.477859Z",
     "shell.execute_reply.started": "2021-08-11T01:41:02.708989Z"
    },
    "papermill": {
     "duration": 0.033399,
     "end_time": "2021-08-11T02:23:35.478019",
     "exception": false,
     "start_time": "2021-08-11T02:23:35.444620",
     "status": "completed"
    },
    "tags": []
   },
   "outputs": [
    {
     "name": "stdout",
     "output_type": "stream",
     "text": [
      "IN_COLAB:False, IN_KAGGLE:False, LOCAL:True\n"
     ]
    }
   ],
   "source": [
    "# 環境によって処理を変えるためのもの\n",
    "import sys\n",
    "IN_COLAB = 'google.colab' in sys.modules\n",
    "IN_KAGGLE = 'kaggle_web_client' in sys.modules\n",
    "LOCAL = not (IN_KAGGLE or IN_COLAB)\n",
    "print(f'IN_COLAB:{IN_COLAB}, IN_KAGGLE:{IN_KAGGLE}, LOCAL:{LOCAL}')"
   ]
  },
  {
   "cell_type": "code",
   "execution_count": 3,
   "id": "frank-chile",
   "metadata": {
    "execution": {
     "iopub.execute_input": "2021-08-11T02:23:35.556568Z",
     "iopub.status.busy": "2021-08-11T02:23:35.555404Z",
     "iopub.status.idle": "2021-08-11T02:23:35.559004Z",
     "shell.execute_reply": "2021-08-11T02:23:35.558359Z",
     "shell.execute_reply.started": "2021-08-11T01:41:02.722008Z"
    },
    "papermill": {
     "duration": 0.049645,
     "end_time": "2021-08-11T02:23:35.559175",
     "exception": false,
     "start_time": "2021-08-11T02:23:35.509530",
     "status": "completed"
    },
    "tags": []
   },
   "outputs": [],
   "source": [
    "# For Colab Download some datasets\n",
    "# ==================\n",
    "if IN_COLAB:\n",
    "    # mount googledrive\n",
    "    from google.colab import drive\n",
    "    drive.mount('/content/drive')\n",
    "    # copy kaggle.json from googledrive\n",
    "    ! pip install --upgrade --force-reinstall --no-deps  kaggle > /dev/null\n",
    "    ! mkdir ~/.kaggle\n",
    "    ! cp \"/content/drive/MyDrive/kaggle/kaggle.json\" ~/.kaggle/\n",
    "    ! chmod 600 ~/.kaggle/kaggle.json\n",
    "    \n",
    "    # if not os.path.exists(\"/content/input/train_short_audio\"):\n",
    "    #     !mkdir input\n",
    "    #     !kaggle competitions download -c birdclef-2021\n",
    "    #     !unzip /content/birdclef-2021.zip -d input"
   ]
  },
  {
   "cell_type": "code",
   "execution_count": 4,
   "id": "understanding-trainer",
   "metadata": {
    "execution": {
     "iopub.execute_input": "2021-08-11T02:23:35.633186Z",
     "iopub.status.busy": "2021-08-11T02:23:35.628588Z",
     "iopub.status.idle": "2021-08-11T02:24:00.993207Z",
     "shell.execute_reply": "2021-08-11T02:24:00.992629Z",
     "shell.execute_reply.started": "2021-08-11T01:41:02.739692Z"
    },
    "papermill": {
     "duration": 25.402083,
     "end_time": "2021-08-11T02:24:00.993349",
     "exception": false,
     "start_time": "2021-08-11T02:23:35.591266",
     "status": "completed"
    },
    "tags": []
   },
   "outputs": [],
   "source": [
    "if IN_KAGGLE:\n",
    "    !pip install --upgrade -q wandb\n",
    "    !pip install -q pytorch-lightning\n",
    "    !pip install torch_optimizer"
   ]
  },
  {
   "cell_type": "markdown",
   "id": "protective-scottish",
   "metadata": {
    "papermill": {
     "duration": 0.024108,
     "end_time": "2021-08-11T02:24:01.042079",
     "exception": false,
     "start_time": "2021-08-11T02:24:01.017971",
     "status": "completed"
    },
    "tags": []
   },
   "source": [
    "## Import Libraries"
   ]
  },
  {
   "cell_type": "code",
   "execution_count": 5,
   "id": "equipped-encounter",
   "metadata": {
    "execution": {
     "iopub.execute_input": "2021-08-11T02:24:01.109751Z",
     "iopub.status.busy": "2021-08-11T02:24:01.108905Z",
     "iopub.status.idle": "2021-08-11T02:24:09.252913Z",
     "shell.execute_reply": "2021-08-11T02:24:09.252445Z",
     "shell.execute_reply.started": "2021-08-11T01:41:22.591484Z"
    },
    "papermill": {
     "duration": 8.185631,
     "end_time": "2021-08-11T02:24:09.253042",
     "exception": false,
     "start_time": "2021-08-11T02:24:01.067411",
     "status": "completed"
    },
    "tags": []
   },
   "outputs": [
    {
     "name": "stderr",
     "output_type": "stream",
     "text": [
      "\u001b[34m\u001b[1mwandb\u001b[0m: Currently logged in as: \u001b[33mteyosan1229\u001b[0m (use `wandb login --relogin` to force relogin)\n"
     ]
    },
    {
     "data": {
      "text/plain": [
       "True"
      ]
     },
     "execution_count": 5,
     "metadata": {},
     "output_type": "execute_result"
    }
   ],
   "source": [
    "if IN_KAGGLE:\n",
    "    sys.path.append('../input/timm-pytorch-image-models/pytorch-image-models-master')\n",
    "\n",
    "# Hide Warning\n",
    "import warnings\n",
    "warnings.filterwarnings('ignore', category=DeprecationWarning)\n",
    "warnings.filterwarnings('ignore', category=FutureWarning)\n",
    "warnings.filterwarnings('ignore', category=UserWarning)\n",
    "\n",
    "# Python Libraries\n",
    "import os\n",
    "import math\n",
    "import random\n",
    "import glob\n",
    "from collections import defaultdict\n",
    "from pathlib import Path\n",
    "\n",
    "# Third party\n",
    "import numpy as np\n",
    "import pandas as pd\n",
    "from tqdm import tqdm\n",
    "\n",
    "# Visualizations\n",
    "from PIL import Image\n",
    "import matplotlib.pyplot as plt\n",
    "import seaborn as sns\n",
    "import cv2\n",
    "import plotly.express as px\n",
    "%matplotlib inline\n",
    "sns.set(style=\"whitegrid\")\n",
    "\n",
    "# Utilities and Metrics\n",
    "from sklearn.model_selection import StratifiedKFold\n",
    "from sklearn.metrics import roc_auc_score\n",
    "\n",
    "# Pytorch \n",
    "import torch\n",
    "import torch.nn as nn\n",
    "import torch.nn.functional as F\n",
    "from torch.optim import Adam, SGD\n",
    "from torch.utils.data import Dataset, DataLoader, WeightedRandomSampler\n",
    "from torch.optim.lr_scheduler import CosineAnnealingWarmRestarts, CosineAnnealingLR, ReduceLROnPlateau\n",
    "from torch.optim.optimizer import Optimizer, required\n",
    "import torch_optimizer as optim\n",
    "\n",
    "# Pytorch Lightning\n",
    "import pytorch_lightning as pl\n",
    "from pytorch_lightning import Callback, seed_everything\n",
    "from pytorch_lightning.callbacks import LearningRateMonitor, ModelCheckpoint, EarlyStopping\n",
    "from pytorch_lightning.loggers import WandbLogger, CSVLogger\n",
    "\n",
    "# Pytorch Image Models\n",
    "import timm\n",
    "\n",
    "# Image Augmentation Library\n",
    "from albumentations import (\n",
    "    Compose, OneOf, Normalize, Resize, RandomResizedCrop, RandomCrop, HorizontalFlip, VerticalFlip, \n",
    "    RandomBrightness, RandomContrast, RandomBrightnessContrast, Rotate, ShiftScaleRotate, Cutout, \n",
    "    IAAAdditiveGaussianNoise, Transpose\n",
    "    )\n",
    "from albumentations.pytorch import ToTensorV2\n",
    "from albumentations.core.transforms_interface import DualTransform\n",
    "from albumentations.augmentations import functional as AF\n",
    "\n",
    "# Weights and Biases Tool\n",
    "import wandb\n",
    "os.environ[\"WANDB_API_KEY\"]='68fa1bbcda0fcf7a56f3c33a0fafa45b02f1c52d'\n",
    "wandb.login()"
   ]
  },
  {
   "cell_type": "markdown",
   "id": "extraordinary-opera",
   "metadata": {
    "papermill": {
     "duration": 0.027595,
     "end_time": "2021-08-11T02:24:09.304931",
     "exception": false,
     "start_time": "2021-08-11T02:24:09.277336",
     "status": "completed"
    },
    "tags": []
   },
   "source": [
    "## Config"
   ]
  },
  {
   "cell_type": "code",
   "execution_count": 6,
   "id": "important-source",
   "metadata": {
    "execution": {
     "iopub.execute_input": "2021-08-11T02:24:09.362423Z",
     "iopub.status.busy": "2021-08-11T02:24:09.360875Z",
     "iopub.status.idle": "2021-08-11T02:24:09.363354Z",
     "shell.execute_reply": "2021-08-11T02:24:09.363833Z",
     "shell.execute_reply.started": "2021-08-11T01:41:22.626097Z"
    },
    "papermill": {
     "duration": 0.034283,
     "end_time": "2021-08-11T02:24:09.363961",
     "exception": false,
     "start_time": "2021-08-11T02:24:09.329678",
     "status": "completed"
    },
    "tags": []
   },
   "outputs": [],
   "source": [
    "class CFG:\n",
    "    debug = True\n",
    "    exp_name = \"ex005_local\"\n",
    "    seed = 29\n",
    "    # model\n",
    "    model_name = 'efficientnet_b0'\n",
    "    pretrained = True\n",
    "    img_size = 224\n",
    "    in_chans = 1\n",
    "    target_col = 'target' # 目標値のある列名\n",
    "    target_size = 1\n",
    "    # optimizer\n",
    "    optimizer_name = 'RAdam'\n",
    "    lr = 1e-3\n",
    "    weight_decay = 1e-5\n",
    "    amsgrad = False\n",
    "    # scheduler\n",
    "    epochs = 10\n",
    "    scheduler = 'CosineAnnealingLR'\n",
    "    T_max = 10\n",
    "    min_lr = 1e-5\n",
    "    # criterion\n",
    "    criterion_name = 'BCEWithLogitsLoss'\n",
    "    \n",
    "    # training\n",
    "    train = True\n",
    "    inference = False\n",
    "    n_fold = 5\n",
    "    trn_fold = [0]\n",
    "    precision = 16 #[16, 32, 64]\n",
    "    grad_acc = 1\n",
    "    # DataLoader\n",
    "    loader = {\n",
    "        \"train\": {\n",
    "            \"batch_size\": 128,\n",
    "            \"num_workers\": 0,\n",
    "            \"shuffle\": True,\n",
    "            \"pin_memory\": True,\n",
    "            \"drop_last\": True\n",
    "        },\n",
    "        \"valid\": {\n",
    "            \"batch_size\": 128,\n",
    "            \"num_workers\": 0,\n",
    "            \"shuffle\": False,\n",
    "            \"pin_memory\": True,\n",
    "            \"drop_last\": False\n",
    "        }\n",
    "    }"
   ]
  },
  {
   "cell_type": "markdown",
   "id": "romance-uniform",
   "metadata": {
    "papermill": {
     "duration": 0.026035,
     "end_time": "2021-08-11T02:24:09.415930",
     "exception": false,
     "start_time": "2021-08-11T02:24:09.389895",
     "status": "completed"
    },
    "tags": []
   },
   "source": [
    "## Directory & LoadData"
   ]
  },
  {
   "cell_type": "code",
   "execution_count": 7,
   "id": "handmade-mystery",
   "metadata": {
    "execution": {
     "iopub.execute_input": "2021-08-11T02:24:09.473043Z",
     "iopub.status.busy": "2021-08-11T02:24:09.472421Z",
     "iopub.status.idle": "2021-08-11T02:24:09.556626Z",
     "shell.execute_reply": "2021-08-11T02:24:09.556184Z",
     "shell.execute_reply.started": "2021-08-11T01:41:22.636862Z"
    },
    "papermill": {
     "duration": 0.114526,
     "end_time": "2021-08-11T02:24:09.556815",
     "exception": false,
     "start_time": "2021-08-11T02:24:09.442289",
     "status": "completed"
    },
    "tags": []
   },
   "outputs": [],
   "source": [
    "if IN_KAGGLE:\n",
    "    INPUT_DIR = Path('../input/seti-breakthrough-listen')\n",
    "    OUTPUT_DIR = './'\n",
    "elif IN_COLAB:\n",
    "    INPUT_DIR = Path('/content/input/')\n",
    "    OUTPUT_DIR = f'/content/drive/MyDrive/kaggle/BirdClef2021/{CFG.exp_name}/'\n",
    "if LOCAL:\n",
    "    INPUT_DIR = Path(\"F:/Kaggle/seti-breakthrough-listen/data/input/\")\n",
    "    OUTPUT_DIR = f'F:/Kaggle/seti-breakthrough-listen/data/output/{CFG.exp_name}/'\n",
    "\n",
    "TRAIN_DIR = INPUT_DIR / \"train\"\n",
    "TEST_DIR = INPUT_DIR / \"test\"\n",
    "\n",
    "df_train = pd.read_csv(INPUT_DIR / \"train_labels.csv\")\n",
    "df_test = pd.read_csv(INPUT_DIR / \"sample_submission.csv\")\n",
    "\n",
    "if not os.path.exists(OUTPUT_DIR):\n",
    "    os.makedirs(OUTPUT_DIR)\n",
    "\n",
    "if CFG.debug:\n",
    "    CFG.epochs = 2\n",
    "    df_train = df_train.sample(n=10000, random_state=CFG.seed).reset_index(drop=True)"
   ]
  },
  {
   "cell_type": "code",
   "execution_count": 8,
   "id": "representative-investor",
   "metadata": {
    "execution": {
     "iopub.execute_input": "2021-08-11T02:24:09.615497Z",
     "iopub.status.busy": "2021-08-11T02:24:09.614732Z",
     "iopub.status.idle": "2021-08-11T02:24:09.938640Z",
     "shell.execute_reply": "2021-08-11T02:24:09.939227Z",
     "shell.execute_reply.started": "2021-08-11T01:41:22.733399Z"
    },
    "papermill": {
     "duration": 0.358407,
     "end_time": "2021-08-11T02:24:09.939426",
     "exception": false,
     "start_time": "2021-08-11T02:24:09.581019",
     "status": "completed"
    },
    "tags": []
   },
   "outputs": [
    {
     "name": "stdout",
     "output_type": "stream",
     "text": [
      "(10000, 3) (39995, 3)\n"
     ]
    },
    {
     "data": {
      "text/html": [
       "<div>\n",
       "<style scoped>\n",
       "    .dataframe tbody tr th:only-of-type {\n",
       "        vertical-align: middle;\n",
       "    }\n",
       "\n",
       "    .dataframe tbody tr th {\n",
       "        vertical-align: top;\n",
       "    }\n",
       "\n",
       "    .dataframe thead th {\n",
       "        text-align: right;\n",
       "    }\n",
       "</style>\n",
       "<table border=\"1\" class=\"dataframe\">\n",
       "  <thead>\n",
       "    <tr style=\"text-align: right;\">\n",
       "      <th></th>\n",
       "      <th>id</th>\n",
       "      <th>target</th>\n",
       "      <th>image_path</th>\n",
       "    </tr>\n",
       "  </thead>\n",
       "  <tbody>\n",
       "    <tr>\n",
       "      <th>0</th>\n",
       "      <td>a861977733fcbf6</td>\n",
       "      <td>0</td>\n",
       "      <td>F:\\Kaggle\\seti-breakthrough-listen\\data\\input\\...</td>\n",
       "    </tr>\n",
       "    <tr>\n",
       "      <th>1</th>\n",
       "      <td>34fffe5f3e3fedf</td>\n",
       "      <td>0</td>\n",
       "      <td>F:\\Kaggle\\seti-breakthrough-listen\\data\\input\\...</td>\n",
       "    </tr>\n",
       "    <tr>\n",
       "      <th>2</th>\n",
       "      <td>a7a9a09832085b1</td>\n",
       "      <td>0</td>\n",
       "      <td>F:\\Kaggle\\seti-breakthrough-listen\\data\\input\\...</td>\n",
       "    </tr>\n",
       "    <tr>\n",
       "      <th>3</th>\n",
       "      <td>de2ef85d23501a5</td>\n",
       "      <td>1</td>\n",
       "      <td>F:\\Kaggle\\seti-breakthrough-listen\\data\\input\\...</td>\n",
       "    </tr>\n",
       "    <tr>\n",
       "      <th>4</th>\n",
       "      <td>2ce2212af03d789</td>\n",
       "      <td>0</td>\n",
       "      <td>F:\\Kaggle\\seti-breakthrough-listen\\data\\input\\...</td>\n",
       "    </tr>\n",
       "  </tbody>\n",
       "</table>\n",
       "</div>"
      ],
      "text/plain": [
       "                id  target                                         image_path\n",
       "0  a861977733fcbf6       0  F:\\Kaggle\\seti-breakthrough-listen\\data\\input\\...\n",
       "1  34fffe5f3e3fedf       0  F:\\Kaggle\\seti-breakthrough-listen\\data\\input\\...\n",
       "2  a7a9a09832085b1       0  F:\\Kaggle\\seti-breakthrough-listen\\data\\input\\...\n",
       "3  de2ef85d23501a5       1  F:\\Kaggle\\seti-breakthrough-listen\\data\\input\\...\n",
       "4  2ce2212af03d789       0  F:\\Kaggle\\seti-breakthrough-listen\\data\\input\\..."
      ]
     },
     "execution_count": 8,
     "metadata": {},
     "output_type": "execute_result"
    }
   ],
   "source": [
    "def get_filepath(name, folder=TRAIN_DIR):\n",
    "    path = os.path.join(folder, name[0], f'{name}.npy')\n",
    "    return path\n",
    "\n",
    "df_train['image_path'] = df_train['id'].apply(lambda x: get_filepath(x, TRAIN_DIR))\n",
    "df_test['image_path'] = df_test['id'].apply(lambda x: get_filepath(x, TEST_DIR))\n",
    "print(df_train.shape, df_test.shape)\n",
    "df_train.head()"
   ]
  },
  {
   "cell_type": "code",
   "execution_count": 9,
   "id": "genetic-transsexual",
   "metadata": {
    "execution": {
     "iopub.execute_input": "2021-08-11T02:24:09.993581Z",
     "iopub.status.busy": "2021-08-11T02:24:09.992842Z",
     "iopub.status.idle": "2021-08-11T02:24:10.018185Z",
     "shell.execute_reply": "2021-08-11T02:24:10.017726Z",
     "shell.execute_reply.started": "2021-08-11T01:41:22.895216Z"
    },
    "papermill": {
     "duration": 0.053681,
     "end_time": "2021-08-11T02:24:10.018295",
     "exception": false,
     "start_time": "2021-08-11T02:24:09.964614",
     "status": "completed"
    },
    "tags": []
   },
   "outputs": [
    {
     "data": {
      "text/plain": [
       "(6, 273, 256)"
      ]
     },
     "execution_count": 9,
     "metadata": {},
     "output_type": "execute_result"
    }
   ],
   "source": [
    "np.load(df_train.loc[0, 'image_path']).shape"
   ]
  },
  {
   "cell_type": "markdown",
   "id": "revolutionary-stocks",
   "metadata": {
    "papermill": {
     "duration": 0.026119,
     "end_time": "2021-08-11T02:24:10.069808",
     "exception": false,
     "start_time": "2021-08-11T02:24:10.043689",
     "status": "completed"
    },
    "tags": []
   },
   "source": [
    "## Utils"
   ]
  },
  {
   "cell_type": "code",
   "execution_count": 10,
   "id": "otherwise-import",
   "metadata": {
    "execution": {
     "iopub.execute_input": "2021-08-11T02:24:10.126456Z",
     "iopub.status.busy": "2021-08-11T02:24:10.125824Z",
     "iopub.status.idle": "2021-08-11T02:24:10.131454Z",
     "shell.execute_reply": "2021-08-11T02:24:10.131048Z",
     "shell.execute_reply.started": "2021-08-11T01:41:22.911397Z"
    },
    "papermill": {
     "duration": 0.036808,
     "end_time": "2021-08-11T02:24:10.131566",
     "exception": false,
     "start_time": "2021-08-11T02:24:10.094758",
     "status": "completed"
    },
    "tags": []
   },
   "outputs": [
    {
     "name": "stderr",
     "output_type": "stream",
     "text": [
      "Global seed set to 29\n"
     ]
    }
   ],
   "source": [
    "seed_everything(CFG.seed)\n",
    "# LINEに通知\n",
    "import requests\n",
    "def send_line_notification(message):\n",
    "    line_token = '8vBbxd0jENU39kV2ROEwp78jAzeankBFi7AG0JjoU3j'\n",
    "    endpoint = 'https://notify-api.line.me/api/notify'\n",
    "    message = f\"{message}\"\n",
    "    payload = {'message': message}\n",
    "    headers = {'Authorization': 'Bearer {}'.format(line_token)}\n",
    "    requests.post(endpoint, data=payload, headers=headers)"
   ]
  },
  {
   "cell_type": "markdown",
   "id": "thirty-bahrain",
   "metadata": {
    "papermill": {
     "duration": 0.025105,
     "end_time": "2021-08-11T02:24:10.182188",
     "exception": false,
     "start_time": "2021-08-11T02:24:10.157083",
     "status": "completed"
    },
    "tags": []
   },
   "source": [
    "## CV Split"
   ]
  },
  {
   "cell_type": "code",
   "execution_count": 11,
   "id": "suited-grave",
   "metadata": {
    "execution": {
     "iopub.execute_input": "2021-08-11T02:24:10.240042Z",
     "iopub.status.busy": "2021-08-11T02:24:10.239245Z",
     "iopub.status.idle": "2021-08-11T02:24:10.269231Z",
     "shell.execute_reply": "2021-08-11T02:24:10.269605Z",
     "shell.execute_reply.started": "2021-08-11T01:41:22.919965Z"
    },
    "papermill": {
     "duration": 0.061644,
     "end_time": "2021-08-11T02:24:10.269743",
     "exception": false,
     "start_time": "2021-08-11T02:24:10.208099",
     "status": "completed"
    },
    "tags": []
   },
   "outputs": [
    {
     "name": "stdout",
     "output_type": "stream",
     "text": [
      "fold  target\n",
      "0     0         1809\n",
      "      1          191\n",
      "1     0         1809\n",
      "      1          191\n",
      "2     0         1808\n",
      "      1          192\n",
      "3     0         1808\n",
      "      1          192\n",
      "4     0         1808\n",
      "      1          192\n",
      "dtype: int64\n"
     ]
    }
   ],
   "source": [
    "df_train[\"fold\"] = -1\n",
    "Fold = StratifiedKFold(n_splits=CFG.n_fold, shuffle=True, random_state=CFG.seed)\n",
    "for n, (train_index, val_index) in enumerate(Fold.split(df_train, df_train[CFG.target_col])):\n",
    "    df_train.loc[val_index, 'fold'] = int(n)\n",
    "df_train['fold'] = df_train['fold'].astype(int)\n",
    "print(df_train.groupby(['fold', CFG.target_col]).size())"
   ]
  },
  {
   "cell_type": "markdown",
   "id": "pointed-sociology",
   "metadata": {
    "papermill": {
     "duration": 0.041717,
     "end_time": "2021-08-11T02:24:10.337803",
     "exception": false,
     "start_time": "2021-08-11T02:24:10.296086",
     "status": "completed"
    },
    "tags": []
   },
   "source": [
    "### Grid maskは今は飛ばす"
   ]
  },
  {
   "cell_type": "markdown",
   "id": "pending-damage",
   "metadata": {
    "papermill": {
     "duration": 0.042021,
     "end_time": "2021-08-11T02:24:10.423278",
     "exception": false,
     "start_time": "2021-08-11T02:24:10.381257",
     "status": "completed"
    },
    "tags": []
   },
   "source": [
    "## Transforms"
   ]
  },
  {
   "cell_type": "code",
   "execution_count": 12,
   "id": "addressed-emission",
   "metadata": {
    "execution": {
     "iopub.execute_input": "2021-08-11T02:24:10.532023Z",
     "iopub.status.busy": "2021-08-11T02:24:10.531236Z",
     "iopub.status.idle": "2021-08-11T02:24:10.535762Z",
     "shell.execute_reply": "2021-08-11T02:24:10.536347Z",
     "shell.execute_reply.started": "2021-08-11T01:41:22.95482Z"
    },
    "papermill": {
     "duration": 0.065038,
     "end_time": "2021-08-11T02:24:10.536528",
     "exception": false,
     "start_time": "2021-08-11T02:24:10.471490",
     "status": "completed"
    },
    "tags": []
   },
   "outputs": [],
   "source": [
    "def get_transforms(phase: str):\n",
    "    if phase == 'train':\n",
    "        return Compose([\n",
    "            Resize(CFG.img_size, CFG.img_size),\n",
    "            Transpose(p=0.5),\n",
    "            HorizontalFlip(p=0.5),\n",
    "            VerticalFlip(p=0.5),\n",
    "            ShiftScaleRotate(p=0.5),\n",
    "            #Normalize(\n",
    "            #    mean=[0.485, 0.456, 0.406],\n",
    "            #    std=[0.229, 0.224, 0.225],\n",
    "            #),\n",
    "            ToTensorV2(p=1.0),\n",
    "        ])\n",
    "    elif phase == 'valid':\n",
    "        return Compose([\n",
    "            Resize(CFG.img_size, CFG.img_size),\n",
    "            #Normalize(\n",
    "            #    mean=[0.485, 0.456, 0.406],\n",
    "            #    std=[0.229, 0.224, 0.225],\n",
    "            #),\n",
    "            ToTensorV2(p=1.0),\n",
    "        ])\n"
   ]
  },
  {
   "cell_type": "markdown",
   "id": "consolidated-brazil",
   "metadata": {
    "papermill": {
     "duration": 0.040811,
     "end_time": "2021-08-11T02:24:10.618682",
     "exception": false,
     "start_time": "2021-08-11T02:24:10.577871",
     "status": "completed"
    },
    "tags": []
   },
   "source": [
    "## Dataset"
   ]
  },
  {
   "cell_type": "code",
   "execution_count": 13,
   "id": "thrown-concern",
   "metadata": {
    "execution": {
     "iopub.execute_input": "2021-08-11T02:24:10.709022Z",
     "iopub.status.busy": "2021-08-11T02:24:10.708245Z",
     "iopub.status.idle": "2021-08-11T02:24:10.714231Z",
     "shell.execute_reply": "2021-08-11T02:24:10.715164Z",
     "shell.execute_reply.started": "2021-08-11T01:41:22.964359Z"
    },
    "papermill": {
     "duration": 0.05568,
     "end_time": "2021-08-11T02:24:10.715327",
     "exception": false,
     "start_time": "2021-08-11T02:24:10.659647",
     "status": "completed"
    },
    "tags": []
   },
   "outputs": [],
   "source": [
    "class TrainDataset(Dataset):\n",
    "    def __init__(self, df, transform=None):\n",
    "        self.df = df\n",
    "        self.image_paths = df['image_path'].values\n",
    "        self.targets = df[CFG.target_col].values\n",
    "        self.transform = transform\n",
    "        \n",
    "    def __len__(self):\n",
    "        return len(self.df)\n",
    "    \n",
    "    def __getitem__(self, idx):\n",
    "        file_path = self.image_paths[idx]\n",
    "        # タスクに合わせたロード方法\n",
    "        image = np.load(file_path).astype(np.float32)# (6, 273, 256)\n",
    "        image = np.vstack(image).transpose((1, 0))# (1638, 256) -> (256, 1638)\n",
    "        #image = cv2.imread(file_path)\n",
    "        #image = cv2.cvtColor(image, cv2.COLOR_BGR2RGB)\n",
    "        \n",
    "        if self.transform:\n",
    "            image = self.transform(image=image)[\"image\"]\n",
    "        else:\n",
    "            image = image[np.newaxis,:,:]\n",
    "            image = torch.from_numpy(image).float()\n",
    "        label = torch.tensor(self.targets[idx]).float()\n",
    "        return image, label"
   ]
  },
  {
   "cell_type": "code",
   "execution_count": 14,
   "id": "dimensional-agreement",
   "metadata": {
    "execution": {
     "iopub.execute_input": "2021-08-11T02:24:10.812589Z",
     "iopub.status.busy": "2021-08-11T02:24:10.811830Z",
     "iopub.status.idle": "2021-08-11T02:24:11.128983Z",
     "shell.execute_reply": "2021-08-11T02:24:11.128516Z",
     "shell.execute_reply.started": "2021-08-11T01:41:22.977573Z"
    },
    "papermill": {
     "duration": 0.368475,
     "end_time": "2021-08-11T02:24:11.129097",
     "exception": false,
     "start_time": "2021-08-11T02:24:10.760622",
     "status": "completed"
    },
    "tags": []
   },
   "outputs": [
    {
     "data": {
      "text/plain": [
       "<matplotlib.image.AxesImage at 0x1a6581f4248>"
      ]
     },
     "execution_count": 14,
     "metadata": {},
     "output_type": "execute_result"
    },
    {
     "data": {
      "image/png": "[encoded data removed]",
      "text/plain": [
       "<Figure size 720x360 with 1 Axes>"
      ]
     },
     "metadata": {},
     "output_type": "display_data"
    }
   ],
   "source": [
    "plt.figure(figsize=(10, 5))\n",
    "image = np.load(df_train.loc[1, 'image_path']).astype(np.float32)\n",
    "image = np.vstack(image).transpose((1, 0))\n",
    "plt.imshow(image)"
   ]
  },
  {
   "cell_type": "code",
   "execution_count": 15,
   "id": "significant-robinson",
   "metadata": {
    "execution": {
     "iopub.execute_input": "2021-08-11T02:24:11.189785Z",
     "iopub.status.busy": "2021-08-11T02:24:11.188982Z",
     "iopub.status.idle": "2021-08-11T02:24:11.480663Z",
     "shell.execute_reply": "2021-08-11T02:24:11.480212Z",
     "shell.execute_reply.started": "2021-08-11T01:41:23.287828Z"
    },
    "papermill": {
     "duration": 0.323799,
     "end_time": "2021-08-11T02:24:11.480777",
     "exception": false,
     "start_time": "2021-08-11T02:24:11.156978",
     "status": "completed"
    },
    "scrolled": true,
    "tags": []
   },
   "outputs": [
    {
     "data": {
      "text/plain": [
       "<matplotlib.image.AxesImage at 0x1a6581c55c8>"
      ]
     },
     "execution_count": 15,
     "metadata": {},
     "output_type": "execute_result"
    },
    {
     "data": {
      "image/png": "[encoded data removed]",
      "text/plain": [
       "<Figure size 360x360 with 1 Axes>"
      ]
     },
     "metadata": {},
     "output_type": "display_data"
    }
   ],
   "source": [
    "plt.figure(figsize=(5, 5))\n",
    "train_dataset = TrainDataset(df_train, transform=get_transforms(phase='train'))\n",
    "image, _ = train_dataset[0]\n",
    "plt.imshow(image[0])"
   ]
  },
  {
   "cell_type": "markdown",
   "id": "selected-agriculture",
   "metadata": {
    "papermill": {
     "duration": 0.032091,
     "end_time": "2021-08-11T02:24:11.545052",
     "exception": false,
     "start_time": "2021-08-11T02:24:11.512961",
     "status": "completed"
    },
    "tags": []
   },
   "source": [
    "## DataModule"
   ]
  },
  {
   "cell_type": "code",
   "execution_count": 16,
   "id": "floppy-learning",
   "metadata": {
    "execution": {
     "iopub.execute_input": "2021-08-11T02:24:11.617376Z",
     "iopub.status.busy": "2021-08-11T02:24:11.616690Z",
     "iopub.status.idle": "2021-08-11T02:24:11.619484Z",
     "shell.execute_reply": "2021-08-11T02:24:11.619877Z",
     "shell.execute_reply.started": "2021-08-11T01:41:23.54445Z"
    },
    "papermill": {
     "duration": 0.043501,
     "end_time": "2021-08-11T02:24:11.619998",
     "exception": false,
     "start_time": "2021-08-11T02:24:11.576497",
     "status": "completed"
    },
    "tags": []
   },
   "outputs": [],
   "source": [
    "class DataModule(pl.LightningDataModule):\n",
    "    \n",
    "    def __init__(self, train_data, valid_data, test_data):\n",
    "        super().__init__()\n",
    "        self.train_data = train_data\n",
    "        self.valid_data = valid_data\n",
    "        self.test_data = test_data\n",
    "        \n",
    "    # 必ず呼び出される関数\n",
    "    def setup(self, stage=None):\n",
    "        self.train_dataset = TrainDataset(self.train_data, transform=get_transforms(phase='train'))\n",
    "        self.valid_dataset = TrainDataset(self.valid_data, transform=get_transforms(phase='valid'))\n",
    "        self.test_dataset = TrainDataset(self.test_data, transform=get_transforms(phase='valid'))\n",
    "        \n",
    "    # Trainer.fit() 時に呼び出される\n",
    "    def train_dataloader(self):\n",
    "        return DataLoader(self.train_dataset,\n",
    "                          batch_size=CFG.loader[\"train\"][\"batch_size\"],\n",
    "                          shuffle=True,\n",
    "                          num_workers=CFG.loader[\"train\"][\"num_workers\"],\n",
    "                          pin_memory=True,\n",
    "                          drop_last=True)\n",
    "\n",
    "    # Trainer.fit() 時に呼び出される\n",
    "    def val_dataloader(self):\n",
    "        return DataLoader(self.valid_dataset,\n",
    "                          batch_size=CFG.loader[\"valid\"][\"batch_size\"],\n",
    "                          shuffle=False,\n",
    "                          num_workers=CFG.loader[\"valid\"][\"num_workers\"],\n",
    "                          pin_memory=True,\n",
    "                          drop_last=False)\n",
    "\n",
    "    def test_dataloader(self):\n",
    "        return DataLoader(self.test_dataset,\n",
    "                          batch_size=CFG.loader[\"valid\"][\"batch_size\"],\n",
    "                          shuffle=False,\n",
    "                          num_workers=CFG.loader[\"valid\"][\"num_workers\"],\n",
    "                          pin_memory=True,\n",
    "                          drop_last=False)"
   ]
  },
  {
   "cell_type": "markdown",
   "id": "introductory-patio",
   "metadata": {
    "papermill": {
     "duration": 0.032014,
     "end_time": "2021-08-11T02:24:11.683189",
     "exception": false,
     "start_time": "2021-08-11T02:24:11.651175",
     "status": "completed"
    },
    "tags": []
   },
   "source": [
    "## Pytorch Lightning Module"
   ]
  },
  {
   "cell_type": "code",
   "execution_count": 17,
   "id": "advance-methodology",
   "metadata": {
    "execution": {
     "iopub.execute_input": "2021-08-11T02:24:11.757758Z",
     "iopub.status.busy": "2021-08-11T02:24:11.753814Z",
     "iopub.status.idle": "2021-08-11T02:24:11.760171Z",
     "shell.execute_reply": "2021-08-11T02:24:11.759778Z",
     "shell.execute_reply.started": "2021-08-11T01:41:23.559067Z"
    },
    "papermill": {
     "duration": 0.045409,
     "end_time": "2021-08-11T02:24:11.760269",
     "exception": false,
     "start_time": "2021-08-11T02:24:11.714860",
     "status": "completed"
    },
    "tags": []
   },
   "outputs": [],
   "source": [
    "# ====================================================\n",
    "# model\n",
    "# ====================================================\n",
    "class CustomModel(nn.Module):\n",
    "    def __init__(self, cfg, pretrained=False):\n",
    "        super().__init__()\n",
    "        self.cfg = cfg\n",
    "        self.model = timm.create_model(model_name=self.cfg.model_name,\n",
    "                                       pretrained=pretrained,\n",
    "                                       in_chans=self.cfg.in_chans,\n",
    "                                       num_classes=self.cfg.target_size)\n",
    "        \n",
    "    def forward(self, x):\n",
    "        output = self.model(x)\n",
    "        return output\n",
    "    \n",
    "def get_model(cfg):\n",
    "    model = CustomModel(cfg, pretrained=cfg.pretrained)\n",
    "    # plだと要らない？\n",
    "    # device = torch.device(\"cuda\" if torch.cuda.is_available() else \"cpu\")\n",
    "    # model.to(device)\n",
    "    # model.eval()\n",
    "    return model\n",
    "\n",
    "# ====================================================\n",
    "# criterion\n",
    "# ====================================================\n",
    "def get_criterion():\n",
    "    if CFG.criterion_name == 'BCEWithLogitsLoss':\n",
    "        # plだとto(device)いらない\n",
    "        criterion = nn.BCEWithLogitsLoss(reduction=\"mean\")\n",
    "    if CFG.criterion_name == 'CrossEntropyLoss':\n",
    "        criterion = nn.CrossEntropyLoss()\n",
    "    else:\n",
    "        raise NotImplementedError\n",
    "    return criterion\n",
    "# ====================================================\n",
    "# optimizer\n",
    "# ====================================================\n",
    "def get_optimizer(model: nn.Module, config: dict):\n",
    "    \"\"\"\n",
    "    input:\n",
    "    model:model\n",
    "    config:optimizer_nameやlrが入ったものを渡す\n",
    "    \n",
    "    output:optimizer\n",
    "    \"\"\"\n",
    "    optimizer_name = config.optimizer_name\n",
    "    if 'Adam' == optimizer_name:\n",
    "        return Adam(model.parameters(),\n",
    "                    lr=config.lr,\n",
    "                    weight_decay=config.weight_decay,\n",
    "                    amsgrad=config.amsgrad)\n",
    "    elif 'RAdam' == optimizer_name:\n",
    "        return optim.RAdam(model.parameters(),\n",
    "                           lr=config.lr,\n",
    "                           weight_decay=config.weight_decay)\n",
    "    else:\n",
    "        raise NotImplementedError\n",
    "\n",
    "# ====================================================\n",
    "# scheduler\n",
    "# ====================================================\n",
    "def get_scheduler(optimizer):\n",
    "    if CFG.scheduler=='ReduceLROnPlateau':\n",
    "        \"\"\"\n",
    "        factor : 学習率の減衰率\n",
    "        patience : 何ステップ向上しなければ減衰するかの値\n",
    "        eps : nanとかInf回避用の微小数\n",
    "        \"\"\"\n",
    "        scheduler = ReduceLROnPlateau(optimizer, mode='min', factor=CFG.factor, patience=CFG.patience, verbose=True, eps=CFG.eps)\n",
    "    elif CFG.scheduler=='CosineAnnealingLR':\n",
    "        \"\"\"\n",
    "        T_max : 1 半周期のステップサイズ\n",
    "        eta_min : 最小学習率(極小値)\n",
    "        \"\"\"\n",
    "        scheduler = CosineAnnealingLR(optimizer, T_max=CFG.T_max, eta_min=CFG.min_lr, last_epoch=-1)\n",
    "    elif CFG.scheduler=='CosineAnnealingWarmRestarts':\n",
    "        \"\"\"\n",
    "        T_0 : 初期の繰りかえし回数\n",
    "        T_mult : サイクルのスケール倍率\n",
    "        \"\"\"\n",
    "        scheduler = CosineAnnealingWarmRestarts(optimizer, T_0=CFG.T_0, T_mult=1, eta_min=CFG.min_lr, last_epoch=-1)\n",
    "    else:\n",
    "        raise NotImplementedError\n",
    "    return scheduler"
   ]
  },
  {
   "cell_type": "code",
   "execution_count": 18,
   "id": "genuine-student",
   "metadata": {
    "execution": {
     "iopub.execute_input": "2021-08-11T02:24:11.833756Z",
     "iopub.status.busy": "2021-08-11T02:24:11.829514Z",
     "iopub.status.idle": "2021-08-11T02:24:12.259729Z",
     "shell.execute_reply": "2021-08-11T02:24:12.260140Z",
     "shell.execute_reply.started": "2021-08-11T01:41:23.577098Z"
    },
    "papermill": {
     "duration": 0.468206,
     "end_time": "2021-08-11T02:24:12.260281",
     "exception": false,
     "start_time": "2021-08-11T02:24:11.792075",
     "status": "completed"
    },
    "tags": []
   },
   "outputs": [
    {
     "name": "stdout",
     "output_type": "stream",
     "text": [
      "[0.001, 0.0009757729755661011]\n"
     ]
    },
    {
     "data": {
      "text/plain": [
       "[<matplotlib.lines.Line2D at 0x1a65818ffc8>]"
      ]
     },
     "execution_count": 18,
     "metadata": {},
     "output_type": "execute_result"
    },
    {
     "data": {
      "image/png": "[encoded data removed]",
      "text/plain": [
       "<Figure size 1440x216 with 1 Axes>"
      ]
     },
     "metadata": {},
     "output_type": "display_data"
    }
   ],
   "source": [
    "model=timm.create_model(model_name=\"resnet18\",pretrained=False)\n",
    "optimizer = get_optimizer(model, CFG)\n",
    "scheduler = get_scheduler(optimizer)\n",
    "from pylab import rcParams\n",
    "lrs = []\n",
    "for epoch in range(1, CFG.epochs+1):\n",
    "    scheduler.step(epoch-1)\n",
    "    lrs.append(optimizer.param_groups[0][\"lr\"])\n",
    "rcParams['figure.figsize'] = 20,3\n",
    "print(lrs)\n",
    "plt.plot(lrs)"
   ]
  },
  {
   "cell_type": "code",
   "execution_count": 19,
   "id": "identified-ranking",
   "metadata": {
    "execution": {
     "iopub.execute_input": "2021-08-11T02:24:12.332679Z",
     "iopub.status.busy": "2021-08-11T02:24:12.332091Z",
     "iopub.status.idle": "2021-08-11T02:24:12.335088Z",
     "shell.execute_reply": "2021-08-11T02:24:12.335477Z",
     "shell.execute_reply.started": "2021-08-11T01:41:24.042434Z"
    },
    "papermill": {
     "duration": 0.041852,
     "end_time": "2021-08-11T02:24:12.335603",
     "exception": false,
     "start_time": "2021-08-11T02:24:12.293751",
     "status": "completed"
    },
    "tags": []
   },
   "outputs": [
    {
     "data": {
      "text/plain": [
       "0.0009757729755661011"
      ]
     },
     "execution_count": 19,
     "metadata": {},
     "output_type": "execute_result"
    }
   ],
   "source": [
    "optimizer.param_groups[0][\"lr\"]"
   ]
  },
  {
   "cell_type": "code",
   "execution_count": 20,
   "id": "charged-commodity",
   "metadata": {
    "execution": {
     "iopub.execute_input": "2021-08-11T02:24:12.417233Z",
     "iopub.status.busy": "2021-08-11T02:24:12.416431Z",
     "iopub.status.idle": "2021-08-11T02:24:12.419121Z",
     "shell.execute_reply": "2021-08-11T02:24:12.418716Z",
     "shell.execute_reply.started": "2021-08-11T01:41:24.052364Z"
    },
    "papermill": {
     "duration": 0.050613,
     "end_time": "2021-08-11T02:24:12.419225",
     "exception": false,
     "start_time": "2021-08-11T02:24:12.368612",
     "status": "completed"
    },
    "tags": []
   },
   "outputs": [],
   "source": [
    "class Trainer(pl.LightningModule):\n",
    "    def __init__(self, cfg):\n",
    "        super().__init__()\n",
    "        self.cfg = cfg\n",
    "        print(cfg.model_name)\n",
    "        self.model = get_model(cfg)\n",
    "        self.criterion = get_criterion()\n",
    "    \n",
    "    def forward(self, x):\n",
    "        output = self.model(x)\n",
    "        return output\n",
    "    \n",
    "    def training_step(self, batch, batch_idx):\n",
    "        x, y = batch\n",
    "        # mixup とかしたい場合はここに差し込む\n",
    "        output = self.forward(x)\n",
    "        labels = y.unsqueeze(1)\n",
    "        loss = self.criterion(output, labels)\n",
    "        try:\n",
    "            auc=roc_auc_score(labels.detach().cpu(), output.sigmoid().detach().cpu()) \n",
    "            # Log loss and metric\n",
    "            self.log(\"auc\", auc, on_step= True, prog_bar=True, logger=True)\n",
    "            self.log('train_loss', loss)\n",
    "            \n",
    "        except:\n",
    "            pass\n",
    "        \n",
    "        return {\"loss\": loss, \"predictions\": output, \"labels\": labels}\n",
    "    \n",
    "    def training_epoch_end(self, outputs):\n",
    "        preds = []\n",
    "        labels = []\n",
    "        \n",
    "        for output in outputs:\n",
    "            preds += output['predictions']\n",
    "            labels += output['labels']\n",
    "\n",
    "        labels = torch.stack(labels)\n",
    "        preds = torch.stack(preds)\n",
    "\n",
    "        train_auc=roc_auc_score(labels.detach().cpu(), preds.sigmoid().detach().cpu())\n",
    "        self.log(\"mean_train_auc\", train_auc, prog_bar=True, logger=True)\n",
    "        self.log(\"lr\", self.optimizer.param_groups[0]['lr'], prog_bar=True, logger=True)\n",
    "    \n",
    "    def validation_step(self, batch, batch_idx):\n",
    "        x, y = batch\n",
    "        output = self.forward(x)\n",
    "        labels = y.unsqueeze(1)\n",
    "        loss = self.criterion(output, labels)\n",
    "        self.log('val_loss', loss, on_step= True, prog_bar=True, logger=True)\n",
    "        return {\"predictions\": output, \"labels\": labels}\n",
    "    \n",
    "    def validation_epoch_end(self, outputs):\n",
    "        preds = []\n",
    "        labels = []\n",
    "        \n",
    "        for output in outputs:\n",
    "            preds += output['predictions']\n",
    "            labels += output['labels']\n",
    "\n",
    "        labels = torch.stack(labels)\n",
    "        preds = torch.stack(preds)\n",
    "\n",
    "        val_auc=roc_auc_score(labels.detach().cpu(), preds.sigmoid().detach().cpu())\n",
    "        self.log(\"val_auc\", val_auc, prog_bar=True, logger=True)\n",
    "        \n",
    "    def test_step(self, batch, batch_idx):\n",
    "        x = batch        \n",
    "        output = self(x).sigmoid()\n",
    "        return output\n",
    "    \n",
    "    def configure_optimizers(self):\n",
    "        ### optimizer\n",
    "        #optimizer = get_optimizer(self.parameters(), self.cfg)\n",
    "        self.optimizer = get_optimizer(self, self.cfg)\n",
    "        self.scheduler = get_scheduler(self.optimizer)\n",
    "        return {'optimizer': self.optimizer, 'lr_scheduler': self.scheduler}"
   ]
  },
  {
   "cell_type": "markdown",
   "id": "higher-packing",
   "metadata": {
    "papermill": {
     "duration": 0.034187,
     "end_time": "2021-08-11T02:24:12.486943",
     "exception": false,
     "start_time": "2021-08-11T02:24:12.452756",
     "status": "completed"
    },
    "tags": []
   },
   "source": [
    "## Train"
   ]
  },
  {
   "cell_type": "code",
   "execution_count": 21,
   "id": "skilled-worcester",
   "metadata": {
    "execution": {
     "iopub.execute_input": "2021-08-11T02:24:12.563911Z",
     "iopub.status.busy": "2021-08-11T02:24:12.563051Z",
     "iopub.status.idle": "2021-08-11T03:08:50.208801Z",
     "shell.execute_reply": "2021-08-11T03:08:50.208309Z",
     "shell.execute_reply.started": "2021-08-11T01:41:24.074189Z"
    },
    "papermill": {
     "duration": 2677.689596,
     "end_time": "2021-08-11T03:08:50.209818",
     "exception": false,
     "start_time": "2021-08-11T02:24:12.520222",
     "status": "completed"
    },
    "tags": []
   },
   "outputs": [],
   "source": [
    "def train() -> None:\n",
    "    for fold in range(CFG.n_fold):\n",
    "        if not fold in CFG.trn_fold:\n",
    "            continue\n",
    "        print(f\"{'='*38} Fold: {fold} {'='*38}\")\n",
    "        # Logger\n",
    "        #======================================================\n",
    "        lr_monitor = LearningRateMonitor(logging_interval='step')\n",
    "        # 学習済重みを保存するために必要\n",
    "        loss_checkpoint = ModelCheckpoint(\n",
    "            dirpath=OUTPUT_DIR,\n",
    "            filename=f\"best_loss_fold{fold}\",\n",
    "            monitor=\"val_loss\",\n",
    "            save_last=True,\n",
    "            save_top_k=1,\n",
    "            save_weights_only=True,\n",
    "            mode=\"min\",\n",
    "        )\n",
    "        auc_checkpoint = ModelCheckpoint(\n",
    "            dirpath=OUTPUT_DIR,\n",
    "            filename=f\"best_auc_fold{fold}\",\n",
    "            monitor=\"val_auc\",\n",
    "            save_top_k=1,\n",
    "            save_weights_only=True,\n",
    "            mode=\"max\",\n",
    "        )\n",
    "        \n",
    "        wandb_logger = WandbLogger(\n",
    "            project='SETI-Lightning',\n",
    "            group= f'{CFG.exp_name}',\n",
    "            name = f'Fold{fold}',\n",
    "            save_dir=OUTPUT_DIR\n",
    "        )\n",
    "        \n",
    "        data_module = DataModule(\n",
    "          df_train[df_train['fold']!=fold],\n",
    "          df_train[df_train['fold']==fold], \n",
    "          df_train[df_train['fold']==fold], \n",
    "        )\n",
    "        data_module.setup()\n",
    "        #early_stopping_callback = EarlyStopping(monitor='val_auc',mode=\"max\", patience=2)\n",
    "        \n",
    "        trainer = pl.Trainer(\n",
    "            logger=wandb_logger,\n",
    "            callbacks=[loss_checkpoint, auc_checkpoint, lr_monitor],\n",
    "            default_root_dir=OUTPUT_DIR,\n",
    "            gpus=1,\n",
    "            progress_bar_refresh_rate=1,\n",
    "            accumulate_grad_batches=CFG.grad_acc,\n",
    "            max_epochs=CFG.epochs,\n",
    "            precision=CFG.precision,\n",
    "            benchmark=False,\n",
    "            deterministic=True,\n",
    "        )\n",
    "        model = Trainer(CFG)\n",
    "        trainer.fit(model, data_module)\n",
    "        wandb.finish()\n",
    "        \n",
    "        "
   ]
  },
  {
   "cell_type": "code",
   "execution_count": 22,
   "id": "unavailable-hardwood",
   "metadata": {
    "execution": {
     "iopub.execute_input": "2021-08-11T03:08:50.303962Z",
     "iopub.status.busy": "2021-08-11T03:08:50.303039Z",
     "iopub.status.idle": "2021-08-11T03:08:51.027038Z",
     "shell.execute_reply": "2021-08-11T03:08:51.026519Z",
     "shell.execute_reply.started": "2021-08-11T01:42:17.632323Z"
    },
    "papermill": {
     "duration": 0.775172,
     "end_time": "2021-08-11T03:08:51.027159",
     "exception": false,
     "start_time": "2021-08-11T03:08:50.251987",
     "status": "completed"
    },
    "scrolled": true,
    "tags": []
   },
   "outputs": [
    {
     "name": "stderr",
     "output_type": "stream",
     "text": [
      "Using native 16bit precision.\n",
      "GPU available: True, used: True\n",
      "TPU available: False, using: 0 TPU cores\n",
      "IPU available: False, using: 0 IPUs\n"
     ]
    },
    {
     "name": "stdout",
     "output_type": "stream",
     "text": [
      "====================================== Fold: 0 ======================================\n",
      "efficientnet_b0\n"
     ]
    },
    {
     "name": "stderr",
     "output_type": "stream",
     "text": [
      "D:\\python\\Anaconda3\\lib\\site-packages\\pytorch_lightning\\core\\datamodule.py:424: LightningDeprecationWarning: DataModule.setup has already been called, so it will not be called again. In v1.6 this behavior will change to always call DataModule.setup.\n",
      "  f\"DataModule.{name} has already been called, so it will not be called again. \"\n",
      "LOCAL_RANK: 0 - CUDA_VISIBLE_DEVICES: [0]\n",
      "\u001b[34m\u001b[1mwandb\u001b[0m: wandb version 0.12.0 is available!  To upgrade, please run:\n",
      "\u001b[34m\u001b[1mwandb\u001b[0m:  $ pip install wandb --upgrade\n"
     ]
    },
    {
     "data": {
      "text/html": [
       "\n",
       "                Tracking run with wandb version 0.10.15<br/>\n",
       "                Syncing run <strong style=\"color:#cdcd00\">Fold0</strong> to <a href=\"https://wandb.ai\" target=\"_blank\">Weights & Biases</a> <a href=\"https://docs.wandb.com/integrations/jupyter.html\" target=\"_blank\">(Documentation)</a>.<br/>\n",
       "                Project page: <a href=\"https://wandb.ai/teyosan1229/SETI-Lightning\" target=\"_blank\">https://wandb.ai/teyosan1229/SETI-Lightning</a><br/>\n",
       "                Run page: <a href=\"https://wandb.ai/teyosan1229/SETI-Lightning/runs/10wf8mdf\" target=\"_blank\">https://wandb.ai/teyosan1229/SETI-Lightning/runs/10wf8mdf</a><br/>\n",
       "                Run data is saved locally in <code>F:/Kaggle/seti-breakthrough-listen/data/output/test/wandb\\run-20210814_220647-10wf8mdf</code><br/><br/>\n",
       "            "
      ],
      "text/plain": [
       "<IPython.core.display.HTML object>"
      ]
     },
     "metadata": {},
     "output_type": "display_data"
    },
    {
     "name": "stderr",
     "output_type": "stream",
     "text": [
      "\n",
      "  | Name      | Type              | Params\n",
      "------------------------------------------------\n",
      "0 | model     | CustomModel       | 4.0 M \n",
      "1 | criterion | BCEWithLogitsLoss | 0     \n",
      "------------------------------------------------\n",
      "4.0 M     Trainable params\n",
      "0         Non-trainable params\n",
      "4.0 M     Total params\n",
      "16.033    Total estimated model params size (MB)\n"
     ]
    },
    {
     "data": {
      "application/vnd.jupyter.widget-view+json": {
       "model_id": "",
       "version_major": 2,
       "version_minor": 0
      },
      "text/plain": [
       "Validation sanity check: 0it [00:00, ?it/s]"
      ]
     },
     "metadata": {},
     "output_type": "display_data"
    },
    {
     "name": "stderr",
     "output_type": "stream",
     "text": [
      "Global seed set to 29\n"
     ]
    },
    {
     "data": {
      "application/vnd.jupyter.widget-view+json": {
       "model_id": "efe3944ea1b24d149476e5f027bc5e8c",
       "version_major": 2,
       "version_minor": 0
      },
      "text/plain": [
       "Training: -1it [00:00, ?it/s]"
      ]
     },
     "metadata": {},
     "output_type": "display_data"
    },
    {
     "name": "stderr",
     "output_type": "stream",
     "text": [
      "D:\\python\\Anaconda3\\lib\\site-packages\\pytorch_lightning\\trainer\\connectors\\logger_connector\\result.py:398: LightningDeprecationWarning: One of the returned values {'predictions', 'labels'} has a `grad_fn`. We will detach it automatically but this behaviour will change in v1.6. Please detach it manually: `return {'loss': ..., 'something': something.detach()}`\n",
      "  f\"One of the returned values {set(extra.keys())} has a `grad_fn`. We will detach it automatically\"\n"
     ]
    },
    {
     "data": {
      "application/vnd.jupyter.widget-view+json": {
       "model_id": "",
       "version_major": 2,
       "version_minor": 0
      },
      "text/plain": [
       "Validating: 0it [00:00, ?it/s]"
      ]
     },
     "metadata": {},
     "output_type": "display_data"
    },
    {
     "data": {
      "application/vnd.jupyter.widget-view+json": {
       "model_id": "",
       "version_major": 2,
       "version_minor": 0
      },
      "text/plain": [
       "Validating: 0it [00:00, ?it/s]"
      ]
     },
     "metadata": {},
     "output_type": "display_data"
    },
    {
     "data": {
      "text/html": [
       "<br/>Waiting for W&B process to finish, PID 17160<br/>Program ended successfully."
      ],
      "text/plain": [
       "<IPython.core.display.HTML object>"
      ]
     },
     "metadata": {},
     "output_type": "display_data"
    },
    {
     "data": {
      "application/vnd.jupyter.widget-view+json": {
       "model_id": "",
       "version_major": 2,
       "version_minor": 0
      },
      "text/plain": [
       "VBox(children=(Label(value=' 0.00MB of 0.00MB uploaded (0.00MB deduped)\\r'), FloatProgress(value=1.0, max=1.0)…"
      ]
     },
     "metadata": {},
     "output_type": "display_data"
    },
    {
     "data": {
      "text/html": [
       "Find user logs for this run at: <code>F:/Kaggle/seti-breakthrough-listen/data/output/test/wandb\\run-20210814_220647-10wf8mdf\\logs\\debug.log</code>"
      ],
      "text/plain": [
       "<IPython.core.display.HTML object>"
      ]
     },
     "metadata": {},
     "output_type": "display_data"
    },
    {
     "data": {
      "text/html": [
       "Find internal logs for this run at: <code>F:/Kaggle/seti-breakthrough-listen/data/output/test/wandb\\run-20210814_220647-10wf8mdf\\logs\\debug-internal.log</code>"
      ],
      "text/plain": [
       "<IPython.core.display.HTML object>"
      ]
     },
     "metadata": {},
     "output_type": "display_data"
    },
    {
     "data": {
      "text/html": [
       "<h3>Run summary:</h3><br/><style>\n",
       "    table.wandb td:nth-child(1) { padding: 0 10px; text-align: right }\n",
       "    </style><table class=\"wandb\">\n",
       "<tr><td>lr-RAdam</td><td>0.00098</td></tr><tr><td>trainer/global_step</td><td>123</td></tr><tr><td>_step</td><td>39</td></tr><tr><td>_runtime</td><td>92</td></tr><tr><td>_timestamp</td><td>1628946499</td></tr><tr><td>auc</td><td>0.562</td></tr><tr><td>train_loss</td><td>0.99355</td></tr><tr><td>epoch</td><td>1</td></tr><tr><td>val_loss_step</td><td>0.49575</td></tr><tr><td>val_loss_epoch</td><td>0.80804</td></tr><tr><td>val_auc</td><td>0.49018</td></tr><tr><td>mean_train_auc</td><td>0.5435</td></tr><tr><td>lr</td><td>0.00091</td></tr></table>"
      ],
      "text/plain": [
       "<IPython.core.display.HTML object>"
      ]
     },
     "metadata": {},
     "output_type": "display_data"
    },
    {
     "data": {
      "text/html": [
       "<h3>Run history:</h3><br/><style>\n",
       "    table.wandb td:nth-child(1) { padding: 0 10px; text-align: right }\n",
       "    </style><table class=\"wandb\">\n",
       "<tr><td>lr-RAdam</td><td>█▁</td></tr><tr><td>trainer/global_step</td><td>▄▄▁▁▁▁▁▁▁▁▁▂▂▂▂▂▂▂▄▄▇▇▂▂▂▂▂▂▂▂▂▂▂▃▃▃▃▃██</td></tr><tr><td>_step</td><td>▁▁▁▂▂▂▂▂▂▃▃▃▃▃▄▄▄▄▄▄▅▅▅▅▅▅▆▆▆▆▆▇▇▇▇▇▇███</td></tr><tr><td>_runtime</td><td>▁▁▂▂▂▂▂▂▂▂▂▂▂▂▂▃▃▃▃▃▅▅▇▇▇▇▇▇████████████</td></tr><tr><td>_timestamp</td><td>▁▁▂▂▂▂▂▂▂▂▂▂▂▂▂▃▃▃▃▃▅▅▇▇▇▇▇▇████████████</td></tr><tr><td>auc</td><td>▁█</td></tr><tr><td>train_loss</td><td>▁█</td></tr><tr><td>epoch</td><td>▁▁▁███</td></tr><tr><td>val_loss_step</td><td>▄█▄▄▆▃▇▄▇▃▆▄▅▅▄▃▂▅▂▂▂▁▆▃▅▃▃▃▄▃▃▁</td></tr><tr><td>val_loss_epoch</td><td>█▁</td></tr><tr><td>val_auc</td><td>▁█</td></tr><tr><td>mean_train_auc</td><td>▁█</td></tr><tr><td>lr</td><td>█▁</td></tr></table><br/>"
      ],
      "text/plain": [
       "<IPython.core.display.HTML object>"
      ]
     },
     "metadata": {},
     "output_type": "display_data"
    },
    {
     "data": {
      "text/html": [
       "Synced 5 W&B file(s), 0 media file(s), 0 artifact file(s) and 0 other file(s)"
      ],
      "text/plain": [
       "<IPython.core.display.HTML object>"
      ]
     },
     "metadata": {},
     "output_type": "display_data"
    },
    {
     "data": {
      "text/html": [
       "\n",
       "                    <br/>Synced <strong style=\"color:#cdcd00\">Fold0</strong>: <a href=\"https://wandb.ai/teyosan1229/SETI-Lightning/runs/10wf8mdf\" target=\"_blank\">https://wandb.ai/teyosan1229/SETI-Lightning/runs/10wf8mdf</a><br/>\n",
       "                "
      ],
      "text/plain": [
       "<IPython.core.display.HTML object>"
      ]
     },
     "metadata": {},
     "output_type": "display_data"
    }
   ],
   "source": [
    "train()\n",
    "send_line_notification(\"[locl]finished\")\n",
    "wandb.finish()"
   ]
  },
  {
   "cell_type": "code",
   "execution_count": 23,
   "id": "3ea9364b",
   "metadata": {},
   "outputs": [
    {
     "data": {
      "text/plain": [
       "'F:/Kaggle/seti-breakthrough-listen/data/output/test/'"
      ]
     },
     "execution_count": 23,
     "metadata": {},
     "output_type": "execute_result"
    }
   ],
   "source": [
    "OUTPUT_DIR"
   ]
  }
 ],
 "metadata": {
  "kernelspec": {
   "display_name": "Python 3",
   "language": "python",
   "name": "python3"
  },
  "language_info": {
   "codemirror_mode": {
    "name": "ipython",
    "version": 3
   },
   "file_extension": ".py",
   "mimetype": "text/x-python",
   "name": "python",
   "nbconvert_exporter": "python",
   "pygments_lexer": "ipython3",
   "version": "3.7.7"
  },
  "papermill": {
   "default_parameters": {},
   "duration": 2726.79042,
   "end_time": "2021-08-11T03:08:54.714348",
   "environment_variables": {},
   "exception": null,
   "input_path": "__notebook__.ipynb",
   "output_path": "__notebook__.ipynb",
   "parameters": {},
   "start_time": "2021-08-11T02:23:27.923928",
   "version": "2.3.3"
  },
  "widgets": {
   "application/vnd.jupyter.widget-state+json": {
    "state": {
     "03eeaec435a540aeb15eda112a0db3be": {
      "model_module": "@jupyter-widgets/base",
      "model_module_version": "1.2.0",
      "model_name": "LayoutModel",
      "state": {
       "_model_module": "@jupyter-widgets/base",
       "_model_module_version": "1.2.0",
       "_model_name": "LayoutModel",
       "_view_count": null,
       "_view_module": "@jupyter-widgets/base",
       "_view_module_version": "1.2.0",
       "_view_name": "LayoutView",
       "align_content": null,
       "align_items": null,
       "align_self": null,
       "border": null,
       "bottom": null,
       "display": null,
       "flex": null,
       "flex_flow": null,
       "grid_area": null,
       "grid_auto_columns": null,
       "grid_auto_flow": null,
       "grid_auto_rows": null,
       "grid_column": null,
       "grid_gap": null,
       "grid_row": null,
       "grid_template_areas": null,
       "grid_template_columns": null,
       "grid_template_rows": null,
       "height": null,
       "justify_content": null,
       "justify_items": null,
       "left": null,
       "margin": null,
       "max_height": null,
       "max_width": null,
       "min_height": null,
       "min_width": null,
       "object_fit": null,
       "object_position": null,
       "order": null,
       "overflow": null,
       "overflow_x": null,
       "overflow_y": null,
       "padding": null,
       "right": null,
       "top": null,
       "visibility": null,
       "width": null
      }
     },
     "04eba03fef614151912d6aac916e65d9": {
      "model_module": "@jupyter-widgets/controls",
      "model_module_version": "1.5.0",
      "model_name": "HBoxModel",
      "state": {
       "_dom_classes": [],
       "_model_module": "@jupyter-widgets/controls",
       "_model_module_version": "1.5.0",
       "_model_name": "HBoxModel",
       "_view_count": null,
       "_view_module": "@jupyter-widgets/controls",
       "_view_module_version": "1.5.0",
       "_view_name": "HBoxView",
       "box_style": "",
       "children": [
        "IPY_MODEL_202e9cfa431d479a87957090303c019e",
        "IPY_MODEL_b2130fc6a00949e9a8d82e1223777f17",
        "IPY_MODEL_bd08e2a3dabf4af986749fe1634af3ad"
       ],
       "layout": "IPY_MODEL_c47a2da662d446f5a291276241b3b568"
      }
     },
     "0fd9d9c28b9048088978ebd6f79f7999": {
      "model_module": "@jupyter-widgets/controls",
      "model_module_version": "1.5.0",
      "model_name": "FloatProgressModel",
      "state": {
       "_dom_classes": [],
       "_model_module": "@jupyter-widgets/controls",
       "_model_module_version": "1.5.0",
       "_model_name": "FloatProgressModel",
       "_view_count": null,
       "_view_module": "@jupyter-widgets/controls",
       "_view_module_version": "1.5.0",
       "_view_name": "ProgressView",
       "bar_style": "success",
       "description": "",
       "description_tooltip": null,
       "layout": "IPY_MODEL_16038c8517814db1930c67b834c51035",
       "max": 469,
       "min": 0,
       "orientation": "horizontal",
       "style": "IPY_MODEL_6ef32e38caa3406a87a465ab2955915a",
       "value": 469
      }
     },
     "12dea99305cf4b169b8d1f6f53b8755f": {
      "model_module": "@jupyter-widgets/base",
      "model_module_version": "1.2.0",
      "model_name": "LayoutModel",
      "state": {
       "_model_module": "@jupyter-widgets/base",
       "_model_module_version": "1.2.0",
       "_model_name": "LayoutModel",
       "_view_count": null,
       "_view_module": "@jupyter-widgets/base",
       "_view_module_version": "1.2.0",
       "_view_name": "LayoutView",
       "align_content": null,
       "align_items": null,
       "align_self": null,
       "border": null,
       "bottom": null,
       "display": null,
       "flex": "2",
       "flex_flow": null,
       "grid_area": null,
       "grid_auto_columns": null,
       "grid_auto_flow": null,
       "grid_auto_rows": null,
       "grid_column": null,
       "grid_gap": null,
       "grid_row": null,
       "grid_template_areas": null,
       "grid_template_columns": null,
       "grid_template_rows": null,
       "height": null,
       "justify_content": null,
       "justify_items": null,
       "left": null,
       "margin": null,
       "max_height": null,
       "max_width": null,
       "min_height": null,
       "min_width": null,
       "object_fit": null,
       "object_position": null,
       "order": null,
       "overflow": null,
       "overflow_x": null,
       "overflow_y": null,
       "padding": null,
       "right": null,
       "top": null,
       "visibility": null,
       "width": null
      }
     },
     "149a2f53860a464ea3d6026c11dc29ed": {
      "model_module": "@jupyter-widgets/controls",
      "model_module_version": "1.5.0",
      "model_name": "ProgressStyleModel",
      "state": {
       "_model_module": "@jupyter-widgets/controls",
       "_model_module_version": "1.5.0",
       "_model_name": "ProgressStyleModel",
       "_view_count": null,
       "_view_module": "@jupyter-widgets/base",
       "_view_module_version": "1.2.0",
       "_view_name": "StyleView",
       "bar_color": null,
       "description_width": ""
      }
     },
     "16038c8517814db1930c67b834c51035": {
      "model_module": "@jupyter-widgets/base",
      "model_module_version": "1.2.0",
      "model_name": "LayoutModel",
      "state": {
       "_model_module": "@jupyter-widgets/base",
       "_model_module_version": "1.2.0",
       "_model_name": "LayoutModel",
       "_view_count": null,
       "_view_module": "@jupyter-widgets/base",
       "_view_module_version": "1.2.0",
       "_view_name": "LayoutView",
       "align_content": null,
       "align_items": null,
       "align_self": null,
       "border": null,
       "bottom": null,
       "display": null,
       "flex": "2",
       "flex_flow": null,
       "grid_area": null,
       "grid_auto_columns": null,
       "grid_auto_flow": null,
       "grid_auto_rows": null,
       "grid_column": null,
       "grid_gap": null,
       "grid_row": null,
       "grid_template_areas": null,
       "grid_template_columns": null,
       "grid_template_rows": null,
       "height": null,
       "justify_content": null,
       "justify_items": null,
       "left": null,
       "margin": null,
       "max_height": null,
       "max_width": null,
       "min_height": null,
       "min_width": null,
       "object_fit": null,
       "object_position": null,
       "order": null,
       "overflow": null,
       "overflow_x": null,
       "overflow_y": null,
       "padding": null,
       "right": null,
       "top": null,
       "visibility": null,
       "width": null
      }
     },
     "1a51ac68ff634da593dab2404e846234": {
      "model_module": "@jupyter-widgets/controls",
      "model_module_version": "1.5.0",
      "model_name": "DescriptionStyleModel",
      "state": {
       "_model_module": "@jupyter-widgets/controls",
       "_model_module_version": "1.5.0",
       "_model_name": "DescriptionStyleModel",
       "_view_count": null,
       "_view_module": "@jupyter-widgets/base",
       "_view_module_version": "1.2.0",
       "_view_name": "StyleView",
       "description_width": ""
      }
     },
     "1bf8d36d994c4cfab1a2cc6cc142034d": {
      "model_module": "@jupyter-widgets/controls",
      "model_module_version": "1.5.0",
      "model_name": "HTMLModel",
      "state": {
       "_dom_classes": [],
       "_model_module": "@jupyter-widgets/controls",
       "_model_module_version": "1.5.0",
       "_model_name": "HTMLModel",
       "_view_count": null,
       "_view_module": "@jupyter-widgets/controls",
       "_view_module_version": "1.5.0",
       "_view_name": "HTMLView",
       "description": "",
       "description_tooltip": null,
       "layout": "IPY_MODEL_fe0a596d399b4d49b9d91479a67315d8",
       "placeholder": "​",
       "style": "IPY_MODEL_5d4b818a1106424c8727141657a7c8f5",
       "value": " 93/94 [01:07&lt;00:00,  1.43it/s]"
      }
     },
     "202e9cfa431d479a87957090303c019e": {
      "model_module": "@jupyter-widgets/controls",
      "model_module_version": "1.5.0",
      "model_name": "HTMLModel",
      "state": {
       "_dom_classes": [],
       "_model_module": "@jupyter-widgets/controls",
       "_model_module_version": "1.5.0",
       "_model_name": "HTMLModel",
       "_view_count": null,
       "_view_module": "@jupyter-widgets/controls",
       "_view_module_version": "1.5.0",
       "_view_name": "HTMLView",
       "description": "",
       "description_tooltip": null,
       "layout": "IPY_MODEL_d6a65e81daac49eea484cd67f27266b5",
       "placeholder": "​",
       "style": "IPY_MODEL_cd13b4a09c6c44f894140c365580a671",
       "value": "Validating:  99%"
      }
     },
     "20c7543c642141478ee1774805b30470": {
      "model_module": "@jupyter-widgets/controls",
      "model_module_version": "1.5.0",
      "model_name": "HTMLModel",
      "state": {
       "_dom_classes": [],
       "_model_module": "@jupyter-widgets/controls",
       "_model_module_version": "1.5.0",
       "_model_name": "HTMLModel",
       "_view_count": null,
       "_view_module": "@jupyter-widgets/controls",
       "_view_module_version": "1.5.0",
       "_view_name": "HTMLView",
       "description": "",
       "description_tooltip": null,
       "layout": "IPY_MODEL_9ff70424df1f463b949d0bf51da568ad",
       "placeholder": "​",
       "style": "IPY_MODEL_1a51ac68ff634da593dab2404e846234",
       "value": "Validating: 100%"
      }
     },
     "23a34729ac5544e3a1559076a60d0cd2": {
      "model_module": "@jupyter-widgets/base",
      "model_module_version": "1.2.0",
      "model_name": "LayoutModel",
      "state": {
       "_model_module": "@jupyter-widgets/base",
       "_model_module_version": "1.2.0",
       "_model_name": "LayoutModel",
       "_view_count": null,
       "_view_module": "@jupyter-widgets/base",
       "_view_module_version": "1.2.0",
       "_view_name": "LayoutView",
       "align_content": null,
       "align_items": null,
       "align_self": null,
       "border": null,
       "bottom": null,
       "display": null,
       "flex": null,
       "flex_flow": null,
       "grid_area": null,
       "grid_auto_columns": null,
       "grid_auto_flow": null,
       "grid_auto_rows": null,
       "grid_column": null,
       "grid_gap": null,
       "grid_row": null,
       "grid_template_areas": null,
       "grid_template_columns": null,
       "grid_template_rows": null,
       "height": null,
       "justify_content": null,
       "justify_items": null,
       "left": null,
       "margin": null,
       "max_height": null,
       "max_width": null,
       "min_height": null,
       "min_width": null,
       "object_fit": null,
       "object_position": null,
       "order": null,
       "overflow": null,
       "overflow_x": null,
       "overflow_y": null,
       "padding": null,
       "right": null,
       "top": null,
       "visibility": null,
       "width": null
      }
     },
     "25bfb01af5ee48efa5ac1834db78d27e": {
      "model_module": "@jupyter-widgets/base",
      "model_module_version": "1.2.0",
      "model_name": "LayoutModel",
      "state": {
       "_model_module": "@jupyter-widgets/base",
       "_model_module_version": "1.2.0",
       "_model_name": "LayoutModel",
       "_view_count": null,
       "_view_module": "@jupyter-widgets/base",
       "_view_module_version": "1.2.0",
       "_view_name": "LayoutView",
       "align_content": null,
       "align_items": null,
       "align_self": null,
       "border": null,
       "bottom": null,
       "display": "inline-flex",
       "flex": null,
       "flex_flow": "row wrap",
       "grid_area": null,
       "grid_auto_columns": null,
       "grid_auto_flow": null,
       "grid_auto_rows": null,
       "grid_column": null,
       "grid_gap": null,
       "grid_row": null,
       "grid_template_areas": null,
       "grid_template_columns": null,
       "grid_template_rows": null,
       "height": null,
       "justify_content": null,
       "justify_items": null,
       "left": null,
       "margin": null,
       "max_height": null,
       "max_width": null,
       "min_height": null,
       "min_width": null,
       "object_fit": null,
       "object_position": null,
       "order": null,
       "overflow": null,
       "overflow_x": null,
       "overflow_y": null,
       "padding": null,
       "right": null,
       "top": null,
       "visibility": null,
       "width": "100%"
      }
     },
     "2899231fe63b41ddb1ba34222ea1fa82": {
      "model_module": "@jupyter-widgets/controls",
      "model_module_version": "1.5.0",
      "model_name": "HTMLModel",
      "state": {
       "_dom_classes": [],
       "_model_module": "@jupyter-widgets/controls",
       "_model_module_version": "1.5.0",
       "_model_name": "HTMLModel",
       "_view_count": null,
       "_view_module": "@jupyter-widgets/controls",
       "_view_module_version": "1.5.0",
       "_view_name": "HTMLView",
       "description": "",
       "description_tooltip": null,
       "layout": "IPY_MODEL_bc642f61441e40ab997d6e69eed0b24e",
       "placeholder": "​",
       "style": "IPY_MODEL_4845aee832bf466686f4de8cb8668319",
       "value": " 93/94 [01:08&lt;00:00,  1.27it/s]"
      }
     },
     "340f99d4122844d7bc89e41866f9a0c4": {
      "model_module": "@jupyter-widgets/controls",
      "model_module_version": "1.5.0",
      "model_name": "DescriptionStyleModel",
      "state": {
       "_model_module": "@jupyter-widgets/controls",
       "_model_module_version": "1.5.0",
       "_model_name": "DescriptionStyleModel",
       "_view_count": null,
       "_view_module": "@jupyter-widgets/base",
       "_view_module_version": "1.2.0",
       "_view_name": "StyleView",
       "description_width": ""
      }
     },
     "36a6949cce914489b5ab4346f86bb272": {
      "model_module": "@jupyter-widgets/controls",
      "model_module_version": "1.5.0",
      "model_name": "ProgressStyleModel",
      "state": {
       "_model_module": "@jupyter-widgets/controls",
       "_model_module_version": "1.5.0",
       "_model_name": "ProgressStyleModel",
       "_view_count": null,
       "_view_module": "@jupyter-widgets/base",
       "_view_module_version": "1.2.0",
       "_view_name": "StyleView",
       "bar_color": null,
       "description_width": ""
      }
     },
     "37f8c409f7654c968b8161968b1773c9": {
      "model_module": "@jupyter-widgets/base",
      "model_module_version": "1.2.0",
      "model_name": "LayoutModel",
      "state": {
       "_model_module": "@jupyter-widgets/base",
       "_model_module_version": "1.2.0",
       "_model_name": "LayoutModel",
       "_view_count": null,
       "_view_module": "@jupyter-widgets/base",
       "_view_module_version": "1.2.0",
       "_view_name": "LayoutView",
       "align_content": null,
       "align_items": null,
       "align_self": null,
       "border": null,
       "bottom": null,
       "display": null,
       "flex": null,
       "flex_flow": null,
       "grid_area": null,
       "grid_auto_columns": null,
       "grid_auto_flow": null,
       "grid_auto_rows": null,
       "grid_column": null,
       "grid_gap": null,
       "grid_row": null,
       "grid_template_areas": null,
       "grid_template_columns": null,
       "grid_template_rows": null,
       "height": null,
       "justify_content": null,
       "justify_items": null,
       "left": null,
       "margin": null,
       "max_height": null,
       "max_width": null,
       "min_height": null,
       "min_width": null,
       "object_fit": null,
       "object_position": null,
       "order": null,
       "overflow": null,
       "overflow_x": null,
       "overflow_y": null,
       "padding": null,
       "right": null,
       "top": null,
       "visibility": null,
       "width": null
      }
     },
     "3f680ca2ef2b473781acf68083d9d2a4": {
      "model_module": "@jupyter-widgets/controls",
      "model_module_version": "1.5.0",
      "model_name": "LabelModel",
      "state": {
       "_dom_classes": [],
       "_model_module": "@jupyter-widgets/controls",
       "_model_module_version": "1.5.0",
       "_model_name": "LabelModel",
       "_view_count": null,
       "_view_module": "@jupyter-widgets/controls",
       "_view_module_version": "1.5.0",
       "_view_name": "LabelView",
       "description": "",
       "description_tooltip": null,
       "layout": "IPY_MODEL_03eeaec435a540aeb15eda112a0db3be",
       "placeholder": "​",
       "style": "IPY_MODEL_54ab6229f831424e8af6a80cce8ec6e6",
       "value": ""
      }
     },
     "426c95b8529d487aad96e3858289a08d": {
      "model_module": "@jupyter-widgets/controls",
      "model_module_version": "1.5.0",
      "model_name": "FloatProgressModel",
      "state": {
       "_dom_classes": [],
       "_model_module": "@jupyter-widgets/controls",
       "_model_module_version": "1.5.0",
       "_model_name": "FloatProgressModel",
       "_view_count": null,
       "_view_module": "@jupyter-widgets/controls",
       "_view_module_version": "1.5.0",
       "_view_name": "ProgressView",
       "bar_style": "",
       "description": "",
       "description_tooltip": null,
       "layout": "IPY_MODEL_d02d505f35f04de2824834a8bbcacffd",
       "max": 94,
       "min": 0,
       "orientation": "horizontal",
       "style": "IPY_MODEL_149a2f53860a464ea3d6026c11dc29ed",
       "value": 94
      }
     },
     "4339a39518a349ccad89add6a4f0eeb7": {
      "model_module": "@jupyter-widgets/base",
      "model_module_version": "1.2.0",
      "model_name": "LayoutModel",
      "state": {
       "_model_module": "@jupyter-widgets/base",
       "_model_module_version": "1.2.0",
       "_model_name": "LayoutModel",
       "_view_count": null,
       "_view_module": "@jupyter-widgets/base",
       "_view_module_version": "1.2.0",
       "_view_name": "LayoutView",
       "align_content": null,
       "align_items": null,
       "align_self": null,
       "border": null,
       "bottom": null,
       "display": null,
       "flex": null,
       "flex_flow": null,
       "grid_area": null,
       "grid_auto_columns": null,
       "grid_auto_flow": null,
       "grid_auto_rows": null,
       "grid_column": null,
       "grid_gap": null,
       "grid_row": null,
       "grid_template_areas": null,
       "grid_template_columns": null,
       "grid_template_rows": null,
       "height": null,
       "justify_content": null,
       "justify_items": null,
       "left": null,
       "margin": null,
       "max_height": null,
       "max_width": null,
       "min_height": null,
       "min_width": null,
       "object_fit": null,
       "object_position": null,
       "order": null,
       "overflow": null,
       "overflow_x": null,
       "overflow_y": null,
       "padding": null,
       "right": null,
       "top": null,
       "visibility": null,
       "width": null
      }
     },
     "4845aee832bf466686f4de8cb8668319": {
      "model_module": "@jupyter-widgets/controls",
      "model_module_version": "1.5.0",
      "model_name": "DescriptionStyleModel",
      "state": {
       "_model_module": "@jupyter-widgets/controls",
       "_model_module_version": "1.5.0",
       "_model_name": "DescriptionStyleModel",
       "_view_count": null,
       "_view_module": "@jupyter-widgets/base",
       "_view_module_version": "1.2.0",
       "_view_name": "StyleView",
       "description_width": ""
      }
     },
     "53490c31100c4e6c866aa528a5684217": {
      "model_module": "@jupyter-widgets/controls",
      "model_module_version": "1.5.0",
      "model_name": "FloatProgressModel",
      "state": {
       "_dom_classes": [],
       "_model_module": "@jupyter-widgets/controls",
       "_model_module_version": "1.5.0",
       "_model_name": "FloatProgressModel",
       "_view_count": null,
       "_view_module": "@jupyter-widgets/controls",
       "_view_module_version": "1.5.0",
       "_view_name": "ProgressView",
       "bar_style": "",
       "description": "",
       "description_tooltip": null,
       "layout": "IPY_MODEL_686380366c8e475da9ef00e1434b73ed",
       "max": 94,
       "min": 0,
       "orientation": "horizontal",
       "style": "IPY_MODEL_f97d4be39bc34c2a8574c6f4fabc0c69",
       "value": 94
      }
     },
     "545e4923678c43c1a2d7557d8b286546": {
      "model_module": "@jupyter-widgets/controls",
      "model_module_version": "1.5.0",
      "model_name": "DescriptionStyleModel",
      "state": {
       "_model_module": "@jupyter-widgets/controls",
       "_model_module_version": "1.5.0",
       "_model_name": "DescriptionStyleModel",
       "_view_count": null,
       "_view_module": "@jupyter-widgets/base",
       "_view_module_version": "1.2.0",
       "_view_name": "StyleView",
       "description_width": ""
      }
     },
     "54ab6229f831424e8af6a80cce8ec6e6": {
      "model_module": "@jupyter-widgets/controls",
      "model_module_version": "1.5.0",
      "model_name": "DescriptionStyleModel",
      "state": {
       "_model_module": "@jupyter-widgets/controls",
       "_model_module_version": "1.5.0",
       "_model_name": "DescriptionStyleModel",
       "_view_count": null,
       "_view_module": "@jupyter-widgets/base",
       "_view_module_version": "1.2.0",
       "_view_name": "StyleView",
       "description_width": ""
      }
     },
     "54dcfbcce9ae486d84c0a986f2d17be6": {
      "model_module": "@jupyter-widgets/controls",
      "model_module_version": "1.5.0",
      "model_name": "DescriptionStyleModel",
      "state": {
       "_model_module": "@jupyter-widgets/controls",
       "_model_module_version": "1.5.0",
       "_model_name": "DescriptionStyleModel",
       "_view_count": null,
       "_view_module": "@jupyter-widgets/base",
       "_view_module_version": "1.2.0",
       "_view_name": "StyleView",
       "description_width": ""
      }
     },
     "584fe6854f064aa79bc292ffbea41be8": {
      "model_module": "@jupyter-widgets/controls",
      "model_module_version": "1.5.0",
      "model_name": "HBoxModel",
      "state": {
       "_dom_classes": [],
       "_model_module": "@jupyter-widgets/controls",
       "_model_module_version": "1.5.0",
       "_model_name": "HBoxModel",
       "_view_count": null,
       "_view_module": "@jupyter-widgets/controls",
       "_view_module_version": "1.5.0",
       "_view_name": "HBoxView",
       "box_style": "",
       "children": [
        "IPY_MODEL_20c7543c642141478ee1774805b30470",
        "IPY_MODEL_6866c54676fc402ea4cb0610f5bb5d36",
        "IPY_MODEL_5d01c25e85b549b0913abde4d565f89f"
       ],
       "layout": "IPY_MODEL_70a8615cfc9243f8b03bd5dfbbb08511"
      }
     },
     "5964b6b0a8234f2f82f35d28407bd7c5": {
      "model_module": "@jupyter-widgets/controls",
      "model_module_version": "1.5.0",
      "model_name": "HTMLModel",
      "state": {
       "_dom_classes": [],
       "_model_module": "@jupyter-widgets/controls",
       "_model_module_version": "1.5.0",
       "_model_name": "HTMLModel",
       "_view_count": null,
       "_view_module": "@jupyter-widgets/controls",
       "_view_module_version": "1.5.0",
       "_view_name": "HTMLView",
       "description": "",
       "description_tooltip": null,
       "layout": "IPY_MODEL_37f8c409f7654c968b8161968b1773c9",
       "placeholder": "​",
       "style": "IPY_MODEL_340f99d4122844d7bc89e41866f9a0c4",
       "value": "Validating:  99%"
      }
     },
     "5ade0a14dcdf42439b5b289819d5861b": {
      "model_module": "@jupyter-widgets/base",
      "model_module_version": "1.2.0",
      "model_name": "LayoutModel",
      "state": {
       "_model_module": "@jupyter-widgets/base",
       "_model_module_version": "1.2.0",
       "_model_name": "LayoutModel",
       "_view_count": null,
       "_view_module": "@jupyter-widgets/base",
       "_view_module_version": "1.2.0",
       "_view_name": "LayoutView",
       "align_content": null,
       "align_items": null,
       "align_self": null,
       "border": null,
       "bottom": null,
       "display": "inline-flex",
       "flex": null,
       "flex_flow": "row wrap",
       "grid_area": null,
       "grid_auto_columns": null,
       "grid_auto_flow": null,
       "grid_auto_rows": null,
       "grid_column": null,
       "grid_gap": null,
       "grid_row": null,
       "grid_template_areas": null,
       "grid_template_columns": null,
       "grid_template_rows": null,
       "height": null,
       "justify_content": null,
       "justify_items": null,
       "left": null,
       "margin": null,
       "max_height": null,
       "max_width": null,
       "min_height": null,
       "min_width": null,
       "object_fit": null,
       "object_position": null,
       "order": null,
       "overflow": null,
       "overflow_x": null,
       "overflow_y": null,
       "padding": null,
       "right": null,
       "top": null,
       "visibility": null,
       "width": "100%"
      }
     },
     "5b6bd449acf24f318e7779210089cae4": {
      "model_module": "@jupyter-widgets/controls",
      "model_module_version": "1.5.0",
      "model_name": "DescriptionStyleModel",
      "state": {
       "_model_module": "@jupyter-widgets/controls",
       "_model_module_version": "1.5.0",
       "_model_name": "DescriptionStyleModel",
       "_view_count": null,
       "_view_module": "@jupyter-widgets/base",
       "_view_module_version": "1.2.0",
       "_view_name": "StyleView",
       "description_width": ""
      }
     },
     "5d01c25e85b549b0913abde4d565f89f": {
      "model_module": "@jupyter-widgets/controls",
      "model_module_version": "1.5.0",
      "model_name": "HTMLModel",
      "state": {
       "_dom_classes": [],
       "_model_module": "@jupyter-widgets/controls",
       "_model_module_version": "1.5.0",
       "_model_name": "HTMLModel",
       "_view_count": null,
       "_view_module": "@jupyter-widgets/controls",
       "_view_module_version": "1.5.0",
       "_view_name": "HTMLView",
       "description": "",
       "description_tooltip": null,
       "layout": "IPY_MODEL_dd74bc90517349099b985262b7350a46",
       "placeholder": "​",
       "style": "IPY_MODEL_6d94824e12374fca82df7b560c438f48",
       "value": " 94/94 [01:13&lt;00:00,  1.53it/s]"
      }
     },
     "5d4b818a1106424c8727141657a7c8f5": {
      "model_module": "@jupyter-widgets/controls",
      "model_module_version": "1.5.0",
      "model_name": "DescriptionStyleModel",
      "state": {
       "_model_module": "@jupyter-widgets/controls",
       "_model_module_version": "1.5.0",
       "_model_name": "DescriptionStyleModel",
       "_view_count": null,
       "_view_module": "@jupyter-widgets/base",
       "_view_module_version": "1.2.0",
       "_view_name": "StyleView",
       "description_width": ""
      }
     },
     "5e16955069b34e809c903945e413a682": {
      "model_module": "@jupyter-widgets/controls",
      "model_module_version": "1.5.0",
      "model_name": "HTMLModel",
      "state": {
       "_dom_classes": [],
       "_model_module": "@jupyter-widgets/controls",
       "_model_module_version": "1.5.0",
       "_model_name": "HTMLModel",
       "_view_count": null,
       "_view_module": "@jupyter-widgets/controls",
       "_view_module_version": "1.5.0",
       "_view_name": "HTMLView",
       "description": "",
       "description_tooltip": null,
       "layout": "IPY_MODEL_f1057b4b9f1445a992e3318b931f74fb",
       "placeholder": "​",
       "style": "IPY_MODEL_be769eab244449f490b7f3464560eeac",
       "value": "Validating:  99%"
      }
     },
     "686380366c8e475da9ef00e1434b73ed": {
      "model_module": "@jupyter-widgets/base",
      "model_module_version": "1.2.0",
      "model_name": "LayoutModel",
      "state": {
       "_model_module": "@jupyter-widgets/base",
       "_model_module_version": "1.2.0",
       "_model_name": "LayoutModel",
       "_view_count": null,
       "_view_module": "@jupyter-widgets/base",
       "_view_module_version": "1.2.0",
       "_view_name": "LayoutView",
       "align_content": null,
       "align_items": null,
       "align_self": null,
       "border": null,
       "bottom": null,
       "display": null,
       "flex": "2",
       "flex_flow": null,
       "grid_area": null,
       "grid_auto_columns": null,
       "grid_auto_flow": null,
       "grid_auto_rows": null,
       "grid_column": null,
       "grid_gap": null,
       "grid_row": null,
       "grid_template_areas": null,
       "grid_template_columns": null,
       "grid_template_rows": null,
       "height": null,
       "justify_content": null,
       "justify_items": null,
       "left": null,
       "margin": null,
       "max_height": null,
       "max_width": null,
       "min_height": null,
       "min_width": null,
       "object_fit": null,
       "object_position": null,
       "order": null,
       "overflow": null,
       "overflow_x": null,
       "overflow_y": null,
       "padding": null,
       "right": null,
       "top": null,
       "visibility": null,
       "width": null
      }
     },
     "6866c54676fc402ea4cb0610f5bb5d36": {
      "model_module": "@jupyter-widgets/controls",
      "model_module_version": "1.5.0",
      "model_name": "FloatProgressModel",
      "state": {
       "_dom_classes": [],
       "_model_module": "@jupyter-widgets/controls",
       "_model_module_version": "1.5.0",
       "_model_name": "FloatProgressModel",
       "_view_count": null,
       "_view_module": "@jupyter-widgets/controls",
       "_view_module_version": "1.5.0",
       "_view_name": "ProgressView",
       "bar_style": "",
       "description": "",
       "description_tooltip": null,
       "layout": "IPY_MODEL_ebf980f59a6b40baaa72c692534ad360",
       "max": 94,
       "min": 0,
       "orientation": "horizontal",
       "style": "IPY_MODEL_8ce5cf5741c14bc99a799af656e3d5a9",
       "value": 94
      }
     },
     "6932ea4a6d1749a59817e4ea75445087": {
      "model_module": "@jupyter-widgets/base",
      "model_module_version": "1.2.0",
      "model_name": "LayoutModel",
      "state": {
       "_model_module": "@jupyter-widgets/base",
       "_model_module_version": "1.2.0",
       "_model_name": "LayoutModel",
       "_view_count": null,
       "_view_module": "@jupyter-widgets/base",
       "_view_module_version": "1.2.0",
       "_view_name": "LayoutView",
       "align_content": null,
       "align_items": null,
       "align_self": null,
       "border": null,
       "bottom": null,
       "display": "inline-flex",
       "flex": null,
       "flex_flow": "row wrap",
       "grid_area": null,
       "grid_auto_columns": null,
       "grid_auto_flow": null,
       "grid_auto_rows": null,
       "grid_column": null,
       "grid_gap": null,
       "grid_row": null,
       "grid_template_areas": null,
       "grid_template_columns": null,
       "grid_template_rows": null,
       "height": null,
       "justify_content": null,
       "justify_items": null,
       "left": null,
       "margin": null,
       "max_height": null,
       "max_width": null,
       "min_height": null,
       "min_width": null,
       "object_fit": null,
       "object_position": null,
       "order": null,
       "overflow": null,
       "overflow_x": null,
       "overflow_y": null,
       "padding": null,
       "right": null,
       "top": null,
       "visibility": null,
       "width": "100%"
      }
     },
     "694b4ac065664176a6852179f77f84c7": {
      "model_module": "@jupyter-widgets/controls",
      "model_module_version": "1.5.0",
      "model_name": "VBoxModel",
      "state": {
       "_dom_classes": [],
       "_model_module": "@jupyter-widgets/controls",
       "_model_module_version": "1.5.0",
       "_model_name": "VBoxModel",
       "_view_count": null,
       "_view_module": "@jupyter-widgets/controls",
       "_view_module_version": "1.5.0",
       "_view_name": "VBoxView",
       "box_style": "",
       "children": [
        "IPY_MODEL_3f680ca2ef2b473781acf68083d9d2a4",
        "IPY_MODEL_bb6187eeef954b3d98ebc8062a5dea89"
       ],
       "layout": "IPY_MODEL_da0c4c9353764ca4823ee6b6bd0f2d75"
      }
     },
     "6d94824e12374fca82df7b560c438f48": {
      "model_module": "@jupyter-widgets/controls",
      "model_module_version": "1.5.0",
      "model_name": "DescriptionStyleModel",
      "state": {
       "_model_module": "@jupyter-widgets/controls",
       "_model_module_version": "1.5.0",
       "_model_name": "DescriptionStyleModel",
       "_view_count": null,
       "_view_module": "@jupyter-widgets/base",
       "_view_module_version": "1.2.0",
       "_view_name": "StyleView",
       "description_width": ""
      }
     },
     "6ef32e38caa3406a87a465ab2955915a": {
      "model_module": "@jupyter-widgets/controls",
      "model_module_version": "1.5.0",
      "model_name": "ProgressStyleModel",
      "state": {
       "_model_module": "@jupyter-widgets/controls",
       "_model_module_version": "1.5.0",
       "_model_name": "ProgressStyleModel",
       "_view_count": null,
       "_view_module": "@jupyter-widgets/base",
       "_view_module_version": "1.2.0",
       "_view_name": "StyleView",
       "bar_color": null,
       "description_width": ""
      }
     },
     "701dcb5132824bd5baa830cb7d427e78": {
      "model_module": "@jupyter-widgets/base",
      "model_module_version": "1.2.0",
      "model_name": "LayoutModel",
      "state": {
       "_model_module": "@jupyter-widgets/base",
       "_model_module_version": "1.2.0",
       "_model_name": "LayoutModel",
       "_view_count": null,
       "_view_module": "@jupyter-widgets/base",
       "_view_module_version": "1.2.0",
       "_view_name": "LayoutView",
       "align_content": null,
       "align_items": null,
       "align_self": null,
       "border": null,
       "bottom": null,
       "display": null,
       "flex": null,
       "flex_flow": null,
       "grid_area": null,
       "grid_auto_columns": null,
       "grid_auto_flow": null,
       "grid_auto_rows": null,
       "grid_column": null,
       "grid_gap": null,
       "grid_row": null,
       "grid_template_areas": null,
       "grid_template_columns": null,
       "grid_template_rows": null,
       "height": null,
       "justify_content": null,
       "justify_items": null,
       "left": null,
       "margin": null,
       "max_height": null,
       "max_width": null,
       "min_height": null,
       "min_width": null,
       "object_fit": null,
       "object_position": null,
       "order": null,
       "overflow": null,
       "overflow_x": null,
       "overflow_y": null,
       "padding": null,
       "right": null,
       "top": null,
       "visibility": null,
       "width": null
      }
     },
     "70a8615cfc9243f8b03bd5dfbbb08511": {
      "model_module": "@jupyter-widgets/base",
      "model_module_version": "1.2.0",
      "model_name": "LayoutModel",
      "state": {
       "_model_module": "@jupyter-widgets/base",
       "_model_module_version": "1.2.0",
       "_model_name": "LayoutModel",
       "_view_count": null,
       "_view_module": "@jupyter-widgets/base",
       "_view_module_version": "1.2.0",
       "_view_name": "LayoutView",
       "align_content": null,
       "align_items": null,
       "align_self": null,
       "border": null,
       "bottom": null,
       "display": "inline-flex",
       "flex": null,
       "flex_flow": "row wrap",
       "grid_area": null,
       "grid_auto_columns": null,
       "grid_auto_flow": null,
       "grid_auto_rows": null,
       "grid_column": null,
       "grid_gap": null,
       "grid_row": null,
       "grid_template_areas": null,
       "grid_template_columns": null,
       "grid_template_rows": null,
       "height": null,
       "justify_content": null,
       "justify_items": null,
       "left": null,
       "margin": null,
       "max_height": null,
       "max_width": null,
       "min_height": null,
       "min_width": null,
       "object_fit": null,
       "object_position": null,
       "order": null,
       "overflow": null,
       "overflow_x": null,
       "overflow_y": null,
       "padding": null,
       "right": null,
       "top": null,
       "visibility": null,
       "width": "100%"
      }
     },
     "78e7a65898f94983a27fff1661166b7b": {
      "model_module": "@jupyter-widgets/controls",
      "model_module_version": "1.5.0",
      "model_name": "HBoxModel",
      "state": {
       "_dom_classes": [],
       "_model_module": "@jupyter-widgets/controls",
       "_model_module_version": "1.5.0",
       "_model_name": "HBoxModel",
       "_view_count": null,
       "_view_module": "@jupyter-widgets/controls",
       "_view_module_version": "1.5.0",
       "_view_name": "HBoxView",
       "box_style": "",
       "children": [
        "IPY_MODEL_d4e4ea114bf04d7bbf0fa2e7ffba6ddf",
        "IPY_MODEL_0fd9d9c28b9048088978ebd6f79f7999",
        "IPY_MODEL_f78635e0ad7147519400e77b91811ae6"
       ],
       "layout": "IPY_MODEL_25bfb01af5ee48efa5ac1834db78d27e"
      }
     },
     "7a0f201528b04c95ae68eea1a19fcdc6": {
      "model_module": "@jupyter-widgets/base",
      "model_module_version": "1.2.0",
      "model_name": "LayoutModel",
      "state": {
       "_model_module": "@jupyter-widgets/base",
       "_model_module_version": "1.2.0",
       "_model_name": "LayoutModel",
       "_view_count": null,
       "_view_module": "@jupyter-widgets/base",
       "_view_module_version": "1.2.0",
       "_view_name": "LayoutView",
       "align_content": null,
       "align_items": null,
       "align_self": null,
       "border": null,
       "bottom": null,
       "display": null,
       "flex": null,
       "flex_flow": null,
       "grid_area": null,
       "grid_auto_columns": null,
       "grid_auto_flow": null,
       "grid_auto_rows": null,
       "grid_column": null,
       "grid_gap": null,
       "grid_row": null,
       "grid_template_areas": null,
       "grid_template_columns": null,
       "grid_template_rows": null,
       "height": null,
       "justify_content": null,
       "justify_items": null,
       "left": null,
       "margin": null,
       "max_height": null,
       "max_width": null,
       "min_height": null,
       "min_width": null,
       "object_fit": null,
       "object_position": null,
       "order": null,
       "overflow": null,
       "overflow_x": null,
       "overflow_y": null,
       "padding": null,
       "right": null,
       "top": null,
       "visibility": null,
       "width": null
      }
     },
     "7fd276fb2d6140f69693454089f66d57": {
      "model_module": "@jupyter-widgets/base",
      "model_module_version": "1.2.0",
      "model_name": "LayoutModel",
      "state": {
       "_model_module": "@jupyter-widgets/base",
       "_model_module_version": "1.2.0",
       "_model_name": "LayoutModel",
       "_view_count": null,
       "_view_module": "@jupyter-widgets/base",
       "_view_module_version": "1.2.0",
       "_view_name": "LayoutView",
       "align_content": null,
       "align_items": null,
       "align_self": null,
       "border": null,
       "bottom": null,
       "display": null,
       "flex": null,
       "flex_flow": null,
       "grid_area": null,
       "grid_auto_columns": null,
       "grid_auto_flow": null,
       "grid_auto_rows": null,
       "grid_column": null,
       "grid_gap": null,
       "grid_row": null,
       "grid_template_areas": null,
       "grid_template_columns": null,
       "grid_template_rows": null,
       "height": null,
       "justify_content": null,
       "justify_items": null,
       "left": null,
       "margin": null,
       "max_height": null,
       "max_width": null,
       "min_height": null,
       "min_width": null,
       "object_fit": null,
       "object_position": null,
       "order": null,
       "overflow": null,
       "overflow_x": null,
       "overflow_y": null,
       "padding": null,
       "right": null,
       "top": null,
       "visibility": null,
       "width": null
      }
     },
     "83ce485b6a684e728a76554a6bdfdd6d": {
      "model_module": "@jupyter-widgets/controls",
      "model_module_version": "1.5.0",
      "model_name": "HTMLModel",
      "state": {
       "_dom_classes": [],
       "_model_module": "@jupyter-widgets/controls",
       "_model_module_version": "1.5.0",
       "_model_name": "HTMLModel",
       "_view_count": null,
       "_view_module": "@jupyter-widgets/controls",
       "_view_module_version": "1.5.0",
       "_view_name": "HTMLView",
       "description": "",
       "description_tooltip": null,
       "layout": "IPY_MODEL_4339a39518a349ccad89add6a4f0eeb7",
       "placeholder": "​",
       "style": "IPY_MODEL_c4dfaf419a9b4fec9b52d72d73791631",
       "value": "Validating:  99%"
      }
     },
     "852d08abb84d4d9fbe5daedfcfebffca": {
      "model_module": "@jupyter-widgets/controls",
      "model_module_version": "1.5.0",
      "model_name": "HBoxModel",
      "state": {
       "_dom_classes": [],
       "_model_module": "@jupyter-widgets/controls",
       "_model_module_version": "1.5.0",
       "_model_name": "HBoxModel",
       "_view_count": null,
       "_view_module": "@jupyter-widgets/controls",
       "_view_module_version": "1.5.0",
       "_view_name": "HBoxView",
       "box_style": "",
       "children": [
        "IPY_MODEL_924a0a3f85d64171b6d697326ed2d309",
        "IPY_MODEL_9aec331c0c544b7aa9880663f37e3152",
        "IPY_MODEL_d411cf2b33e640589ff4cf4e0282383a"
       ],
       "layout": "IPY_MODEL_931c213401cd4961adbb833a582a634a"
      }
     },
     "85d304f7622b42c3b1ec088d3c69fea8": {
      "model_module": "@jupyter-widgets/controls",
      "model_module_version": "1.5.0",
      "model_name": "DescriptionStyleModel",
      "state": {
       "_model_module": "@jupyter-widgets/controls",
       "_model_module_version": "1.5.0",
       "_model_name": "DescriptionStyleModel",
       "_view_count": null,
       "_view_module": "@jupyter-widgets/base",
       "_view_module_version": "1.2.0",
       "_view_name": "StyleView",
       "description_width": ""
      }
     },
     "8bdc574e7ae940aab52289e188e4753b": {
      "model_module": "@jupyter-widgets/controls",
      "model_module_version": "1.5.0",
      "model_name": "HBoxModel",
      "state": {
       "_dom_classes": [],
       "_model_module": "@jupyter-widgets/controls",
       "_model_module_version": "1.5.0",
       "_model_name": "HBoxModel",
       "_view_count": null,
       "_view_module": "@jupyter-widgets/controls",
       "_view_module_version": "1.5.0",
       "_view_name": "HBoxView",
       "box_style": "",
       "children": [
        "IPY_MODEL_5e16955069b34e809c903945e413a682",
        "IPY_MODEL_426c95b8529d487aad96e3858289a08d",
        "IPY_MODEL_f88a51fc348a4f438ab9ea0b20bf2bd6"
       ],
       "layout": "IPY_MODEL_6932ea4a6d1749a59817e4ea75445087"
      }
     },
     "8ce5cf5741c14bc99a799af656e3d5a9": {
      "model_module": "@jupyter-widgets/controls",
      "model_module_version": "1.5.0",
      "model_name": "ProgressStyleModel",
      "state": {
       "_model_module": "@jupyter-widgets/controls",
       "_model_module_version": "1.5.0",
       "_model_name": "ProgressStyleModel",
       "_view_count": null,
       "_view_module": "@jupyter-widgets/base",
       "_view_module_version": "1.2.0",
       "_view_name": "StyleView",
       "bar_color": null,
       "description_width": ""
      }
     },
     "924a0a3f85d64171b6d697326ed2d309": {
      "model_module": "@jupyter-widgets/controls",
      "model_module_version": "1.5.0",
      "model_name": "HTMLModel",
      "state": {
       "_dom_classes": [],
       "_model_module": "@jupyter-widgets/controls",
       "_model_module_version": "1.5.0",
       "_model_name": "HTMLModel",
       "_view_count": null,
       "_view_module": "@jupyter-widgets/controls",
       "_view_module_version": "1.5.0",
       "_view_name": "HTMLView",
       "description": "",
       "description_tooltip": null,
       "layout": "IPY_MODEL_a10026cf0f604a099e570ab73e34bf95",
       "placeholder": "​",
       "style": "IPY_MODEL_54dcfbcce9ae486d84c0a986f2d17be6",
       "value": "Validation sanity check:  50%"
      }
     },
     "931c213401cd4961adbb833a582a634a": {
      "model_module": "@jupyter-widgets/base",
      "model_module_version": "1.2.0",
      "model_name": "LayoutModel",
      "state": {
       "_model_module": "@jupyter-widgets/base",
       "_model_module_version": "1.2.0",
       "_model_name": "LayoutModel",
       "_view_count": null,
       "_view_module": "@jupyter-widgets/base",
       "_view_module_version": "1.2.0",
       "_view_name": "LayoutView",
       "align_content": null,
       "align_items": null,
       "align_self": null,
       "border": null,
       "bottom": null,
       "display": "inline-flex",
       "flex": null,
       "flex_flow": "row wrap",
       "grid_area": null,
       "grid_auto_columns": null,
       "grid_auto_flow": null,
       "grid_auto_rows": null,
       "grid_column": null,
       "grid_gap": null,
       "grid_row": null,
       "grid_template_areas": null,
       "grid_template_columns": null,
       "grid_template_rows": null,
       "height": null,
       "justify_content": null,
       "justify_items": null,
       "left": null,
       "margin": null,
       "max_height": null,
       "max_width": null,
       "min_height": null,
       "min_width": null,
       "object_fit": null,
       "object_position": null,
       "order": null,
       "overflow": null,
       "overflow_x": null,
       "overflow_y": null,
       "padding": null,
       "right": null,
       "top": null,
       "visibility": null,
       "width": "100%"
      }
     },
     "9aec331c0c544b7aa9880663f37e3152": {
      "model_module": "@jupyter-widgets/controls",
      "model_module_version": "1.5.0",
      "model_name": "FloatProgressModel",
      "state": {
       "_dom_classes": [],
       "_model_module": "@jupyter-widgets/controls",
       "_model_module_version": "1.5.0",
       "_model_name": "FloatProgressModel",
       "_view_count": null,
       "_view_module": "@jupyter-widgets/controls",
       "_view_module_version": "1.5.0",
       "_view_name": "ProgressView",
       "bar_style": "",
       "description": "",
       "description_tooltip": null,
       "layout": "IPY_MODEL_afb885df5a964bbf90b1821058965d65",
       "max": 2,
       "min": 0,
       "orientation": "horizontal",
       "style": "IPY_MODEL_ede1b146236e4282878f8336dd5000b5",
       "value": 2
      }
     },
     "9ff70424df1f463b949d0bf51da568ad": {
      "model_module": "@jupyter-widgets/base",
      "model_module_version": "1.2.0",
      "model_name": "LayoutModel",
      "state": {
       "_model_module": "@jupyter-widgets/base",
       "_model_module_version": "1.2.0",
       "_model_name": "LayoutModel",
       "_view_count": null,
       "_view_module": "@jupyter-widgets/base",
       "_view_module_version": "1.2.0",
       "_view_name": "LayoutView",
       "align_content": null,
       "align_items": null,
       "align_self": null,
       "border": null,
       "bottom": null,
       "display": null,
       "flex": null,
       "flex_flow": null,
       "grid_area": null,
       "grid_auto_columns": null,
       "grid_auto_flow": null,
       "grid_auto_rows": null,
       "grid_column": null,
       "grid_gap": null,
       "grid_row": null,
       "grid_template_areas": null,
       "grid_template_columns": null,
       "grid_template_rows": null,
       "height": null,
       "justify_content": null,
       "justify_items": null,
       "left": null,
       "margin": null,
       "max_height": null,
       "max_width": null,
       "min_height": null,
       "min_width": null,
       "object_fit": null,
       "object_position": null,
       "order": null,
       "overflow": null,
       "overflow_x": null,
       "overflow_y": null,
       "padding": null,
       "right": null,
       "top": null,
       "visibility": null,
       "width": null
      }
     },
     "a10026cf0f604a099e570ab73e34bf95": {
      "model_module": "@jupyter-widgets/base",
      "model_module_version": "1.2.0",
      "model_name": "LayoutModel",
      "state": {
       "_model_module": "@jupyter-widgets/base",
       "_model_module_version": "1.2.0",
       "_model_name": "LayoutModel",
       "_view_count": null,
       "_view_module": "@jupyter-widgets/base",
       "_view_module_version": "1.2.0",
       "_view_name": "LayoutView",
       "align_content": null,
       "align_items": null,
       "align_self": null,
       "border": null,
       "bottom": null,
       "display": null,
       "flex": null,
       "flex_flow": null,
       "grid_area": null,
       "grid_auto_columns": null,
       "grid_auto_flow": null,
       "grid_auto_rows": null,
       "grid_column": null,
       "grid_gap": null,
       "grid_row": null,
       "grid_template_areas": null,
       "grid_template_columns": null,
       "grid_template_rows": null,
       "height": null,
       "justify_content": null,
       "justify_items": null,
       "left": null,
       "margin": null,
       "max_height": null,
       "max_width": null,
       "min_height": null,
       "min_width": null,
       "object_fit": null,
       "object_position": null,
       "order": null,
       "overflow": null,
       "overflow_x": null,
       "overflow_y": null,
       "padding": null,
       "right": null,
       "top": null,
       "visibility": null,
       "width": null
      }
     },
     "ac563db25e284a0c94cd2fd8a5a2adcb": {
      "model_module": "@jupyter-widgets/base",
      "model_module_version": "1.2.0",
      "model_name": "LayoutModel",
      "state": {
       "_model_module": "@jupyter-widgets/base",
       "_model_module_version": "1.2.0",
       "_model_name": "LayoutModel",
       "_view_count": null,
       "_view_module": "@jupyter-widgets/base",
       "_view_module_version": "1.2.0",
       "_view_name": "LayoutView",
       "align_content": null,
       "align_items": null,
       "align_self": null,
       "border": null,
       "bottom": null,
       "display": null,
       "flex": null,
       "flex_flow": null,
       "grid_area": null,
       "grid_auto_columns": null,
       "grid_auto_flow": null,
       "grid_auto_rows": null,
       "grid_column": null,
       "grid_gap": null,
       "grid_row": null,
       "grid_template_areas": null,
       "grid_template_columns": null,
       "grid_template_rows": null,
       "height": null,
       "justify_content": null,
       "justify_items": null,
       "left": null,
       "margin": null,
       "max_height": null,
       "max_width": null,
       "min_height": null,
       "min_width": null,
       "object_fit": null,
       "object_position": null,
       "order": null,
       "overflow": null,
       "overflow_x": null,
       "overflow_y": null,
       "padding": null,
       "right": null,
       "top": null,
       "visibility": null,
       "width": null
      }
     },
     "afb885df5a964bbf90b1821058965d65": {
      "model_module": "@jupyter-widgets/base",
      "model_module_version": "1.2.0",
      "model_name": "LayoutModel",
      "state": {
       "_model_module": "@jupyter-widgets/base",
       "_model_module_version": "1.2.0",
       "_model_name": "LayoutModel",
       "_view_count": null,
       "_view_module": "@jupyter-widgets/base",
       "_view_module_version": "1.2.0",
       "_view_name": "LayoutView",
       "align_content": null,
       "align_items": null,
       "align_self": null,
       "border": null,
       "bottom": null,
       "display": null,
       "flex": "2",
       "flex_flow": null,
       "grid_area": null,
       "grid_auto_columns": null,
       "grid_auto_flow": null,
       "grid_auto_rows": null,
       "grid_column": null,
       "grid_gap": null,
       "grid_row": null,
       "grid_template_areas": null,
       "grid_template_columns": null,
       "grid_template_rows": null,
       "height": null,
       "justify_content": null,
       "justify_items": null,
       "left": null,
       "margin": null,
       "max_height": null,
       "max_width": null,
       "min_height": null,
       "min_width": null,
       "object_fit": null,
       "object_position": null,
       "order": null,
       "overflow": null,
       "overflow_x": null,
       "overflow_y": null,
       "padding": null,
       "right": null,
       "top": null,
       "visibility": null,
       "width": null
      }
     },
     "afd0110b283645b891331db3a10e9a7e": {
      "model_module": "@jupyter-widgets/controls",
      "model_module_version": "1.5.0",
      "model_name": "ProgressStyleModel",
      "state": {
       "_model_module": "@jupyter-widgets/controls",
       "_model_module_version": "1.5.0",
       "_model_name": "ProgressStyleModel",
       "_view_count": null,
       "_view_module": "@jupyter-widgets/base",
       "_view_module_version": "1.2.0",
       "_view_name": "StyleView",
       "bar_color": null,
       "description_width": ""
      }
     },
     "b2130fc6a00949e9a8d82e1223777f17": {
      "model_module": "@jupyter-widgets/controls",
      "model_module_version": "1.5.0",
      "model_name": "FloatProgressModel",
      "state": {
       "_dom_classes": [],
       "_model_module": "@jupyter-widgets/controls",
       "_model_module_version": "1.5.0",
       "_model_name": "FloatProgressModel",
       "_view_count": null,
       "_view_module": "@jupyter-widgets/controls",
       "_view_module_version": "1.5.0",
       "_view_name": "ProgressView",
       "bar_style": "",
       "description": "",
       "description_tooltip": null,
       "layout": "IPY_MODEL_12dea99305cf4b169b8d1f6f53b8755f",
       "max": 94,
       "min": 0,
       "orientation": "horizontal",
       "style": "IPY_MODEL_afd0110b283645b891331db3a10e9a7e",
       "value": 94
      }
     },
     "b7ac2c552e4e460a90b2ece88e4cfeb5": {
      "model_module": "@jupyter-widgets/controls",
      "model_module_version": "1.5.0",
      "model_name": "DescriptionStyleModel",
      "state": {
       "_model_module": "@jupyter-widgets/controls",
       "_model_module_version": "1.5.0",
       "_model_name": "DescriptionStyleModel",
       "_view_count": null,
       "_view_module": "@jupyter-widgets/base",
       "_view_module_version": "1.2.0",
       "_view_name": "StyleView",
       "description_width": ""
      }
     },
     "bb6187eeef954b3d98ebc8062a5dea89": {
      "model_module": "@jupyter-widgets/controls",
      "model_module_version": "1.5.0",
      "model_name": "FloatProgressModel",
      "state": {
       "_dom_classes": [],
       "_model_module": "@jupyter-widgets/controls",
       "_model_module_version": "1.5.0",
       "_model_name": "FloatProgressModel",
       "_view_count": null,
       "_view_module": "@jupyter-widgets/controls",
       "_view_module_version": "1.5.0",
       "_view_name": "ProgressView",
       "bar_style": "",
       "description": "",
       "description_tooltip": null,
       "layout": "IPY_MODEL_ac563db25e284a0c94cd2fd8a5a2adcb",
       "max": 1,
       "min": 0,
       "orientation": "horizontal",
       "style": "IPY_MODEL_fecb2df664554850929969156e27bdcb",
       "value": 0
      }
     },
     "bc642f61441e40ab997d6e69eed0b24e": {
      "model_module": "@jupyter-widgets/base",
      "model_module_version": "1.2.0",
      "model_name": "LayoutModel",
      "state": {
       "_model_module": "@jupyter-widgets/base",
       "_model_module_version": "1.2.0",
       "_model_name": "LayoutModel",
       "_view_count": null,
       "_view_module": "@jupyter-widgets/base",
       "_view_module_version": "1.2.0",
       "_view_name": "LayoutView",
       "align_content": null,
       "align_items": null,
       "align_self": null,
       "border": null,
       "bottom": null,
       "display": null,
       "flex": null,
       "flex_flow": null,
       "grid_area": null,
       "grid_auto_columns": null,
       "grid_auto_flow": null,
       "grid_auto_rows": null,
       "grid_column": null,
       "grid_gap": null,
       "grid_row": null,
       "grid_template_areas": null,
       "grid_template_columns": null,
       "grid_template_rows": null,
       "height": null,
       "justify_content": null,
       "justify_items": null,
       "left": null,
       "margin": null,
       "max_height": null,
       "max_width": null,
       "min_height": null,
       "min_width": null,
       "object_fit": null,
       "object_position": null,
       "order": null,
       "overflow": null,
       "overflow_x": null,
       "overflow_y": null,
       "padding": null,
       "right": null,
       "top": null,
       "visibility": null,
       "width": null
      }
     },
     "bd08e2a3dabf4af986749fe1634af3ad": {
      "model_module": "@jupyter-widgets/controls",
      "model_module_version": "1.5.0",
      "model_name": "HTMLModel",
      "state": {
       "_dom_classes": [],
       "_model_module": "@jupyter-widgets/controls",
       "_model_module_version": "1.5.0",
       "_model_name": "HTMLModel",
       "_view_count": null,
       "_view_module": "@jupyter-widgets/controls",
       "_view_module_version": "1.5.0",
       "_view_name": "HTMLView",
       "description": "",
       "description_tooltip": null,
       "layout": "IPY_MODEL_e015baae76cc48daa9d3dee7c2a9059a",
       "placeholder": "​",
       "style": "IPY_MODEL_85d304f7622b42c3b1ec088d3c69fea8",
       "value": " 93/94 [01:12&lt;00:00,  1.30it/s]"
      }
     },
     "be769eab244449f490b7f3464560eeac": {
      "model_module": "@jupyter-widgets/controls",
      "model_module_version": "1.5.0",
      "model_name": "DescriptionStyleModel",
      "state": {
       "_model_module": "@jupyter-widgets/controls",
       "_model_module_version": "1.5.0",
       "_model_name": "DescriptionStyleModel",
       "_view_count": null,
       "_view_module": "@jupyter-widgets/base",
       "_view_module_version": "1.2.0",
       "_view_name": "StyleView",
       "description_width": ""
      }
     },
     "c47a2da662d446f5a291276241b3b568": {
      "model_module": "@jupyter-widgets/base",
      "model_module_version": "1.2.0",
      "model_name": "LayoutModel",
      "state": {
       "_model_module": "@jupyter-widgets/base",
       "_model_module_version": "1.2.0",
       "_model_name": "LayoutModel",
       "_view_count": null,
       "_view_module": "@jupyter-widgets/base",
       "_view_module_version": "1.2.0",
       "_view_name": "LayoutView",
       "align_content": null,
       "align_items": null,
       "align_self": null,
       "border": null,
       "bottom": null,
       "display": "inline-flex",
       "flex": null,
       "flex_flow": "row wrap",
       "grid_area": null,
       "grid_auto_columns": null,
       "grid_auto_flow": null,
       "grid_auto_rows": null,
       "grid_column": null,
       "grid_gap": null,
       "grid_row": null,
       "grid_template_areas": null,
       "grid_template_columns": null,
       "grid_template_rows": null,
       "height": null,
       "justify_content": null,
       "justify_items": null,
       "left": null,
       "margin": null,
       "max_height": null,
       "max_width": null,
       "min_height": null,
       "min_width": null,
       "object_fit": null,
       "object_position": null,
       "order": null,
       "overflow": null,
       "overflow_x": null,
       "overflow_y": null,
       "padding": null,
       "right": null,
       "top": null,
       "visibility": null,
       "width": "100%"
      }
     },
     "c4dfaf419a9b4fec9b52d72d73791631": {
      "model_module": "@jupyter-widgets/controls",
      "model_module_version": "1.5.0",
      "model_name": "DescriptionStyleModel",
      "state": {
       "_model_module": "@jupyter-widgets/controls",
       "_model_module_version": "1.5.0",
       "_model_name": "DescriptionStyleModel",
       "_view_count": null,
       "_view_module": "@jupyter-widgets/base",
       "_view_module_version": "1.2.0",
       "_view_name": "StyleView",
       "description_width": ""
      }
     },
     "cd13b4a09c6c44f894140c365580a671": {
      "model_module": "@jupyter-widgets/controls",
      "model_module_version": "1.5.0",
      "model_name": "DescriptionStyleModel",
      "state": {
       "_model_module": "@jupyter-widgets/controls",
       "_model_module_version": "1.5.0",
       "_model_name": "DescriptionStyleModel",
       "_view_count": null,
       "_view_module": "@jupyter-widgets/base",
       "_view_module_version": "1.2.0",
       "_view_name": "StyleView",
       "description_width": ""
      }
     },
     "d02d505f35f04de2824834a8bbcacffd": {
      "model_module": "@jupyter-widgets/base",
      "model_module_version": "1.2.0",
      "model_name": "LayoutModel",
      "state": {
       "_model_module": "@jupyter-widgets/base",
       "_model_module_version": "1.2.0",
       "_model_name": "LayoutModel",
       "_view_count": null,
       "_view_module": "@jupyter-widgets/base",
       "_view_module_version": "1.2.0",
       "_view_name": "LayoutView",
       "align_content": null,
       "align_items": null,
       "align_self": null,
       "border": null,
       "bottom": null,
       "display": null,
       "flex": "2",
       "flex_flow": null,
       "grid_area": null,
       "grid_auto_columns": null,
       "grid_auto_flow": null,
       "grid_auto_rows": null,
       "grid_column": null,
       "grid_gap": null,
       "grid_row": null,
       "grid_template_areas": null,
       "grid_template_columns": null,
       "grid_template_rows": null,
       "height": null,
       "justify_content": null,
       "justify_items": null,
       "left": null,
       "margin": null,
       "max_height": null,
       "max_width": null,
       "min_height": null,
       "min_width": null,
       "object_fit": null,
       "object_position": null,
       "order": null,
       "overflow": null,
       "overflow_x": null,
       "overflow_y": null,
       "padding": null,
       "right": null,
       "top": null,
       "visibility": null,
       "width": null
      }
     },
     "d336009f87094e6ca9dd5b15d33b3e1e": {
      "model_module": "@jupyter-widgets/base",
      "model_module_version": "1.2.0",
      "model_name": "LayoutModel",
      "state": {
       "_model_module": "@jupyter-widgets/base",
       "_model_module_version": "1.2.0",
       "_model_name": "LayoutModel",
       "_view_count": null,
       "_view_module": "@jupyter-widgets/base",
       "_view_module_version": "1.2.0",
       "_view_name": "LayoutView",
       "align_content": null,
       "align_items": null,
       "align_self": null,
       "border": null,
       "bottom": null,
       "display": null,
       "flex": "2",
       "flex_flow": null,
       "grid_area": null,
       "grid_auto_columns": null,
       "grid_auto_flow": null,
       "grid_auto_rows": null,
       "grid_column": null,
       "grid_gap": null,
       "grid_row": null,
       "grid_template_areas": null,
       "grid_template_columns": null,
       "grid_template_rows": null,
       "height": null,
       "justify_content": null,
       "justify_items": null,
       "left": null,
       "margin": null,
       "max_height": null,
       "max_width": null,
       "min_height": null,
       "min_width": null,
       "object_fit": null,
       "object_position": null,
       "order": null,
       "overflow": null,
       "overflow_x": null,
       "overflow_y": null,
       "padding": null,
       "right": null,
       "top": null,
       "visibility": null,
       "width": null
      }
     },
     "d37fba86abba40f88e9f7649dde6898c": {
      "model_module": "@jupyter-widgets/controls",
      "model_module_version": "1.5.0",
      "model_name": "HBoxModel",
      "state": {
       "_dom_classes": [],
       "_model_module": "@jupyter-widgets/controls",
       "_model_module_version": "1.5.0",
       "_model_name": "HBoxModel",
       "_view_count": null,
       "_view_module": "@jupyter-widgets/controls",
       "_view_module_version": "1.5.0",
       "_view_name": "HBoxView",
       "box_style": "",
       "children": [
        "IPY_MODEL_83ce485b6a684e728a76554a6bdfdd6d",
        "IPY_MODEL_daa11ab0bab94e89ae72bc888dea8b8b",
        "IPY_MODEL_2899231fe63b41ddb1ba34222ea1fa82"
       ],
       "layout": "IPY_MODEL_5ade0a14dcdf42439b5b289819d5861b"
      }
     },
     "d411cf2b33e640589ff4cf4e0282383a": {
      "model_module": "@jupyter-widgets/controls",
      "model_module_version": "1.5.0",
      "model_name": "HTMLModel",
      "state": {
       "_dom_classes": [],
       "_model_module": "@jupyter-widgets/controls",
       "_model_module_version": "1.5.0",
       "_model_name": "HTMLModel",
       "_view_count": null,
       "_view_module": "@jupyter-widgets/controls",
       "_view_module_version": "1.5.0",
       "_view_name": "HTMLView",
       "description": "",
       "description_tooltip": null,
       "layout": "IPY_MODEL_23a34729ac5544e3a1559076a60d0cd2",
       "placeholder": "​",
       "style": "IPY_MODEL_e1ed5e70998c4bb5b2c61a5cc4996c54",
       "value": " 1/2 [00:05&lt;00:05,  5.55s/it]"
      }
     },
     "d4e4ea114bf04d7bbf0fa2e7ffba6ddf": {
      "model_module": "@jupyter-widgets/controls",
      "model_module_version": "1.5.0",
      "model_name": "HTMLModel",
      "state": {
       "_dom_classes": [],
       "_model_module": "@jupyter-widgets/controls",
       "_model_module_version": "1.5.0",
       "_model_name": "HTMLModel",
       "_view_count": null,
       "_view_module": "@jupyter-widgets/controls",
       "_view_module_version": "1.5.0",
       "_view_name": "HTMLView",
       "description": "",
       "description_tooltip": null,
       "layout": "IPY_MODEL_7a0f201528b04c95ae68eea1a19fcdc6",
       "placeholder": "​",
       "style": "IPY_MODEL_545e4923678c43c1a2d7557d8b286546",
       "value": "Epoch 4: 100%"
      }
     },
     "d6a65e81daac49eea484cd67f27266b5": {
      "model_module": "@jupyter-widgets/base",
      "model_module_version": "1.2.0",
      "model_name": "LayoutModel",
      "state": {
       "_model_module": "@jupyter-widgets/base",
       "_model_module_version": "1.2.0",
       "_model_name": "LayoutModel",
       "_view_count": null,
       "_view_module": "@jupyter-widgets/base",
       "_view_module_version": "1.2.0",
       "_view_name": "LayoutView",
       "align_content": null,
       "align_items": null,
       "align_self": null,
       "border": null,
       "bottom": null,
       "display": null,
       "flex": null,
       "flex_flow": null,
       "grid_area": null,
       "grid_auto_columns": null,
       "grid_auto_flow": null,
       "grid_auto_rows": null,
       "grid_column": null,
       "grid_gap": null,
       "grid_row": null,
       "grid_template_areas": null,
       "grid_template_columns": null,
       "grid_template_rows": null,
       "height": null,
       "justify_content": null,
       "justify_items": null,
       "left": null,
       "margin": null,
       "max_height": null,
       "max_width": null,
       "min_height": null,
       "min_width": null,
       "object_fit": null,
       "object_position": null,
       "order": null,
       "overflow": null,
       "overflow_x": null,
       "overflow_y": null,
       "padding": null,
       "right": null,
       "top": null,
       "visibility": null,
       "width": null
      }
     },
     "da0c4c9353764ca4823ee6b6bd0f2d75": {
      "model_module": "@jupyter-widgets/base",
      "model_module_version": "1.2.0",
      "model_name": "LayoutModel",
      "state": {
       "_model_module": "@jupyter-widgets/base",
       "_model_module_version": "1.2.0",
       "_model_name": "LayoutModel",
       "_view_count": null,
       "_view_module": "@jupyter-widgets/base",
       "_view_module_version": "1.2.0",
       "_view_name": "LayoutView",
       "align_content": null,
       "align_items": null,
       "align_self": null,
       "border": null,
       "bottom": null,
       "display": null,
       "flex": null,
       "flex_flow": null,
       "grid_area": null,
       "grid_auto_columns": null,
       "grid_auto_flow": null,
       "grid_auto_rows": null,
       "grid_column": null,
       "grid_gap": null,
       "grid_row": null,
       "grid_template_areas": null,
       "grid_template_columns": null,
       "grid_template_rows": null,
       "height": null,
       "justify_content": null,
       "justify_items": null,
       "left": null,
       "margin": null,
       "max_height": null,
       "max_width": null,
       "min_height": null,
       "min_width": null,
       "object_fit": null,
       "object_position": null,
       "order": null,
       "overflow": null,
       "overflow_x": null,
       "overflow_y": null,
       "padding": null,
       "right": null,
       "top": null,
       "visibility": null,
       "width": null
      }
     },
     "daa11ab0bab94e89ae72bc888dea8b8b": {
      "model_module": "@jupyter-widgets/controls",
      "model_module_version": "1.5.0",
      "model_name": "FloatProgressModel",
      "state": {
       "_dom_classes": [],
       "_model_module": "@jupyter-widgets/controls",
       "_model_module_version": "1.5.0",
       "_model_name": "FloatProgressModel",
       "_view_count": null,
       "_view_module": "@jupyter-widgets/controls",
       "_view_module_version": "1.5.0",
       "_view_name": "ProgressView",
       "bar_style": "",
       "description": "",
       "description_tooltip": null,
       "layout": "IPY_MODEL_d336009f87094e6ca9dd5b15d33b3e1e",
       "max": 94,
       "min": 0,
       "orientation": "horizontal",
       "style": "IPY_MODEL_36a6949cce914489b5ab4346f86bb272",
       "value": 94
      }
     },
     "dd74bc90517349099b985262b7350a46": {
      "model_module": "@jupyter-widgets/base",
      "model_module_version": "1.2.0",
      "model_name": "LayoutModel",
      "state": {
       "_model_module": "@jupyter-widgets/base",
       "_model_module_version": "1.2.0",
       "_model_name": "LayoutModel",
       "_view_count": null,
       "_view_module": "@jupyter-widgets/base",
       "_view_module_version": "1.2.0",
       "_view_name": "LayoutView",
       "align_content": null,
       "align_items": null,
       "align_self": null,
       "border": null,
       "bottom": null,
       "display": null,
       "flex": null,
       "flex_flow": null,
       "grid_area": null,
       "grid_auto_columns": null,
       "grid_auto_flow": null,
       "grid_auto_rows": null,
       "grid_column": null,
       "grid_gap": null,
       "grid_row": null,
       "grid_template_areas": null,
       "grid_template_columns": null,
       "grid_template_rows": null,
       "height": null,
       "justify_content": null,
       "justify_items": null,
       "left": null,
       "margin": null,
       "max_height": null,
       "max_width": null,
       "min_height": null,
       "min_width": null,
       "object_fit": null,
       "object_position": null,
       "order": null,
       "overflow": null,
       "overflow_x": null,
       "overflow_y": null,
       "padding": null,
       "right": null,
       "top": null,
       "visibility": null,
       "width": null
      }
     },
     "e015baae76cc48daa9d3dee7c2a9059a": {
      "model_module": "@jupyter-widgets/base",
      "model_module_version": "1.2.0",
      "model_name": "LayoutModel",
      "state": {
       "_model_module": "@jupyter-widgets/base",
       "_model_module_version": "1.2.0",
       "_model_name": "LayoutModel",
       "_view_count": null,
       "_view_module": "@jupyter-widgets/base",
       "_view_module_version": "1.2.0",
       "_view_name": "LayoutView",
       "align_content": null,
       "align_items": null,
       "align_self": null,
       "border": null,
       "bottom": null,
       "display": null,
       "flex": null,
       "flex_flow": null,
       "grid_area": null,
       "grid_auto_columns": null,
       "grid_auto_flow": null,
       "grid_auto_rows": null,
       "grid_column": null,
       "grid_gap": null,
       "grid_row": null,
       "grid_template_areas": null,
       "grid_template_columns": null,
       "grid_template_rows": null,
       "height": null,
       "justify_content": null,
       "justify_items": null,
       "left": null,
       "margin": null,
       "max_height": null,
       "max_width": null,
       "min_height": null,
       "min_width": null,
       "object_fit": null,
       "object_position": null,
       "order": null,
       "overflow": null,
       "overflow_x": null,
       "overflow_y": null,
       "padding": null,
       "right": null,
       "top": null,
       "visibility": null,
       "width": null
      }
     },
     "e1ed5e70998c4bb5b2c61a5cc4996c54": {
      "model_module": "@jupyter-widgets/controls",
      "model_module_version": "1.5.0",
      "model_name": "DescriptionStyleModel",
      "state": {
       "_model_module": "@jupyter-widgets/controls",
       "_model_module_version": "1.5.0",
       "_model_name": "DescriptionStyleModel",
       "_view_count": null,
       "_view_module": "@jupyter-widgets/base",
       "_view_module_version": "1.2.0",
       "_view_name": "StyleView",
       "description_width": ""
      }
     },
     "ebf980f59a6b40baaa72c692534ad360": {
      "model_module": "@jupyter-widgets/base",
      "model_module_version": "1.2.0",
      "model_name": "LayoutModel",
      "state": {
       "_model_module": "@jupyter-widgets/base",
       "_model_module_version": "1.2.0",
       "_model_name": "LayoutModel",
       "_view_count": null,
       "_view_module": "@jupyter-widgets/base",
       "_view_module_version": "1.2.0",
       "_view_name": "LayoutView",
       "align_content": null,
       "align_items": null,
       "align_self": null,
       "border": null,
       "bottom": null,
       "display": null,
       "flex": "2",
       "flex_flow": null,
       "grid_area": null,
       "grid_auto_columns": null,
       "grid_auto_flow": null,
       "grid_auto_rows": null,
       "grid_column": null,
       "grid_gap": null,
       "grid_row": null,
       "grid_template_areas": null,
       "grid_template_columns": null,
       "grid_template_rows": null,
       "height": null,
       "justify_content": null,
       "justify_items": null,
       "left": null,
       "margin": null,
       "max_height": null,
       "max_width": null,
       "min_height": null,
       "min_width": null,
       "object_fit": null,
       "object_position": null,
       "order": null,
       "overflow": null,
       "overflow_x": null,
       "overflow_y": null,
       "padding": null,
       "right": null,
       "top": null,
       "visibility": null,
       "width": null
      }
     },
     "ede1b146236e4282878f8336dd5000b5": {
      "model_module": "@jupyter-widgets/controls",
      "model_module_version": "1.5.0",
      "model_name": "ProgressStyleModel",
      "state": {
       "_model_module": "@jupyter-widgets/controls",
       "_model_module_version": "1.5.0",
       "_model_name": "ProgressStyleModel",
       "_view_count": null,
       "_view_module": "@jupyter-widgets/base",
       "_view_module_version": "1.2.0",
       "_view_name": "StyleView",
       "bar_color": null,
       "description_width": ""
      }
     },
     "f1057b4b9f1445a992e3318b931f74fb": {
      "model_module": "@jupyter-widgets/base",
      "model_module_version": "1.2.0",
      "model_name": "LayoutModel",
      "state": {
       "_model_module": "@jupyter-widgets/base",
       "_model_module_version": "1.2.0",
       "_model_name": "LayoutModel",
       "_view_count": null,
       "_view_module": "@jupyter-widgets/base",
       "_view_module_version": "1.2.0",
       "_view_name": "LayoutView",
       "align_content": null,
       "align_items": null,
       "align_self": null,
       "border": null,
       "bottom": null,
       "display": null,
       "flex": null,
       "flex_flow": null,
       "grid_area": null,
       "grid_auto_columns": null,
       "grid_auto_flow": null,
       "grid_auto_rows": null,
       "grid_column": null,
       "grid_gap": null,
       "grid_row": null,
       "grid_template_areas": null,
       "grid_template_columns": null,
       "grid_template_rows": null,
       "height": null,
       "justify_content": null,
       "justify_items": null,
       "left": null,
       "margin": null,
       "max_height": null,
       "max_width": null,
       "min_height": null,
       "min_width": null,
       "object_fit": null,
       "object_position": null,
       "order": null,
       "overflow": null,
       "overflow_x": null,
       "overflow_y": null,
       "padding": null,
       "right": null,
       "top": null,
       "visibility": null,
       "width": null
      }
     },
     "f3e0d08e2cd540d6a938d8444827c050": {
      "model_module": "@jupyter-widgets/base",
      "model_module_version": "1.2.0",
      "model_name": "LayoutModel",
      "state": {
       "_model_module": "@jupyter-widgets/base",
       "_model_module_version": "1.2.0",
       "_model_name": "LayoutModel",
       "_view_count": null,
       "_view_module": "@jupyter-widgets/base",
       "_view_module_version": "1.2.0",
       "_view_name": "LayoutView",
       "align_content": null,
       "align_items": null,
       "align_self": null,
       "border": null,
       "bottom": null,
       "display": "inline-flex",
       "flex": null,
       "flex_flow": "row wrap",
       "grid_area": null,
       "grid_auto_columns": null,
       "grid_auto_flow": null,
       "grid_auto_rows": null,
       "grid_column": null,
       "grid_gap": null,
       "grid_row": null,
       "grid_template_areas": null,
       "grid_template_columns": null,
       "grid_template_rows": null,
       "height": null,
       "justify_content": null,
       "justify_items": null,
       "left": null,
       "margin": null,
       "max_height": null,
       "max_width": null,
       "min_height": null,
       "min_width": null,
       "object_fit": null,
       "object_position": null,
       "order": null,
       "overflow": null,
       "overflow_x": null,
       "overflow_y": null,
       "padding": null,
       "right": null,
       "top": null,
       "visibility": null,
       "width": "100%"
      }
     },
     "f78635e0ad7147519400e77b91811ae6": {
      "model_module": "@jupyter-widgets/controls",
      "model_module_version": "1.5.0",
      "model_name": "HTMLModel",
      "state": {
       "_dom_classes": [],
       "_model_module": "@jupyter-widgets/controls",
       "_model_module_version": "1.5.0",
       "_model_name": "HTMLModel",
       "_view_count": null,
       "_view_module": "@jupyter-widgets/controls",
       "_view_module_version": "1.5.0",
       "_view_name": "HTMLView",
       "description": "",
       "description_tooltip": null,
       "layout": "IPY_MODEL_701dcb5132824bd5baa830cb7d427e78",
       "placeholder": "​",
       "style": "IPY_MODEL_b7ac2c552e4e460a90b2ece88e4cfeb5",
       "value": " 469/469 [08:44&lt;00:00,  1.12s/it, loss=0.27, v_num=4qw7, val_loss_epoch=0.256, val_auc=0.731, auc=0.697, mean_train_auc=0.722, lr=9.64e-5, val_loss_step=0.151]"
      }
     },
     "f7ae624b432843e088f35e0099f2070f": {
      "model_module": "@jupyter-widgets/controls",
      "model_module_version": "1.5.0",
      "model_name": "HBoxModel",
      "state": {
       "_dom_classes": [],
       "_model_module": "@jupyter-widgets/controls",
       "_model_module_version": "1.5.0",
       "_model_name": "HBoxModel",
       "_view_count": null,
       "_view_module": "@jupyter-widgets/controls",
       "_view_module_version": "1.5.0",
       "_view_name": "HBoxView",
       "box_style": "",
       "children": [
        "IPY_MODEL_5964b6b0a8234f2f82f35d28407bd7c5",
        "IPY_MODEL_53490c31100c4e6c866aa528a5684217",
        "IPY_MODEL_1bf8d36d994c4cfab1a2cc6cc142034d"
       ],
       "layout": "IPY_MODEL_f3e0d08e2cd540d6a938d8444827c050"
      }
     },
     "f88a51fc348a4f438ab9ea0b20bf2bd6": {
      "model_module": "@jupyter-widgets/controls",
      "model_module_version": "1.5.0",
      "model_name": "HTMLModel",
      "state": {
       "_dom_classes": [],
       "_model_module": "@jupyter-widgets/controls",
       "_model_module_version": "1.5.0",
       "_model_name": "HTMLModel",
       "_view_count": null,
       "_view_module": "@jupyter-widgets/controls",
       "_view_module_version": "1.5.0",
       "_view_name": "HTMLView",
       "description": "",
       "description_tooltip": null,
       "layout": "IPY_MODEL_7fd276fb2d6140f69693454089f66d57",
       "placeholder": "​",
       "style": "IPY_MODEL_5b6bd449acf24f318e7779210089cae4",
       "value": " 93/94 [01:15&lt;00:00,  1.18it/s]"
      }
     },
     "f97d4be39bc34c2a8574c6f4fabc0c69": {
      "model_module": "@jupyter-widgets/controls",
      "model_module_version": "1.5.0",
      "model_name": "ProgressStyleModel",
      "state": {
       "_model_module": "@jupyter-widgets/controls",
       "_model_module_version": "1.5.0",
       "_model_name": "ProgressStyleModel",
       "_view_count": null,
       "_view_module": "@jupyter-widgets/base",
       "_view_module_version": "1.2.0",
       "_view_name": "StyleView",
       "bar_color": null,
       "description_width": ""
      }
     },
     "fe0a596d399b4d49b9d91479a67315d8": {
      "model_module": "@jupyter-widgets/base",
      "model_module_version": "1.2.0",
      "model_name": "LayoutModel",
      "state": {
       "_model_module": "@jupyter-widgets/base",
       "_model_module_version": "1.2.0",
       "_model_name": "LayoutModel",
       "_view_count": null,
       "_view_module": "@jupyter-widgets/base",
       "_view_module_version": "1.2.0",
       "_view_name": "LayoutView",
       "align_content": null,
       "align_items": null,
       "align_self": null,
       "border": null,
       "bottom": null,
       "display": null,
       "flex": null,
       "flex_flow": null,
       "grid_area": null,
       "grid_auto_columns": null,
       "grid_auto_flow": null,
       "grid_auto_rows": null,
       "grid_column": null,
       "grid_gap": null,
       "grid_row": null,
       "grid_template_areas": null,
       "grid_template_columns": null,
       "grid_template_rows": null,
       "height": null,
       "justify_content": null,
       "justify_items": null,
       "left": null,
       "margin": null,
       "max_height": null,
       "max_width": null,
       "min_height": null,
       "min_width": null,
       "object_fit": null,
       "object_position": null,
       "order": null,
       "overflow": null,
       "overflow_x": null,
       "overflow_y": null,
       "padding": null,
       "right": null,
       "top": null,
       "visibility": null,
       "width": null
      }
     },
     "fecb2df664554850929969156e27bdcb": {
      "model_module": "@jupyter-widgets/controls",
      "model_module_version": "1.5.0",
      "model_name": "ProgressStyleModel",
      "state": {
       "_model_module": "@jupyter-widgets/controls",
       "_model_module_version": "1.5.0",
       "_model_name": "ProgressStyleModel",
       "_view_count": null,
       "_view_module": "@jupyter-widgets/base",
       "_view_module_version": "1.2.0",
       "_view_name": "StyleView",
       "bar_color": null,
       "description_width": ""
      }
     }
    },
    "version_major": 2,
    "version_minor": 0
   }
  }
 },
 "nbformat": 4,
 "nbformat_minor": 5
}
