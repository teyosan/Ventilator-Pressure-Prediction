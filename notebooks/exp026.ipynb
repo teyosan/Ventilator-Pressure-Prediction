{
 "cells": [
  {
   "cell_type": "markdown",
   "id": "piano-thread",
   "metadata": {
    "papermill": {
     "duration": 0.022464,
     "end_time": "2021-08-11T02:23:34.652267",
     "exception": false,
     "start_time": "2021-08-11T02:23:34.629803",
     "status": "completed"
    },
    "tags": []
   },
   "source": [
    "## Get env"
   ]
  },
  {
   "cell_type": "code",
   "execution_count": 1,
   "id": "demonstrated-moisture",
   "metadata": {
    "execution": {
     "iopub.execute_input": "2021-08-11T02:23:34.708820Z",
     "iopub.status.busy": "2021-08-11T02:23:34.708174Z",
     "iopub.status.idle": "2021-08-11T02:23:35.418895Z",
     "shell.execute_reply": "2021-08-11T02:23:35.419315Z",
     "shell.execute_reply.started": "2021-08-11T01:41:01.998026Z"
    },
    "papermill": {
     "duration": 0.746454,
     "end_time": "2021-08-11T02:23:35.419572",
     "exception": false,
     "start_time": "2021-08-11T02:23:34.673118",
     "status": "completed"
    },
    "tags": []
   },
   "outputs": [
    {
     "name": "stdout",
     "output_type": "stream",
     "text": [
      "Fri Oct  8 06:39:01 2021       \n",
      "+-----------------------------------------------------------------------------+\n",
      "| NVIDIA-SMI 471.11       Driver Version: 471.11       CUDA Version: 11.4     |\n",
      "|-------------------------------+----------------------+----------------------+\n",
      "| GPU  Name            TCC/WDDM | Bus-Id        Disp.A | Volatile Uncorr. ECC |\n",
      "| Fan  Temp  Perf  Pwr:Usage/Cap|         Memory-Usage | GPU-Util  Compute M. |\n",
      "|                               |                      |               MIG M. |\n",
      "|===============================+======================+======================|\n",
      "|   0  NVIDIA GeForce ... WDDM  | 00000000:07:00.0  On |                  N/A |\n",
      "|  0%   44C    P8    24W / 370W |   1460MiB / 24576MiB |      9%      Default |\n",
      "|                               |                      |                  N/A |\n",
      "+-------------------------------+----------------------+----------------------+\n",
      "                                                                               \n",
      "+-----------------------------------------------------------------------------+\n",
      "| Processes:                                                                  |\n",
      "|  GPU   GI   CI        PID   Type   Process name                  GPU Memory |\n",
      "|        ID   ID                                                   Usage      |\n",
      "|=============================================================================|\n",
      "|    0   N/A  N/A      1264    C+G   Insufficient Permissions        N/A      |\n",
      "|    0   N/A  N/A      3852    C+G   ...ram Files\\LGHUB\\lghub.exe    N/A      |\n",
      "|    0   N/A  N/A      4624    C+G   ...y\\ShellExperienceHost.exe    N/A      |\n",
      "|    0   N/A  N/A      4784    C+G   ...me\\Application\\chrome.exe    N/A      |\n",
      "|    0   N/A  N/A      9184    C+G   ...nputApp\\TextInputHost.exe    N/A      |\n",
      "|    0   N/A  N/A      9320    C+G   C:\\Windows\\explorer.exe         N/A      |\n",
      "|    0   N/A  N/A     10376    C+G   ...5n1h2txyewy\\SearchApp.exe    N/A      |\n",
      "|    0   N/A  N/A     11152    C+G   ...ICATION\\x-APPLICATION.exe    N/A      |\n",
      "|    0   N/A  N/A     11528    C+G   ...ekyb3d8bbwe\\YourPhone.exe    N/A      |\n",
      "|    0   N/A  N/A     11952    C+G   ...wekyb3d8bbwe\\Video.UI.exe    N/A      |\n",
      "|    0   N/A  N/A     12180    C+G   ...cw5n1h2txyewy\\LockApp.exe    N/A      |\n",
      "|    0   N/A  N/A     13412    C+G   ...perience\\NVIDIA Share.exe    N/A      |\n",
      "|    0   N/A  N/A     14024    C+G   ...pL\\app-2.9.2501\\DeepL.exe    N/A      |\n",
      "|    0   N/A  N/A     14168    C+G   ...perience\\NVIDIA Share.exe    N/A      |\n",
      "|    0   N/A  N/A     14736    C+G   ...in7x64\\steamwebhelper.exe    N/A      |\n",
      "|    0   N/A  N/A     15044    C+G   ...arp.BrowserSubprocess.exe    N/A      |\n",
      "|    0   N/A  N/A     16292    C+G   ...InStyle\\ScreenInStyle.exe    N/A      |\n",
      "|    0   N/A  N/A     17124    C+G   ...lack\\app-4.20.0\\slack.exe    N/A      |\n",
      "|    0   N/A  N/A     17304    C+G   ...ropbox\\Client\\Dropbox.exe    N/A      |\n",
      "|    0   N/A  N/A     17404    C+G   ...bbwe\\Microsoft.Photos.exe    N/A      |\n",
      "|    0   N/A  N/A     18300    C+G   ...t\\GoogleIMEJaRenderer.exe    N/A      |\n",
      "|    0   N/A  N/A     19416    C+G   ...on Music\\Amazon Music.exe    N/A      |\n",
      "|    0   N/A  N/A     20196    C+G   ...kyb3d8bbwe\\Calculator.exe    N/A      |\n",
      "+-----------------------------------------------------------------------------+\n"
     ]
    }
   ],
   "source": [
    "!nvidia-smi"
   ]
  },
  {
   "cell_type": "code",
   "execution_count": 2,
   "id": "blank-jonathan",
   "metadata": {
    "execution": {
     "iopub.execute_input": "2021-08-11T02:23:35.475082Z",
     "iopub.status.busy": "2021-08-11T02:23:35.474291Z",
     "iopub.status.idle": "2021-08-11T02:23:35.477274Z",
     "shell.execute_reply": "2021-08-11T02:23:35.477859Z",
     "shell.execute_reply.started": "2021-08-11T01:41:02.708989Z"
    },
    "papermill": {
     "duration": 0.033399,
     "end_time": "2021-08-11T02:23:35.478019",
     "exception": false,
     "start_time": "2021-08-11T02:23:35.444620",
     "status": "completed"
    },
    "tags": []
   },
   "outputs": [
    {
     "name": "stdout",
     "output_type": "stream",
     "text": [
      "IN_COLAB:False, IN_KAGGLE:False, LOCAL:True\n"
     ]
    }
   ],
   "source": [
    "# 環境によって処理を変えるためのもの\n",
    "import sys\n",
    "import os\n",
    "IN_COLAB = 'google.colab' in sys.modules\n",
    "IN_KAGGLE = 'kaggle_web_client' in sys.modules\n",
    "LOCAL = not (IN_KAGGLE or IN_COLAB)\n",
    "print(f'IN_COLAB:{IN_COLAB}, IN_KAGGLE:{IN_KAGGLE}, LOCAL:{LOCAL}')"
   ]
  },
  {
   "cell_type": "code",
   "execution_count": 3,
   "id": "frank-chile",
   "metadata": {
    "execution": {
     "iopub.execute_input": "2021-08-11T02:23:35.556568Z",
     "iopub.status.busy": "2021-08-11T02:23:35.555404Z",
     "iopub.status.idle": "2021-08-11T02:23:35.559004Z",
     "shell.execute_reply": "2021-08-11T02:23:35.558359Z",
     "shell.execute_reply.started": "2021-08-11T01:41:02.722008Z"
    },
    "papermill": {
     "duration": 0.049645,
     "end_time": "2021-08-11T02:23:35.559175",
     "exception": false,
     "start_time": "2021-08-11T02:23:35.509530",
     "status": "completed"
    },
    "tags": []
   },
   "outputs": [],
   "source": [
    "# For Colab Download some datasets\n",
    "# ================================\n",
    "if IN_COLAB:\n",
    "    # mount googledrive\n",
    "    from google.colab import drive\n",
    "    drive.mount('/content/drive')\n",
    "    # copy kaggle.json from googledrive\n",
    "    ! pip install --upgrade --force-reinstall --no-deps  kaggle > /dev/null\n",
    "    ! mkdir ~/.kaggle\n",
    "    ! cp \"/content/drive/MyDrive/kaggle/kaggle.json\" ~/.kaggle/\n",
    "    ! chmod 600 ~/.kaggle/kaggle.json\n",
    "    \n",
    "    if not os.path.exists(\"/content/input/\"):\n",
    "        !mkdir input\n",
    "        !mkdir input/features\n",
    "        !kaggle datasets download -d teyosan1229/ventilator-pressure\n",
    "        !unzip /content/ventilator-pressure.zip -d input/features\n",
    "        !kaggle competitions download -c ventilator-pressure-prediction\n",
    "        !unzip /content/ventilator-pressure-prediction.zip -d input"
   ]
  },
  {
   "cell_type": "code",
   "execution_count": 4,
   "id": "understanding-trainer",
   "metadata": {
    "execution": {
     "iopub.execute_input": "2021-08-11T02:23:35.633186Z",
     "iopub.status.busy": "2021-08-11T02:23:35.628588Z",
     "iopub.status.idle": "2021-08-11T02:24:00.993207Z",
     "shell.execute_reply": "2021-08-11T02:24:00.992629Z",
     "shell.execute_reply.started": "2021-08-11T01:41:02.739692Z"
    },
    "papermill": {
     "duration": 25.402083,
     "end_time": "2021-08-11T02:24:00.993349",
     "exception": false,
     "start_time": "2021-08-11T02:23:35.591266",
     "status": "completed"
    },
    "tags": []
   },
   "outputs": [],
   "source": [
    "if IN_KAGGLE or IN_COLAB:\n",
    "    !pip install --upgrade -q wandb\n",
    "    !pip install -q pytorch-lightning\n",
    "    !pip install torch_optimizer"
   ]
  },
  {
   "cell_type": "markdown",
   "id": "protective-scottish",
   "metadata": {
    "papermill": {
     "duration": 0.024108,
     "end_time": "2021-08-11T02:24:01.042079",
     "exception": false,
     "start_time": "2021-08-11T02:24:01.017971",
     "status": "completed"
    },
    "tags": []
   },
   "source": [
    "## Import Libraries"
   ]
  },
  {
   "cell_type": "code",
   "execution_count": 5,
   "id": "equipped-encounter",
   "metadata": {
    "execution": {
     "iopub.execute_input": "2021-08-11T02:24:01.109751Z",
     "iopub.status.busy": "2021-08-11T02:24:01.108905Z",
     "iopub.status.idle": "2021-08-11T02:24:09.252913Z",
     "shell.execute_reply": "2021-08-11T02:24:09.252445Z",
     "shell.execute_reply.started": "2021-08-11T01:41:22.591484Z"
    },
    "papermill": {
     "duration": 8.185631,
     "end_time": "2021-08-11T02:24:09.253042",
     "exception": false,
     "start_time": "2021-08-11T02:24:01.067411",
     "status": "completed"
    },
    "tags": []
   },
   "outputs": [
    {
     "name": "stderr",
     "output_type": "stream",
     "text": [
      "\u001b[34m\u001b[1mwandb\u001b[0m: Currently logged in as: \u001b[33mteyosan1229\u001b[0m (use `wandb login --relogin` to force relogin)\n"
     ]
    },
    {
     "data": {
      "text/plain": [
       "True"
      ]
     },
     "execution_count": 5,
     "metadata": {},
     "output_type": "execute_result"
    }
   ],
   "source": [
    "# Hide Warning\n",
    "import warnings\n",
    "warnings.filterwarnings('ignore', category=DeprecationWarning)\n",
    "warnings.filterwarnings('ignore', category=FutureWarning)\n",
    "warnings.filterwarnings('ignore', category=UserWarning)\n",
    "\n",
    "# Python Libraries\n",
    "import os\n",
    "import math\n",
    "import random\n",
    "import glob\n",
    "import pickle\n",
    "from collections import defaultdict\n",
    "from pathlib import Path\n",
    "\n",
    "# Third party\n",
    "import numpy as np\n",
    "import pandas as pd\n",
    "from tqdm.notebook import tqdm\n",
    "\n",
    "# Visualizations\n",
    "import matplotlib.pyplot as plt\n",
    "import seaborn as sns\n",
    "import plotly.express as px\n",
    "%matplotlib inline\n",
    "sns.set(style=\"whitegrid\")\n",
    "\n",
    "# Utilities and Metrics\n",
    "from sklearn.model_selection import StratifiedKFold, GroupKFold, KFold\n",
    "from sklearn.preprocessing import RobustScaler, normalize\n",
    "from sklearn.metrics import mean_absolute_error #[roc_auc_score, accuracy_score]\n",
    "\n",
    "# Pytorch \n",
    "import torch\n",
    "import torch.nn as nn\n",
    "import torch.nn.functional as F\n",
    "from torch.optim import Adam, SGD\n",
    "from torch.utils.data import Dataset, DataLoader, WeightedRandomSampler\n",
    "from torch.optim.lr_scheduler import CosineAnnealingWarmRestarts, CosineAnnealingLR, ReduceLROnPlateau\n",
    "from torch.optim.optimizer import Optimizer, required\n",
    "import torch_optimizer as optim\n",
    "\n",
    "# Pytorch Lightning\n",
    "import pytorch_lightning as pl\n",
    "from pytorch_lightning import Callback, seed_everything\n",
    "from pytorch_lightning.callbacks import LearningRateMonitor, ModelCheckpoint, EarlyStopping\n",
    "from pytorch_lightning.loggers import WandbLogger, CSVLogger\n",
    "\n",
    "# Weights and Biases Tool\n",
    "import wandb\n",
    "os.environ[\"WANDB_API_KEY\"]='68fa1bbcda0fcf7a56f3c33a0fafa45b02f1c52d'\n",
    "wandb.login()"
   ]
  },
  {
   "cell_type": "markdown",
   "id": "extraordinary-opera",
   "metadata": {
    "papermill": {
     "duration": 0.027595,
     "end_time": "2021-08-11T02:24:09.304931",
     "exception": false,
     "start_time": "2021-08-11T02:24:09.277336",
     "status": "completed"
    },
    "tags": []
   },
   "source": [
    "## Config"
   ]
  },
  {
   "cell_type": "code",
   "execution_count": 6,
   "id": "important-source",
   "metadata": {
    "execution": {
     "iopub.execute_input": "2021-08-11T02:24:09.362423Z",
     "iopub.status.busy": "2021-08-11T02:24:09.360875Z",
     "iopub.status.idle": "2021-08-11T02:24:09.363354Z",
     "shell.execute_reply": "2021-08-11T02:24:09.363833Z",
     "shell.execute_reply.started": "2021-08-11T01:41:22.626097Z"
    },
    "papermill": {
     "duration": 0.034283,
     "end_time": "2021-08-11T02:24:09.363961",
     "exception": false,
     "start_time": "2021-08-11T02:24:09.329678",
     "status": "completed"
    },
    "tags": []
   },
   "outputs": [
    {
     "name": "stderr",
     "output_type": "stream",
     "text": [
      "Global seed set to 29\n"
     ]
    }
   ],
   "source": [
    "class CFG:\n",
    "    debug = False\n",
    "    competition='ventilator'\n",
    "    exp_name = \"exp025\"\n",
    "    seed = 29\n",
    "    # model\n",
    "    # img_size = 384\n",
    "    \n",
    "    # data\n",
    "    target_col = 'pressure' # 目標値のある列名\n",
    "    target_size = 1\n",
    "    \n",
    "    # optimizer\n",
    "    optimizer_name = 'RAdam'\n",
    "    lr = 5e-3\n",
    "    weight_decay = 1e-6\n",
    "    amsgrad = False\n",
    "    \n",
    "    # scheduler\n",
    "    epochs = 300\n",
    "    scheduler = 'CosineAnnealingLR'\n",
    "    T_max = 300\n",
    "    min_lr = 1e-6\n",
    "    # criterion\n",
    "    # u_out = 1 を考慮しないLoss\n",
    "    criterion_name = 'CustomLoss1'\n",
    "    \n",
    "    # training\n",
    "    train = True\n",
    "    inference = True\n",
    "    n_fold = 5\n",
    "    trn_fold = [0]\n",
    "    precision = 16 #[16, 32, 64]\n",
    "    grad_acc = 1\n",
    "    # DataLoader\n",
    "    loader = {\n",
    "        \"train\": {\n",
    "            \"batch_size\": 512,\n",
    "            \"num_workers\": 0,\n",
    "            \"shuffle\": True,\n",
    "            \"pin_memory\": True,\n",
    "            \"drop_last\": True\n",
    "        },\n",
    "        \"valid\": {\n",
    "            \"batch_size\": 512,\n",
    "            \"num_workers\": 0,\n",
    "            \"shuffle\": False,\n",
    "            \"pin_memory\": True,\n",
    "            \"drop_last\": False\n",
    "        }\n",
    "    }\n",
    "    # pl\n",
    "    trainer = {\n",
    "        'gpus': 1,\n",
    "        'progress_bar_refresh_rate': 1,\n",
    "        'benchmark': False,\n",
    "        'deterministic': True,\n",
    "        }\n",
    "    # LSTM\n",
    "    num_layers = 4\n",
    "    feature_cols = ['time_step', 'u_in', 'u_out'] + ['area'] + ['cross', 'cross2'] + ['u_in_cumsum', 'u_in_cummean'] + \\\n",
    "                   ['u_in_lag','u_in_lag2','u_in_lag3','u_in_lag_back','u_in_lag_back2','u_in_lag_back3'] + \\\n",
    "                   ['u_out_lag','u_out_lag2','u_out_lag3','u_out_lag_back','u_out_lag_back2','u_out_lag_back3'] + \\\n",
    "                   ['R_20', 'R_5', 'R_50', 'C_10', 'C_20', 'C_50', 'RC_2010', 'RC_2020', 'RC_2050', 'RC_5010', 'RC_5020', 'RC_5050', 'RC_510', 'RC_520', 'RC_550'] + \\\n",
    "                   ['u_out0_mean', 'u_out0_max', 'u_out0_std', 'u_out1_mean', 'u_out1_max', 'u_out1_std'] + \\\n",
    "                   ['breath_time', 'u_in_time']\n",
    "    \n",
    "    dense_dim = 512\n",
    "    hidden_size = 512\n",
    "    logit_dim = 512\n",
    "    \n",
    "seed_everything(CFG.seed)\n",
    "if not LOCAL:\n",
    "    CFG.loader[\"train\"][\"num_workers\"] = 4\n",
    "    CFG.loader[\"valid\"][\"num_workers\"] = 4"
   ]
  },
  {
   "cell_type": "code",
   "execution_count": 7,
   "id": "02ad5191",
   "metadata": {},
   "outputs": [
    {
     "data": {
      "text/plain": [
       "(43, 0)"
      ]
     },
     "execution_count": 7,
     "metadata": {},
     "output_type": "execute_result"
    }
   ],
   "source": [
    "len(CFG.feature_cols),CFG.loader[\"train\"][\"num_workers\"]"
   ]
  },
  {
   "cell_type": "markdown",
   "id": "romance-uniform",
   "metadata": {
    "papermill": {
     "duration": 0.026035,
     "end_time": "2021-08-11T02:24:09.415930",
     "exception": false,
     "start_time": "2021-08-11T02:24:09.389895",
     "status": "completed"
    },
    "tags": []
   },
   "source": [
    "## Directory & LoadData"
   ]
  },
  {
   "cell_type": "code",
   "execution_count": 8,
   "id": "handmade-mystery",
   "metadata": {
    "execution": {
     "iopub.execute_input": "2021-08-11T02:24:09.473043Z",
     "iopub.status.busy": "2021-08-11T02:24:09.472421Z",
     "iopub.status.idle": "2021-08-11T02:24:09.556626Z",
     "shell.execute_reply": "2021-08-11T02:24:09.556184Z",
     "shell.execute_reply.started": "2021-08-11T01:41:22.636862Z"
    },
    "papermill": {
     "duration": 0.114526,
     "end_time": "2021-08-11T02:24:09.556815",
     "exception": false,
     "start_time": "2021-08-11T02:24:09.442289",
     "status": "completed"
    },
    "scrolled": true,
    "tags": []
   },
   "outputs": [
    {
     "data": {
      "text/html": [
       "<div>\n",
       "<style scoped>\n",
       "    .dataframe tbody tr th:only-of-type {\n",
       "        vertical-align: middle;\n",
       "    }\n",
       "\n",
       "    .dataframe tbody tr th {\n",
       "        vertical-align: top;\n",
       "    }\n",
       "\n",
       "    .dataframe thead th {\n",
       "        text-align: right;\n",
       "    }\n",
       "</style>\n",
       "<table border=\"1\" class=\"dataframe\">\n",
       "  <thead>\n",
       "    <tr style=\"text-align: right;\">\n",
       "      <th></th>\n",
       "      <th>id</th>\n",
       "      <th>breath_id</th>\n",
       "      <th>time_step</th>\n",
       "      <th>u_in</th>\n",
       "      <th>u_out</th>\n",
       "      <th>pressure</th>\n",
       "      <th>fold</th>\n",
       "      <th>area</th>\n",
       "      <th>cross</th>\n",
       "      <th>cross2</th>\n",
       "      <th>...</th>\n",
       "      <th>RC_520</th>\n",
       "      <th>RC_550</th>\n",
       "      <th>u_out0_mean</th>\n",
       "      <th>u_out0_max</th>\n",
       "      <th>u_out0_std</th>\n",
       "      <th>u_out1_mean</th>\n",
       "      <th>u_out1_max</th>\n",
       "      <th>u_out1_std</th>\n",
       "      <th>breath_time</th>\n",
       "      <th>u_in_time</th>\n",
       "    </tr>\n",
       "  </thead>\n",
       "  <tbody>\n",
       "    <tr>\n",
       "      <th>0</th>\n",
       "      <td>1</td>\n",
       "      <td>1</td>\n",
       "      <td>0.000000</td>\n",
       "      <td>0.080043</td>\n",
       "      <td>0</td>\n",
       "      <td>5.837492</td>\n",
       "      <td>4</td>\n",
       "      <td>0.000000</td>\n",
       "      <td>0.0</td>\n",
       "      <td>0.0</td>\n",
       "      <td>...</td>\n",
       "      <td>0</td>\n",
       "      <td>0</td>\n",
       "      <td>22.119824</td>\n",
       "      <td>28.313036</td>\n",
       "      <td>5.829997</td>\n",
       "      <td>2.961716</td>\n",
       "      <td>4.987079</td>\n",
       "      <td>2.1621</td>\n",
       "      <td>0.000000</td>\n",
       "      <td>0.000000</td>\n",
       "    </tr>\n",
       "    <tr>\n",
       "      <th>1</th>\n",
       "      <td>2</td>\n",
       "      <td>1</td>\n",
       "      <td>0.033652</td>\n",
       "      <td>2.964399</td>\n",
       "      <td>0</td>\n",
       "      <td>5.907794</td>\n",
       "      <td>4</td>\n",
       "      <td>0.618632</td>\n",
       "      <td>0.0</td>\n",
       "      <td>0.0</td>\n",
       "      <td>...</td>\n",
       "      <td>0</td>\n",
       "      <td>0</td>\n",
       "      <td>22.119824</td>\n",
       "      <td>28.313036</td>\n",
       "      <td>5.829997</td>\n",
       "      <td>2.961716</td>\n",
       "      <td>4.987079</td>\n",
       "      <td>2.1621</td>\n",
       "      <td>0.033652</td>\n",
       "      <td>18.299707</td>\n",
       "    </tr>\n",
       "    <tr>\n",
       "      <th>2</th>\n",
       "      <td>3</td>\n",
       "      <td>1</td>\n",
       "      <td>0.067514</td>\n",
       "      <td>3.157395</td>\n",
       "      <td>0</td>\n",
       "      <td>7.876254</td>\n",
       "      <td>4</td>\n",
       "      <td>2.138333</td>\n",
       "      <td>0.0</td>\n",
       "      <td>0.0</td>\n",
       "      <td>...</td>\n",
       "      <td>0</td>\n",
       "      <td>0</td>\n",
       "      <td>22.119824</td>\n",
       "      <td>28.313036</td>\n",
       "      <td>5.829997</td>\n",
       "      <td>2.961716</td>\n",
       "      <td>4.987079</td>\n",
       "      <td>2.1621</td>\n",
       "      <td>0.033862</td>\n",
       "      <td>4.126236</td>\n",
       "    </tr>\n",
       "    <tr>\n",
       "      <th>3</th>\n",
       "      <td>4</td>\n",
       "      <td>1</td>\n",
       "      <td>0.101542</td>\n",
       "      <td>3.170056</td>\n",
       "      <td>0</td>\n",
       "      <td>11.742872</td>\n",
       "      <td>4</td>\n",
       "      <td>4.454391</td>\n",
       "      <td>0.0</td>\n",
       "      <td>0.0</td>\n",
       "      <td>...</td>\n",
       "      <td>0</td>\n",
       "      <td>0</td>\n",
       "      <td>22.119824</td>\n",
       "      <td>28.313036</td>\n",
       "      <td>5.829997</td>\n",
       "      <td>2.961716</td>\n",
       "      <td>4.987079</td>\n",
       "      <td>2.1621</td>\n",
       "      <td>0.034028</td>\n",
       "      <td>0.299544</td>\n",
       "    </tr>\n",
       "    <tr>\n",
       "      <th>4</th>\n",
       "      <td>5</td>\n",
       "      <td>1</td>\n",
       "      <td>0.135756</td>\n",
       "      <td>3.271690</td>\n",
       "      <td>0</td>\n",
       "      <td>12.234987</td>\n",
       "      <td>4</td>\n",
       "      <td>7.896588</td>\n",
       "      <td>0.0</td>\n",
       "      <td>0.0</td>\n",
       "      <td>...</td>\n",
       "      <td>0</td>\n",
       "      <td>0</td>\n",
       "      <td>22.119824</td>\n",
       "      <td>28.313036</td>\n",
       "      <td>5.829997</td>\n",
       "      <td>2.961716</td>\n",
       "      <td>4.987079</td>\n",
       "      <td>2.1621</td>\n",
       "      <td>0.034213</td>\n",
       "      <td>2.547028</td>\n",
       "    </tr>\n",
       "  </tbody>\n",
       "</table>\n",
       "<p>5 rows × 47 columns</p>\n",
       "</div>"
      ],
      "text/plain": [
       "   id  breath_id  time_step      u_in  u_out   pressure  fold      area  \\\n",
       "0   1          1   0.000000  0.080043      0   5.837492     4  0.000000   \n",
       "1   2          1   0.033652  2.964399      0   5.907794     4  0.618632   \n",
       "2   3          1   0.067514  3.157395      0   7.876254     4  2.138333   \n",
       "3   4          1   0.101542  3.170056      0  11.742872     4  4.454391   \n",
       "4   5          1   0.135756  3.271690      0  12.234987     4  7.896588   \n",
       "\n",
       "   cross  cross2  ...  RC_520  RC_550  u_out0_mean  u_out0_max  u_out0_std  \\\n",
       "0    0.0     0.0  ...       0       0    22.119824   28.313036    5.829997   \n",
       "1    0.0     0.0  ...       0       0    22.119824   28.313036    5.829997   \n",
       "2    0.0     0.0  ...       0       0    22.119824   28.313036    5.829997   \n",
       "3    0.0     0.0  ...       0       0    22.119824   28.313036    5.829997   \n",
       "4    0.0     0.0  ...       0       0    22.119824   28.313036    5.829997   \n",
       "\n",
       "   u_out1_mean  u_out1_max  u_out1_std  breath_time  u_in_time  \n",
       "0     2.961716    4.987079      2.1621     0.000000   0.000000  \n",
       "1     2.961716    4.987079      2.1621     0.033652  18.299707  \n",
       "2     2.961716    4.987079      2.1621     0.033862   4.126236  \n",
       "3     2.961716    4.987079      2.1621     0.034028   0.299544  \n",
       "4     2.961716    4.987079      2.1621     0.034213   2.547028  \n",
       "\n",
       "[5 rows x 47 columns]"
      ]
     },
     "metadata": {},
     "output_type": "display_data"
    },
    {
     "data": {
      "text/html": [
       "<div>\n",
       "<style scoped>\n",
       "    .dataframe tbody tr th:only-of-type {\n",
       "        vertical-align: middle;\n",
       "    }\n",
       "\n",
       "    .dataframe tbody tr th {\n",
       "        vertical-align: top;\n",
       "    }\n",
       "\n",
       "    .dataframe thead th {\n",
       "        text-align: right;\n",
       "    }\n",
       "</style>\n",
       "<table border=\"1\" class=\"dataframe\">\n",
       "  <thead>\n",
       "    <tr style=\"text-align: right;\">\n",
       "      <th></th>\n",
       "      <th>id</th>\n",
       "      <th>breath_id</th>\n",
       "      <th>time_step</th>\n",
       "      <th>u_in</th>\n",
       "      <th>u_out</th>\n",
       "      <th>area</th>\n",
       "      <th>cross</th>\n",
       "      <th>cross2</th>\n",
       "      <th>u_in_cumsum</th>\n",
       "      <th>u_in_cummean</th>\n",
       "      <th>...</th>\n",
       "      <th>RC_520</th>\n",
       "      <th>RC_550</th>\n",
       "      <th>u_out0_mean</th>\n",
       "      <th>u_out0_max</th>\n",
       "      <th>u_out0_std</th>\n",
       "      <th>u_out1_mean</th>\n",
       "      <th>u_out1_max</th>\n",
       "      <th>u_out1_std</th>\n",
       "      <th>breath_time</th>\n",
       "      <th>u_in_time</th>\n",
       "    </tr>\n",
       "  </thead>\n",
       "  <tbody>\n",
       "    <tr>\n",
       "      <th>0</th>\n",
       "      <td>1</td>\n",
       "      <td>0</td>\n",
       "      <td>0.000000</td>\n",
       "      <td>0.000000</td>\n",
       "      <td>0</td>\n",
       "      <td>0.000000</td>\n",
       "      <td>0.0</td>\n",
       "      <td>0.0</td>\n",
       "      <td>0.000000</td>\n",
       "      <td>0.000000</td>\n",
       "      <td>...</td>\n",
       "      <td>1</td>\n",
       "      <td>0</td>\n",
       "      <td>19.702022</td>\n",
       "      <td>37.542219</td>\n",
       "      <td>14.196737</td>\n",
       "      <td>2.763761</td>\n",
       "      <td>4.973375</td>\n",
       "      <td>2.166618</td>\n",
       "      <td>0.000000</td>\n",
       "      <td>0.000000</td>\n",
       "    </tr>\n",
       "    <tr>\n",
       "      <th>1</th>\n",
       "      <td>2</td>\n",
       "      <td>0</td>\n",
       "      <td>0.031904</td>\n",
       "      <td>2.141835</td>\n",
       "      <td>0</td>\n",
       "      <td>0.239758</td>\n",
       "      <td>0.0</td>\n",
       "      <td>0.0</td>\n",
       "      <td>7.515046</td>\n",
       "      <td>3.757523</td>\n",
       "      <td>...</td>\n",
       "      <td>1</td>\n",
       "      <td>0</td>\n",
       "      <td>19.702022</td>\n",
       "      <td>37.542219</td>\n",
       "      <td>14.196737</td>\n",
       "      <td>2.763761</td>\n",
       "      <td>4.973375</td>\n",
       "      <td>2.166618</td>\n",
       "      <td>0.031904</td>\n",
       "      <td>7.515046</td>\n",
       "    </tr>\n",
       "    <tr>\n",
       "      <th>2</th>\n",
       "      <td>3</td>\n",
       "      <td>0</td>\n",
       "      <td>0.063827</td>\n",
       "      <td>2.750578</td>\n",
       "      <td>0</td>\n",
       "      <td>1.174935</td>\n",
       "      <td>0.0</td>\n",
       "      <td>0.0</td>\n",
       "      <td>22.166721</td>\n",
       "      <td>7.388907</td>\n",
       "      <td>...</td>\n",
       "      <td>1</td>\n",
       "      <td>0</td>\n",
       "      <td>19.702022</td>\n",
       "      <td>37.542219</td>\n",
       "      <td>14.196737</td>\n",
       "      <td>2.763761</td>\n",
       "      <td>4.973375</td>\n",
       "      <td>2.166618</td>\n",
       "      <td>0.031924</td>\n",
       "      <td>7.136630</td>\n",
       "    </tr>\n",
       "    <tr>\n",
       "      <th>3</th>\n",
       "      <td>4</td>\n",
       "      <td>0</td>\n",
       "      <td>0.095751</td>\n",
       "      <td>3.101470</td>\n",
       "      <td>0</td>\n",
       "      <td>3.207788</td>\n",
       "      <td>0.0</td>\n",
       "      <td>0.0</td>\n",
       "      <td>43.397331</td>\n",
       "      <td>10.849333</td>\n",
       "      <td>...</td>\n",
       "      <td>1</td>\n",
       "      <td>0</td>\n",
       "      <td>19.702022</td>\n",
       "      <td>37.542219</td>\n",
       "      <td>14.196737</td>\n",
       "      <td>2.763761</td>\n",
       "      <td>4.973375</td>\n",
       "      <td>2.166618</td>\n",
       "      <td>0.031924</td>\n",
       "      <td>6.578935</td>\n",
       "    </tr>\n",
       "    <tr>\n",
       "      <th>4</th>\n",
       "      <td>5</td>\n",
       "      <td>0</td>\n",
       "      <td>0.127644</td>\n",
       "      <td>3.307654</td>\n",
       "      <td>0</td>\n",
       "      <td>6.567489</td>\n",
       "      <td>0.0</td>\n",
       "      <td>0.0</td>\n",
       "      <td>69.718287</td>\n",
       "      <td>13.943657</td>\n",
       "      <td>...</td>\n",
       "      <td>1</td>\n",
       "      <td>0</td>\n",
       "      <td>19.702022</td>\n",
       "      <td>37.542219</td>\n",
       "      <td>14.196737</td>\n",
       "      <td>2.763761</td>\n",
       "      <td>4.973375</td>\n",
       "      <td>2.166618</td>\n",
       "      <td>0.031893</td>\n",
       "      <td>5.090346</td>\n",
       "    </tr>\n",
       "  </tbody>\n",
       "</table>\n",
       "<p>5 rows × 45 columns</p>\n",
       "</div>"
      ],
      "text/plain": [
       "   id  breath_id  time_step      u_in  u_out      area  cross  cross2  \\\n",
       "0   1          0   0.000000  0.000000      0  0.000000    0.0     0.0   \n",
       "1   2          0   0.031904  2.141835      0  0.239758    0.0     0.0   \n",
       "2   3          0   0.063827  2.750578      0  1.174935    0.0     0.0   \n",
       "3   4          0   0.095751  3.101470      0  3.207788    0.0     0.0   \n",
       "4   5          0   0.127644  3.307654      0  6.567489    0.0     0.0   \n",
       "\n",
       "   u_in_cumsum  u_in_cummean  ...  RC_520  RC_550  u_out0_mean  u_out0_max  \\\n",
       "0     0.000000      0.000000  ...       1       0    19.702022   37.542219   \n",
       "1     7.515046      3.757523  ...       1       0    19.702022   37.542219   \n",
       "2    22.166721      7.388907  ...       1       0    19.702022   37.542219   \n",
       "3    43.397331     10.849333  ...       1       0    19.702022   37.542219   \n",
       "4    69.718287     13.943657  ...       1       0    19.702022   37.542219   \n",
       "\n",
       "   u_out0_std  u_out1_mean  u_out1_max  u_out1_std  breath_time  u_in_time  \n",
       "0   14.196737     2.763761    4.973375    2.166618     0.000000   0.000000  \n",
       "1   14.196737     2.763761    4.973375    2.166618     0.031904   7.515046  \n",
       "2   14.196737     2.763761    4.973375    2.166618     0.031924   7.136630  \n",
       "3   14.196737     2.763761    4.973375    2.166618     0.031924   6.578935  \n",
       "4   14.196737     2.763761    4.973375    2.166618     0.031893   5.090346  \n",
       "\n",
       "[5 rows x 45 columns]"
      ]
     },
     "metadata": {},
     "output_type": "display_data"
    }
   ],
   "source": [
    "if IN_KAGGLE:\n",
    "    INPUT_DIR = Path('../input/ventilator-pressure-prediction')\n",
    "    FEAT_DIR = Path('../input/ventilator-pressure')\n",
    "    OUTPUT_DIR = './'\n",
    "elif IN_COLAB:\n",
    "    INPUT_DIR = Path('/content/input/')\n",
    "    FEAT_DIR = Path('/content/input/features/')\n",
    "    OUTPUT_DIR = f'/content/drive/MyDrive/kaggle/Ventilator Pressure/{CFG.exp_name}/'\n",
    "if LOCAL:\n",
    "    INPUT_DIR = Path(\"F:/Kaggle/ventilator-pressure-prediction/data/input/\")\n",
    "    FEAT_DIR = Path(\"F:/Kaggle/ventilator-pressure-prediction/data/input/features/\")\n",
    "    OUTPUT_DIR = f'F:/Kaggle/ventilator-pressure-prediction/data/output/{CFG.exp_name}/'\n",
    "    \n",
    "def load_datasets(feats):\n",
    "    dfs = [pd.read_feather(FEAT_DIR / f'{f}_train.ftr') for f in feats]\n",
    "    X_train = pd.concat(dfs, axis=1)\n",
    "    dfs = [pd.read_feather(FEAT_DIR / f'{f}_test.ftr') for f in feats]\n",
    "    X_test = pd.concat(dfs, axis=1)\n",
    "    return X_train, X_test\n",
    "\n",
    "feats = ['Base', 'Area', 'Cross', 'U_in_cumsum_mean', 'U_in_Lag', 'U_out_Lag', 'RC_OHE', 'U_out_stat', 'Time']\n",
    "df_train, df_test = load_datasets(feats)\n",
    "\n",
    "#df_train = pd.read_csv(INPUT_DIR / \"train_v2.csv\")\n",
    "#df_test = pd.read_csv(INPUT_DIR / \"test_v2.csv\")\n",
    "submission = pd.read_csv(INPUT_DIR / \"sample_submission.csv\")\n",
    "display(df_train.head())\n",
    "display(df_test.head())\n",
    "\n",
    "if not os.path.exists(OUTPUT_DIR):\n",
    "    os.makedirs(OUTPUT_DIR)\n",
    "\n",
    "if CFG.debug:\n",
    "    CFG.epochs = 5\n",
    "    #CFG.inference = False\n",
    "    #df_train = df_train.head(240000)"
   ]
  },
  {
   "cell_type": "markdown",
   "id": "revolutionary-stocks",
   "metadata": {
    "papermill": {
     "duration": 0.026119,
     "end_time": "2021-08-11T02:24:10.069808",
     "exception": false,
     "start_time": "2021-08-11T02:24:10.043689",
     "status": "completed"
    },
    "tags": []
   },
   "source": [
    "## Utils"
   ]
  },
  {
   "cell_type": "code",
   "execution_count": 9,
   "id": "otherwise-import",
   "metadata": {
    "execution": {
     "iopub.execute_input": "2021-08-11T02:24:10.126456Z",
     "iopub.status.busy": "2021-08-11T02:24:10.125824Z",
     "iopub.status.idle": "2021-08-11T02:24:10.131454Z",
     "shell.execute_reply": "2021-08-11T02:24:10.131048Z",
     "shell.execute_reply.started": "2021-08-11T01:41:22.911397Z"
    },
    "papermill": {
     "duration": 0.036808,
     "end_time": "2021-08-11T02:24:10.131566",
     "exception": false,
     "start_time": "2021-08-11T02:24:10.094758",
     "status": "completed"
    },
    "tags": []
   },
   "outputs": [],
   "source": [
    "# LINEに通知\n",
    "import requests\n",
    "def send_line_notification(message):\n",
    "    env = \"\"\n",
    "    if IN_COLAB: env = \"colab\"\n",
    "    elif IN_KAGGLE: env = \"kaggle\"\n",
    "    elif LOCAL: env = \"local\"\n",
    "        \n",
    "    line_token = '8vBbxd0jENU39kV2ROEwp78jAzeankBFi7AG0JjoU3j'\n",
    "    endpoint = 'https://notify-api.line.me/api/notify'\n",
    "    message = f\"[{env}]{message}\"\n",
    "    payload = {'message': message}\n",
    "    headers = {'Authorization': 'Bearer {}'.format(line_token)}\n",
    "    requests.post(endpoint, data=payload, headers=headers)"
   ]
  },
  {
   "cell_type": "markdown",
   "id": "thirty-bahrain",
   "metadata": {
    "papermill": {
     "duration": 0.025105,
     "end_time": "2021-08-11T02:24:10.182188",
     "exception": false,
     "start_time": "2021-08-11T02:24:10.157083",
     "status": "completed"
    },
    "tags": []
   },
   "source": [
    "## CV Split"
   ]
  },
  {
   "cell_type": "code",
   "execution_count": 10,
   "id": "suited-grave",
   "metadata": {
    "execution": {
     "iopub.execute_input": "2021-08-11T02:24:10.240042Z",
     "iopub.status.busy": "2021-08-11T02:24:10.239245Z",
     "iopub.status.idle": "2021-08-11T02:24:10.269231Z",
     "shell.execute_reply": "2021-08-11T02:24:10.269605Z",
     "shell.execute_reply.started": "2021-08-11T01:41:22.919965Z"
    },
    "papermill": {
     "duration": 0.061644,
     "end_time": "2021-08-11T02:24:10.269743",
     "exception": false,
     "start_time": "2021-08-11T02:24:10.208099",
     "status": "completed"
    },
    "tags": []
   },
   "outputs": [
    {
     "name": "stdout",
     "output_type": "stream",
     "text": [
      "fold  breath_id\n",
      "0     4            80\n",
      "      16           80\n",
      "      18           80\n",
      "      20           80\n",
      "      23           80\n",
      "                   ..\n",
      "4     125721       80\n",
      "      125723       80\n",
      "      125726       80\n",
      "      125734       80\n",
      "      125739       80\n",
      "Length: 75450, dtype: int64\n"
     ]
    }
   ],
   "source": [
    "# df_train[\"fold\"] = -1\n",
    "# Fold = GroupKFold(n_splits=CFG.n_fold)\n",
    "# for n, (train_index, val_index) in enumerate(Fold.split(df_train, df_train[CFG.target_col], groups=df_train.breath_id.values)):\n",
    "#      df_train.loc[val_index, 'fold'] = int(n)\n",
    "# df_train['fold'] = df_train['fold'].astype(int)\n",
    "print(df_train.groupby(['fold', 'breath_id']).size())"
   ]
  },
  {
   "cell_type": "markdown",
   "id": "pending-damage",
   "metadata": {
    "papermill": {
     "duration": 0.042021,
     "end_time": "2021-08-11T02:24:10.423278",
     "exception": false,
     "start_time": "2021-08-11T02:24:10.381257",
     "status": "completed"
    },
    "tags": []
   },
   "source": [
    "## Transforms"
   ]
  },
  {
   "cell_type": "markdown",
   "id": "consolidated-brazil",
   "metadata": {
    "papermill": {
     "duration": 0.040811,
     "end_time": "2021-08-11T02:24:10.618682",
     "exception": false,
     "start_time": "2021-08-11T02:24:10.577871",
     "status": "completed"
    },
    "tags": []
   },
   "source": [
    "## Dataset"
   ]
  },
  {
   "cell_type": "code",
   "execution_count": 11,
   "id": "thrown-concern",
   "metadata": {
    "execution": {
     "iopub.execute_input": "2021-08-11T02:24:10.709022Z",
     "iopub.status.busy": "2021-08-11T02:24:10.708245Z",
     "iopub.status.idle": "2021-08-11T02:24:10.714231Z",
     "shell.execute_reply": "2021-08-11T02:24:10.715164Z",
     "shell.execute_reply.started": "2021-08-11T01:41:22.964359Z"
    },
    "papermill": {
     "duration": 0.05568,
     "end_time": "2021-08-11T02:24:10.715327",
     "exception": false,
     "start_time": "2021-08-11T02:24:10.659647",
     "status": "completed"
    },
    "tags": []
   },
   "outputs": [],
   "source": [
    "\"\"\"\n",
    "X[0]でbreath_id1つ分のシーケンス長80のデータを取得できる\n",
    "\"\"\"\n",
    "class TrainDataset(Dataset):\n",
    "    def __init__(self, X, y):\n",
    "        self.X = X\n",
    "        self.y = y\n",
    "        self.u_out = self.X[:,:,2]#[todo]スマートじゃない\n",
    "        \n",
    "    def __len__(self):\n",
    "        return len(self.X)\n",
    "    \n",
    "    def __getitem__(self, idx):\n",
    "        x = torch.FloatTensor(self.X[idx])\n",
    "        u_out = torch.LongTensor(self.u_out[idx])\n",
    "        label = torch.FloatTensor(self.y[idx]).squeeze(1)\n",
    "        return x, u_out, label\n",
    "    \n",
    "class TestDataset(Dataset):\n",
    "    def __init__(self, X):\n",
    "        self.X = X\n",
    "        self.u_out = self.X[:,:,2]\n",
    "        \n",
    "    def __len__(self):\n",
    "        return len(self.X)\n",
    "    \n",
    "    def __getitem__(self, idx):\n",
    "        return torch.FloatTensor(self.X[idx])"
   ]
  },
  {
   "cell_type": "markdown",
   "id": "5942c402",
   "metadata": {},
   "source": [
    "## RobustScaler & Reshape\n",
    "pandas.DataFrameからnumpyに変換、シーケンス分をまとめる"
   ]
  },
  {
   "cell_type": "code",
   "execution_count": 12,
   "id": "17bb7856",
   "metadata": {},
   "outputs": [
    {
     "data": {
      "text/html": [
       "<div>\n",
       "<style scoped>\n",
       "    .dataframe tbody tr th:only-of-type {\n",
       "        vertical-align: middle;\n",
       "    }\n",
       "\n",
       "    .dataframe tbody tr th {\n",
       "        vertical-align: top;\n",
       "    }\n",
       "\n",
       "    .dataframe thead th {\n",
       "        text-align: right;\n",
       "    }\n",
       "</style>\n",
       "<table border=\"1\" class=\"dataframe\">\n",
       "  <thead>\n",
       "    <tr style=\"text-align: right;\">\n",
       "      <th></th>\n",
       "      <th>id</th>\n",
       "      <th>breath_id</th>\n",
       "      <th>time_step</th>\n",
       "      <th>u_in</th>\n",
       "      <th>u_out</th>\n",
       "      <th>pressure</th>\n",
       "      <th>fold</th>\n",
       "      <th>area</th>\n",
       "      <th>cross</th>\n",
       "      <th>cross2</th>\n",
       "      <th>...</th>\n",
       "      <th>RC_520</th>\n",
       "      <th>RC_550</th>\n",
       "      <th>u_out0_mean</th>\n",
       "      <th>u_out0_max</th>\n",
       "      <th>u_out0_std</th>\n",
       "      <th>u_out1_mean</th>\n",
       "      <th>u_out1_max</th>\n",
       "      <th>u_out1_std</th>\n",
       "      <th>breath_time</th>\n",
       "      <th>u_in_time</th>\n",
       "    </tr>\n",
       "  </thead>\n",
       "  <tbody>\n",
       "    <tr>\n",
       "      <th>0</th>\n",
       "      <td>1</td>\n",
       "      <td>1</td>\n",
       "      <td>-0.989052</td>\n",
       "      <td>-1.100643</td>\n",
       "      <td>0</td>\n",
       "      <td>5.837492</td>\n",
       "      <td>4</td>\n",
       "      <td>-0.516581</td>\n",
       "      <td>0.0</td>\n",
       "      <td>-0.665541</td>\n",
       "      <td>...</td>\n",
       "      <td>0.0</td>\n",
       "      <td>0.0</td>\n",
       "      <td>0.972385</td>\n",
       "      <td>0.112313</td>\n",
       "      <td>-0.006965</td>\n",
       "      <td>0.187703</td>\n",
       "      <td>0.085993</td>\n",
       "      <td>-0.250334</td>\n",
       "      <td>-15.475938</td>\n",
       "      <td>-0.044815</td>\n",
       "    </tr>\n",
       "    <tr>\n",
       "      <th>1</th>\n",
       "      <td>2</td>\n",
       "      <td>1</td>\n",
       "      <td>-0.963608</td>\n",
       "      <td>0.878825</td>\n",
       "      <td>0</td>\n",
       "      <td>5.907794</td>\n",
       "      <td>4</td>\n",
       "      <td>-0.514031</td>\n",
       "      <td>0.0</td>\n",
       "      <td>-0.665541</td>\n",
       "      <td>...</td>\n",
       "      <td>0.0</td>\n",
       "      <td>0.0</td>\n",
       "      <td>0.972385</td>\n",
       "      <td>0.112313</td>\n",
       "      <td>-0.006965</td>\n",
       "      <td>0.187703</td>\n",
       "      <td>0.085993</td>\n",
       "      <td>-0.250334</td>\n",
       "      <td>0.103311</td>\n",
       "      <td>124.171952</td>\n",
       "    </tr>\n",
       "    <tr>\n",
       "      <th>2</th>\n",
       "      <td>3</td>\n",
       "      <td>1</td>\n",
       "      <td>-0.938006</td>\n",
       "      <td>1.011274</td>\n",
       "      <td>0</td>\n",
       "      <td>7.876254</td>\n",
       "      <td>4</td>\n",
       "      <td>-0.507768</td>\n",
       "      <td>0.0</td>\n",
       "      <td>-0.665541</td>\n",
       "      <td>...</td>\n",
       "      <td>0.0</td>\n",
       "      <td>0.0</td>\n",
       "      <td>0.972385</td>\n",
       "      <td>0.112313</td>\n",
       "      <td>-0.006965</td>\n",
       "      <td>0.187703</td>\n",
       "      <td>0.085993</td>\n",
       "      <td>-0.250334</td>\n",
       "      <td>0.200442</td>\n",
       "      <td>27.963705</td>\n",
       "    </tr>\n",
       "    <tr>\n",
       "      <th>3</th>\n",
       "      <td>4</td>\n",
       "      <td>1</td>\n",
       "      <td>-0.912278</td>\n",
       "      <td>1.019963</td>\n",
       "      <td>0</td>\n",
       "      <td>11.742872</td>\n",
       "      <td>4</td>\n",
       "      <td>-0.498222</td>\n",
       "      <td>0.0</td>\n",
       "      <td>-0.665541</td>\n",
       "      <td>...</td>\n",
       "      <td>0.0</td>\n",
       "      <td>0.0</td>\n",
       "      <td>0.972385</td>\n",
       "      <td>0.112313</td>\n",
       "      <td>-0.006965</td>\n",
       "      <td>0.187703</td>\n",
       "      <td>0.085993</td>\n",
       "      <td>-0.250334</td>\n",
       "      <td>0.277152</td>\n",
       "      <td>1.988466</td>\n",
       "    </tr>\n",
       "    <tr>\n",
       "      <th>4</th>\n",
       "      <td>5</td>\n",
       "      <td>1</td>\n",
       "      <td>-0.886409</td>\n",
       "      <td>1.089713</td>\n",
       "      <td>0</td>\n",
       "      <td>12.234987</td>\n",
       "      <td>4</td>\n",
       "      <td>-0.484036</td>\n",
       "      <td>0.0</td>\n",
       "      <td>-0.665541</td>\n",
       "      <td>...</td>\n",
       "      <td>0.0</td>\n",
       "      <td>0.0</td>\n",
       "      <td>0.972385</td>\n",
       "      <td>0.112313</td>\n",
       "      <td>-0.006965</td>\n",
       "      <td>0.187703</td>\n",
       "      <td>0.085993</td>\n",
       "      <td>-0.250334</td>\n",
       "      <td>0.363024</td>\n",
       "      <td>17.244182</td>\n",
       "    </tr>\n",
       "  </tbody>\n",
       "</table>\n",
       "<p>5 rows × 47 columns</p>\n",
       "</div>"
      ],
      "text/plain": [
       "   id  breath_id  time_step      u_in  u_out   pressure  fold      area  \\\n",
       "0   1          1  -0.989052 -1.100643      0   5.837492     4 -0.516581   \n",
       "1   2          1  -0.963608  0.878825      0   5.907794     4 -0.514031   \n",
       "2   3          1  -0.938006  1.011274      0   7.876254     4 -0.507768   \n",
       "3   4          1  -0.912278  1.019963      0  11.742872     4 -0.498222   \n",
       "4   5          1  -0.886409  1.089713      0  12.234987     4 -0.484036   \n",
       "\n",
       "   cross    cross2  ...  RC_520  RC_550  u_out0_mean  u_out0_max  u_out0_std  \\\n",
       "0    0.0 -0.665541  ...     0.0     0.0     0.972385    0.112313   -0.006965   \n",
       "1    0.0 -0.665541  ...     0.0     0.0     0.972385    0.112313   -0.006965   \n",
       "2    0.0 -0.665541  ...     0.0     0.0     0.972385    0.112313   -0.006965   \n",
       "3    0.0 -0.665541  ...     0.0     0.0     0.972385    0.112313   -0.006965   \n",
       "4    0.0 -0.665541  ...     0.0     0.0     0.972385    0.112313   -0.006965   \n",
       "\n",
       "   u_out1_mean  u_out1_max  u_out1_std  breath_time   u_in_time  \n",
       "0     0.187703    0.085993   -0.250334   -15.475938   -0.044815  \n",
       "1     0.187703    0.085993   -0.250334     0.103311  124.171952  \n",
       "2     0.187703    0.085993   -0.250334     0.200442   27.963705  \n",
       "3     0.187703    0.085993   -0.250334     0.277152    1.988466  \n",
       "4     0.187703    0.085993   -0.250334     0.363024   17.244182  \n",
       "\n",
       "[5 rows x 47 columns]"
      ]
     },
     "metadata": {},
     "output_type": "display_data"
    },
    {
     "data": {
      "text/html": [
       "<div>\n",
       "<style scoped>\n",
       "    .dataframe tbody tr th:only-of-type {\n",
       "        vertical-align: middle;\n",
       "    }\n",
       "\n",
       "    .dataframe tbody tr th {\n",
       "        vertical-align: top;\n",
       "    }\n",
       "\n",
       "    .dataframe thead th {\n",
       "        text-align: right;\n",
       "    }\n",
       "</style>\n",
       "<table border=\"1\" class=\"dataframe\">\n",
       "  <thead>\n",
       "    <tr style=\"text-align: right;\">\n",
       "      <th></th>\n",
       "      <th>id</th>\n",
       "      <th>breath_id</th>\n",
       "      <th>time_step</th>\n",
       "      <th>u_in</th>\n",
       "      <th>u_out</th>\n",
       "      <th>area</th>\n",
       "      <th>cross</th>\n",
       "      <th>cross2</th>\n",
       "      <th>u_in_cumsum</th>\n",
       "      <th>u_in_cummean</th>\n",
       "      <th>...</th>\n",
       "      <th>RC_520</th>\n",
       "      <th>RC_550</th>\n",
       "      <th>u_out0_mean</th>\n",
       "      <th>u_out0_max</th>\n",
       "      <th>u_out0_std</th>\n",
       "      <th>u_out1_mean</th>\n",
       "      <th>u_out1_max</th>\n",
       "      <th>u_out1_std</th>\n",
       "      <th>breath_time</th>\n",
       "      <th>u_in_time</th>\n",
       "    </tr>\n",
       "  </thead>\n",
       "  <tbody>\n",
       "    <tr>\n",
       "      <th>0</th>\n",
       "      <td>1</td>\n",
       "      <td>0</td>\n",
       "      <td>-0.989052</td>\n",
       "      <td>-1.155575</td>\n",
       "      <td>0</td>\n",
       "      <td>-0.516581</td>\n",
       "      <td>0.0</td>\n",
       "      <td>-0.665541</td>\n",
       "      <td>-0.725447</td>\n",
       "      <td>-0.655828</td>\n",
       "      <td>...</td>\n",
       "      <td>1.0</td>\n",
       "      <td>0.0</td>\n",
       "      <td>0.785774</td>\n",
       "      <td>0.334769</td>\n",
       "      <td>0.835404</td>\n",
       "      <td>-0.659608</td>\n",
       "      <td>-0.705398</td>\n",
       "      <td>0.609389</td>\n",
       "      <td>-15.475938</td>\n",
       "      <td>-0.044815</td>\n",
       "    </tr>\n",
       "    <tr>\n",
       "      <th>1</th>\n",
       "      <td>2</td>\n",
       "      <td>0</td>\n",
       "      <td>-0.964930</td>\n",
       "      <td>0.314318</td>\n",
       "      <td>0</td>\n",
       "      <td>-0.515592</td>\n",
       "      <td>0.0</td>\n",
       "      <td>-0.665541</td>\n",
       "      <td>-0.705662</td>\n",
       "      <td>-0.322625</td>\n",
       "      <td>...</td>\n",
       "      <td>1.0</td>\n",
       "      <td>0.0</td>\n",
       "      <td>0.785774</td>\n",
       "      <td>0.334769</td>\n",
       "      <td>0.835404</td>\n",
       "      <td>-0.659608</td>\n",
       "      <td>-0.705398</td>\n",
       "      <td>0.609389</td>\n",
       "      <td>-0.706181</td>\n",
       "      <td>50.966638</td>\n",
       "    </tr>\n",
       "    <tr>\n",
       "      <th>2</th>\n",
       "      <td>3</td>\n",
       "      <td>0</td>\n",
       "      <td>-0.940793</td>\n",
       "      <td>0.732085</td>\n",
       "      <td>0</td>\n",
       "      <td>-0.511738</td>\n",
       "      <td>0.0</td>\n",
       "      <td>-0.665541</td>\n",
       "      <td>-0.667087</td>\n",
       "      <td>-0.000608</td>\n",
       "      <td>...</td>\n",
       "      <td>1.0</td>\n",
       "      <td>0.0</td>\n",
       "      <td>0.785774</td>\n",
       "      <td>0.334769</td>\n",
       "      <td>0.835404</td>\n",
       "      <td>-0.659608</td>\n",
       "      <td>-0.705398</td>\n",
       "      <td>0.609389</td>\n",
       "      <td>-0.697020</td>\n",
       "      <td>48.397986</td>\n",
       "    </tr>\n",
       "    <tr>\n",
       "      <th>3</th>\n",
       "      <td>4</td>\n",
       "      <td>0</td>\n",
       "      <td>-0.916656</td>\n",
       "      <td>0.972894</td>\n",
       "      <td>0</td>\n",
       "      <td>-0.503360</td>\n",
       "      <td>0.0</td>\n",
       "      <td>-0.665541</td>\n",
       "      <td>-0.611192</td>\n",
       "      <td>0.306249</td>\n",
       "      <td>...</td>\n",
       "      <td>1.0</td>\n",
       "      <td>0.0</td>\n",
       "      <td>0.785774</td>\n",
       "      <td>0.334769</td>\n",
       "      <td>0.835404</td>\n",
       "      <td>-0.659608</td>\n",
       "      <td>-0.705398</td>\n",
       "      <td>0.609389</td>\n",
       "      <td>-0.696909</td>\n",
       "      <td>44.612401</td>\n",
       "    </tr>\n",
       "    <tr>\n",
       "      <th>4</th>\n",
       "      <td>5</td>\n",
       "      <td>0</td>\n",
       "      <td>-0.892543</td>\n",
       "      <td>1.114394</td>\n",
       "      <td>0</td>\n",
       "      <td>-0.489513</td>\n",
       "      <td>0.0</td>\n",
       "      <td>-0.665541</td>\n",
       "      <td>-0.541895</td>\n",
       "      <td>0.580642</td>\n",
       "      <td>...</td>\n",
       "      <td>1.0</td>\n",
       "      <td>0.0</td>\n",
       "      <td>0.785774</td>\n",
       "      <td>0.334769</td>\n",
       "      <td>0.835404</td>\n",
       "      <td>-0.659608</td>\n",
       "      <td>-0.705398</td>\n",
       "      <td>0.609389</td>\n",
       "      <td>-0.711369</td>\n",
       "      <td>34.507996</td>\n",
       "    </tr>\n",
       "  </tbody>\n",
       "</table>\n",
       "<p>5 rows × 45 columns</p>\n",
       "</div>"
      ],
      "text/plain": [
       "   id  breath_id  time_step      u_in  u_out      area  cross    cross2  \\\n",
       "0   1          0  -0.989052 -1.155575      0 -0.516581    0.0 -0.665541   \n",
       "1   2          0  -0.964930  0.314318      0 -0.515592    0.0 -0.665541   \n",
       "2   3          0  -0.940793  0.732085      0 -0.511738    0.0 -0.665541   \n",
       "3   4          0  -0.916656  0.972894      0 -0.503360    0.0 -0.665541   \n",
       "4   5          0  -0.892543  1.114394      0 -0.489513    0.0 -0.665541   \n",
       "\n",
       "   u_in_cumsum  u_in_cummean  ...  RC_520  RC_550  u_out0_mean  u_out0_max  \\\n",
       "0    -0.725447     -0.655828  ...     1.0     0.0     0.785774    0.334769   \n",
       "1    -0.705662     -0.322625  ...     1.0     0.0     0.785774    0.334769   \n",
       "2    -0.667087     -0.000608  ...     1.0     0.0     0.785774    0.334769   \n",
       "3    -0.611192      0.306249  ...     1.0     0.0     0.785774    0.334769   \n",
       "4    -0.541895      0.580642  ...     1.0     0.0     0.785774    0.334769   \n",
       "\n",
       "   u_out0_std  u_out1_mean  u_out1_max  u_out1_std  breath_time  u_in_time  \n",
       "0    0.835404    -0.659608   -0.705398    0.609389   -15.475938  -0.044815  \n",
       "1    0.835404    -0.659608   -0.705398    0.609389    -0.706181  50.966638  \n",
       "2    0.835404    -0.659608   -0.705398    0.609389    -0.697020  48.397986  \n",
       "3    0.835404    -0.659608   -0.705398    0.609389    -0.696909  44.612401  \n",
       "4    0.835404    -0.659608   -0.705398    0.609389    -0.711369  34.507996  \n",
       "\n",
       "[5 rows x 45 columns]"
      ]
     },
     "metadata": {},
     "output_type": "display_data"
    }
   ],
   "source": [
    "cols = CFG.feature_cols.copy()\n",
    "cols.remove('u_out')\n",
    "for col in tqdm(cols):\n",
    "    RS = RobustScaler()\n",
    "    df_train[[col]] = RS.fit_transform(df_train[[col]])\n",
    "    df_test[[col]] = RS.transform(df_test[[col]])\n",
    "display(df_train.head())\n",
    "display(df_test.head())"
   ]
  },
  {
   "cell_type": "code",
   "execution_count": 13,
   "id": "e6ecb9d8",
   "metadata": {
    "scrolled": true
   },
   "outputs": [
    {
     "name": "stdout",
     "output_type": "stream",
     "text": [
      "(75450, 80, 43) (75450, 80, 1) (50300, 80, 43) (75450,)\n"
     ]
    }
   ],
   "source": [
    "X = np.float32(df_train[CFG.feature_cols]).reshape(-1, 80, len(CFG.feature_cols))\n",
    "test_X = np.float32(df_test[CFG.feature_cols]).reshape(-1, 80, len(CFG.feature_cols))\n",
    "y = np.float32(df_train[\"pressure\"]).reshape(-1, 80, 1)\n",
    "Fold = np.int16(df_train[\"fold\"]).reshape(-1, 80, 1)\n",
    "Fold = Fold.mean(axis=1).flatten()\n",
    "print(X.shape, y.shape, test_X.shape, Fold.shape)"
   ]
  },
  {
   "cell_type": "code",
   "execution_count": 14,
   "id": "40b8a198",
   "metadata": {},
   "outputs": [
    {
     "name": "stdout",
     "output_type": "stream",
     "text": [
      "['time_step', 'u_in', 'u_out', 'area', 'cross', 'cross2', 'u_in_cumsum', 'u_in_cummean', 'u_in_lag', 'u_in_lag2', 'u_in_lag3', 'u_in_lag_back', 'u_in_lag_back2', 'u_in_lag_back3', 'u_out_lag', 'u_out_lag2', 'u_out_lag3', 'u_out_lag_back', 'u_out_lag_back2', 'u_out_lag_back3', 'R_20', 'R_5', 'R_50', 'C_10', 'C_20', 'C_50', 'RC_2010', 'RC_2020', 'RC_2050', 'RC_5010', 'RC_5020', 'RC_5050', 'RC_510', 'RC_520', 'RC_550', 'u_out0_mean', 'u_out0_max', 'u_out0_std', 'u_out1_mean', 'u_out1_max', 'u_out1_std', 'breath_time', 'u_in_time']\n",
      "43\n"
     ]
    },
    {
     "data": {
      "text/plain": [
       "array([0., 0., 0., 0., 0., 0., 0., 0., 0., 0., 0., 0., 0., 0., 0., 0., 0.,\n",
       "       0., 0., 0., 0., 0., 0., 0., 0., 0., 0., 0., 0., 0., 1., 1., 1., 1.,\n",
       "       1., 1., 1., 1., 1., 1., 1., 1., 1., 1., 1., 1., 1., 1., 1., 1., 1.,\n",
       "       1., 1., 1., 1., 1., 1., 1., 1., 1., 1., 1., 1., 1., 1., 1., 1., 1.,\n",
       "       1., 1., 1., 1., 1., 1., 1., 1., 1., 1., 1., 1.], dtype=float32)"
      ]
     },
     "execution_count": 14,
     "metadata": {},
     "output_type": "execute_result"
    }
   ],
   "source": [
    "print(CFG.feature_cols)\n",
    "print(len(CFG.feature_cols))\n",
    "X[0,:,2]"
   ]
  },
  {
   "cell_type": "code",
   "execution_count": 15,
   "id": "significant-robinson",
   "metadata": {
    "execution": {
     "iopub.execute_input": "2021-08-11T02:24:11.189785Z",
     "iopub.status.busy": "2021-08-11T02:24:11.188982Z",
     "iopub.status.idle": "2021-08-11T02:24:11.480663Z",
     "shell.execute_reply": "2021-08-11T02:24:11.480212Z",
     "shell.execute_reply.started": "2021-08-11T01:41:23.287828Z"
    },
    "papermill": {
     "duration": 0.323799,
     "end_time": "2021-08-11T02:24:11.480777",
     "exception": false,
     "start_time": "2021-08-11T02:24:11.156978",
     "status": "completed"
    },
    "scrolled": false,
    "tags": []
   },
   "outputs": [
    {
     "name": "stdout",
     "output_type": "stream",
     "text": [
      "(tensor([[-9.8905e-01, -1.1006e+00,  0.0000e+00,  ..., -2.5033e-01,\n",
      "         -1.5476e+01, -4.4815e-02],\n",
      "        [-9.6361e-01,  8.7883e-01,  0.0000e+00,  ..., -2.5033e-01,\n",
      "          1.0331e-01,  1.2417e+02],\n",
      "        [-9.3801e-01,  1.0113e+00,  0.0000e+00,  ..., -2.5033e-01,\n",
      "          2.0044e-01,  2.7964e+01],\n",
      "        ...,\n",
      "        [ 9.9323e-01,  7.1990e-02,  1.0000e+00,  ..., -2.5033e-01,\n",
      "          2.7351e-01, -2.1968e-02],\n",
      "        [ 1.0189e+00,  7.2315e-02,  1.0000e+00,  ..., -2.5033e-01,\n",
      "          2.5143e-01, -2.5566e-02],\n",
      "        [ 1.0446e+00,  7.2590e-02,  1.0000e+00,  ..., -2.5033e-01,\n",
      "          2.7373e-01, -2.8552e-02]]), tensor([0, 0, 0, 0, 0, 0, 0, 0, 0, 0, 0, 0, 0, 0, 0, 0, 0, 0, 0, 0, 0, 0, 0, 0,\n",
      "        0, 0, 0, 0, 0, 0, 1, 1, 1, 1, 1, 1, 1, 1, 1, 1, 1, 1, 1, 1, 1, 1, 1, 1,\n",
      "        1, 1, 1, 1, 1, 1, 1, 1, 1, 1, 1, 1, 1, 1, 1, 1, 1, 1, 1, 1, 1, 1, 1, 1,\n",
      "        1, 1, 1, 1, 1, 1, 1, 1]), tensor([ 5.8375,  5.9078,  7.8763, 11.7429, 12.2350, 12.8677, 14.6956, 15.8907,\n",
      "        15.5392, 15.7501, 17.2967, 17.2264, 16.1719, 17.3670, 18.0701, 17.1561,\n",
      "        18.2810, 18.7731, 17.8592, 19.1246, 19.3355, 18.4919, 18.5622, 18.6325,\n",
      "        18.8434, 19.0543, 19.2652, 19.3355, 19.3355, 19.4761, 19.5464, 17.0155,\n",
      "         9.5635,  7.8763,  8.6496,  7.5950,  7.6653,  8.2981,  7.2435,  7.9466,\n",
      "         7.5950,  7.4544,  8.1575,  6.8217,  7.1732,  7.5247,  6.9623,  7.4544,\n",
      "         7.5950,  7.1732,  7.7356,  7.2435,  7.5950,  7.3841,  7.2435,  7.7356,\n",
      "         7.5247,  6.9623,  7.1029,  7.3138,  6.1187,  7.0326,  6.8217,  6.5405,\n",
      "         6.9623,  6.8217,  6.5405,  6.8217,  6.8217,  6.3999,  6.7514,  6.5405,\n",
      "         6.3999,  6.7514,  6.4702,  6.3999,  6.6108,  6.3296,  6.5405,  6.4702]))\n"
     ]
    }
   ],
   "source": [
    "ds = TrainDataset(X,y)\n",
    "print(ds[0])\n",
    "del ds"
   ]
  },
  {
   "cell_type": "markdown",
   "id": "selected-agriculture",
   "metadata": {
    "papermill": {
     "duration": 0.032091,
     "end_time": "2021-08-11T02:24:11.545052",
     "exception": false,
     "start_time": "2021-08-11T02:24:11.512961",
     "status": "completed"
    },
    "tags": []
   },
   "source": [
    "## DataModule"
   ]
  },
  {
   "cell_type": "code",
   "execution_count": 16,
   "id": "floppy-learning",
   "metadata": {
    "execution": {
     "iopub.execute_input": "2021-08-11T02:24:11.617376Z",
     "iopub.status.busy": "2021-08-11T02:24:11.616690Z",
     "iopub.status.idle": "2021-08-11T02:24:11.619484Z",
     "shell.execute_reply": "2021-08-11T02:24:11.619877Z",
     "shell.execute_reply.started": "2021-08-11T01:41:23.54445Z"
    },
    "papermill": {
     "duration": 0.043501,
     "end_time": "2021-08-11T02:24:11.619998",
     "exception": false,
     "start_time": "2021-08-11T02:24:11.576497",
     "status": "completed"
    },
    "tags": []
   },
   "outputs": [],
   "source": [
    "class DataModule(pl.LightningDataModule):\n",
    "    \"\"\"\n",
    "    numpy arrayで受け取る\n",
    "    \"\"\"\n",
    "    def __init__(self, tr_X, tr_y, val_X, val_y, test_X, cfg):\n",
    "        super().__init__()\n",
    "        self.train_data = tr_X\n",
    "        self.train_label = tr_y\n",
    "        self.valid_data = val_X\n",
    "        self.valid_label = val_y\n",
    "        self.test_data = test_X\n",
    "        self.cfg = cfg\n",
    "        \n",
    "    def setup(self, stage=None):\n",
    "        self.train_dataset = TrainDataset(self.train_data, self.train_label)\n",
    "        self.valid_dataset = TrainDataset(self.valid_data, self.valid_label)\n",
    "        self.test_dataset = TestDataset(self.test_data)\n",
    "        \n",
    "    # Trainer.fit() 時に呼び出される\n",
    "    def train_dataloader(self):\n",
    "        return DataLoader(self.train_dataset, **self.cfg.loader['train'])\n",
    "\n",
    "    # Trainer.fit() 時に呼び出される\n",
    "    def val_dataloader(self):\n",
    "        return DataLoader(self.valid_dataset, **self.cfg.loader['valid'])\n",
    "\n",
    "    def test_dataloader(self):\n",
    "        return DataLoader(self.test_dataset, **self.cfg.loader['valid'])"
   ]
  },
  {
   "cell_type": "code",
   "execution_count": 17,
   "id": "bc214feb",
   "metadata": {},
   "outputs": [
    {
     "name": "stdout",
     "output_type": "stream",
     "text": [
      "[tensor([[[-9.8905e-01,  6.9788e-01,  0.0000e+00,  ..., -1.7735e+00,\n",
      "          -1.5476e+01, -4.4815e-02],\n",
      "         [-9.6265e-01,  8.6767e-01,  0.0000e+00,  ..., -1.7735e+00,\n",
      "           6.8863e-01,  2.8327e+01],\n",
      "         [-9.3689e-01,  8.5706e-01,  0.0000e+00,  ..., -1.7735e+00,\n",
      "           2.9989e-01, -2.0312e+00],\n",
      "         ...,\n",
      "         [ 1.0182e+00,  7.2502e-02,  1.0000e+00,  ..., -1.7735e+00,\n",
      "           2.7539e-01, -2.7581e-02],\n",
      "         [ 1.0439e+00,  7.2747e-02,  1.0000e+00,  ..., -1.7735e+00,\n",
      "           2.8962e-01, -3.0265e-02],\n",
      "         [ 1.0705e+00,  7.2960e-02,  1.0000e+00,  ..., -1.7735e+00,\n",
      "           7.6490e-01, -3.2205e-02]],\n",
      "\n",
      "        [[-9.8905e-01,  2.7076e-01,  0.0000e+00,  ..., -3.8604e-01,\n",
      "          -1.5476e+01, -4.4815e-02],\n",
      "         [-9.6320e-01,  9.7959e-02,  0.0000e+00,  ..., -3.8604e-01,\n",
      "           3.5077e-01, -1.2120e+01],\n",
      "         [-9.3742e-01,  3.1189e-01,  0.0000e+00,  ..., -3.8604e-01,\n",
      "           3.1236e-01,  1.5380e+01],\n",
      "         ...,\n",
      "         [ 9.9281e-01,  7.2271e-02,  1.0000e+00,  ..., -3.8604e-01,\n",
      "           2.5916e-01, -2.5075e-02],\n",
      "         [ 1.0185e+00,  7.2553e-02,  1.0000e+00,  ..., -3.8604e-01,\n",
      "           2.6369e-01, -2.8156e-02],\n",
      "         [ 1.0442e+00,  7.2790e-02,  1.0000e+00,  ..., -3.8604e-01,\n",
      "           2.5717e-01, -3.0766e-02]],\n",
      "\n",
      "        [[-9.8905e-01,  1.8228e+00,  0.0000e+00,  ..., -3.4237e-01,\n",
      "          -1.5476e+01, -4.4815e-02],\n",
      "         [-9.6329e-01,  1.4316e+00,  0.0000e+00,  ..., -3.4237e-01,\n",
      "           2.9558e-01, -2.2625e+02],\n",
      "         [-9.3718e-01,  2.7042e-01,  0.0000e+00,  ..., -3.4237e-01,\n",
      "           5.1269e-01, -2.4025e+02],\n",
      "         ...,\n",
      "         [ 9.9313e-01,  7.2273e-02,  1.0000e+00,  ..., -3.4237e-01,\n",
      "           2.1192e-01, -2.5157e-02],\n",
      "         [ 1.0190e+00,  7.2556e-02,  1.0000e+00,  ..., -3.4237e-01,\n",
      "           3.7792e-01, -2.8060e-02],\n",
      "         [ 1.0447e+00,  7.2792e-02,  1.0000e+00,  ..., -3.4237e-01,\n",
      "           2.2671e-01, -3.0820e-02]],\n",
      "\n",
      "        ...,\n",
      "\n",
      "        [[-9.8905e-01,  1.8229e+00,  0.0000e+00,  ..., -5.6466e-01,\n",
      "          -1.5476e+01, -4.4815e-02],\n",
      "         [-9.6339e-01,  1.6766e+00,  0.0000e+00,  ..., -5.6466e-01,\n",
      "           2.3753e-01, -1.0003e+02],\n",
      "         [-9.3772e-01,  1.4637e+00,  0.0000e+00,  ..., -5.6466e-01,\n",
      "           2.4404e-01, -1.1229e+02],\n",
      "         ...,\n",
      "         [ 9.9242e-01,  7.2286e-02,  1.0000e+00,  ..., -5.6466e-01,\n",
      "           2.8389e-01, -2.5202e-02],\n",
      "         [ 1.0182e+00,  7.2566e-02,  1.0000e+00,  ..., -5.6466e-01,\n",
      "           3.0320e-01, -2.8253e-02],\n",
      "         [ 1.0441e+00,  7.2803e-02,  1.0000e+00,  ..., -5.6466e-01,\n",
      "           3.8433e-01, -3.0783e-02]],\n",
      "\n",
      "        [[-9.8905e-01, -1.1556e+00,  0.0000e+00,  ..., -4.3408e-01,\n",
      "          -1.5476e+01, -4.4815e-02],\n",
      "         [-9.6331e-01, -2.2489e-01,  0.0000e+00,  ..., -4.3408e-01,\n",
      "           2.8819e-01,  1.9512e+01],\n",
      "         [-9.3657e-01,  3.8931e-01,  0.0000e+00,  ..., -4.3408e-01,\n",
      "           8.9316e-01,  3.8083e+01],\n",
      "         ...,\n",
      "         [ 1.0201e+00,  7.2459e-02,  1.0000e+00,  ..., -4.3408e-01,\n",
      "           8.6898e-01, -2.6381e-02],\n",
      "         [ 1.0459e+00,  7.2712e-02,  1.0000e+00,  ..., -4.3408e-01,\n",
      "           3.5166e-01, -2.9813e-02],\n",
      "         [ 1.0717e+00,  7.2925e-02,  1.0000e+00,  ..., -4.3408e-01,\n",
      "           3.3124e-01, -3.2185e-02]],\n",
      "\n",
      "        [[-9.8905e-01, -1.1556e+00,  0.0000e+00,  ..., -3.4976e-01,\n",
      "          -1.5476e+01, -4.4815e-02],\n",
      "         [-9.6337e-01, -1.1556e+00,  0.0000e+00,  ..., -3.4976e-01,\n",
      "           2.5177e-01, -4.4815e-02],\n",
      "         [-9.3766e-01, -1.1556e+00,  0.0000e+00,  ..., -3.4976e-01,\n",
      "           2.6479e-01, -4.4815e-02],\n",
      "         ...,\n",
      "         [ 9.9163e-01,  7.2259e-02,  1.0000e+00,  ..., -3.4976e-01,\n",
      "           2.3985e-01, -2.4967e-02],\n",
      "         [ 1.0175e+00,  7.2544e-02,  1.0000e+00,  ..., -3.4976e-01,\n",
      "           3.6634e-01, -2.7942e-02],\n",
      "         [ 1.0432e+00,  7.2783e-02,  1.0000e+00,  ..., -3.4976e-01,\n",
      "           2.4294e-01, -3.0697e-02]]]), tensor([[0, 0, 0,  ..., 1, 1, 1],\n",
      "        [0, 0, 0,  ..., 1, 1, 1],\n",
      "        [0, 0, 0,  ..., 1, 1, 1],\n",
      "        ...,\n",
      "        [0, 0, 0,  ..., 1, 1, 1],\n",
      "        [0, 0, 0,  ..., 1, 1, 1],\n",
      "        [0, 0, 0,  ..., 1, 1, 1]]), tensor([[ 5.8375,  6.5405,  7.5950,  ...,  6.2593,  6.0484,  5.8375],\n",
      "        [ 6.3296,  7.2435,  6.8217,  ...,  6.3296,  6.3999,  6.3999],\n",
      "        [ 6.5405, 10.2665, 14.2034,  ...,  6.3999,  6.3999,  6.5405],\n",
      "        ...,\n",
      "        [ 6.1187, 10.2665, 14.6956,  ...,  6.1890,  6.5405,  6.3296],\n",
      "        [ 6.6108,  6.4702,  7.1029,  ...,  5.8375,  5.8375,  5.9781],\n",
      "        [ 6.3999,  6.0484,  6.4702,  ...,  6.4702,  6.3999,  6.4702]])]\n"
     ]
    }
   ],
   "source": [
    "Data = DataModule(X[Fold==0],y[Fold==0],X[Fold==1],y[Fold==1],X[Fold==2], CFG)\n",
    "Data.setup()\n",
    "loader = Data.train_dataloader()\n",
    "tmp = loader.__iter__()\n",
    "print(tmp.next())\n",
    "del Data, loader, tmp"
   ]
  },
  {
   "cell_type": "markdown",
   "id": "introductory-patio",
   "metadata": {
    "papermill": {
     "duration": 0.032014,
     "end_time": "2021-08-11T02:24:11.683189",
     "exception": false,
     "start_time": "2021-08-11T02:24:11.651175",
     "status": "completed"
    },
    "tags": []
   },
   "source": [
    "## Pytorch Lightning Module"
   ]
  },
  {
   "cell_type": "code",
   "execution_count": 18,
   "id": "advance-methodology",
   "metadata": {
    "execution": {
     "iopub.execute_input": "2021-08-11T02:24:11.757758Z",
     "iopub.status.busy": "2021-08-11T02:24:11.753814Z",
     "iopub.status.idle": "2021-08-11T02:24:11.760171Z",
     "shell.execute_reply": "2021-08-11T02:24:11.759778Z",
     "shell.execute_reply.started": "2021-08-11T01:41:23.559067Z"
    },
    "papermill": {
     "duration": 0.045409,
     "end_time": "2021-08-11T02:24:11.760269",
     "exception": false,
     "start_time": "2021-08-11T02:24:11.714860",
     "status": "completed"
    },
    "tags": []
   },
   "outputs": [],
   "source": [
    "# ====================================================\n",
    "# model\n",
    "# ====================================================\n",
    "class CustomModel(nn.Module):\n",
    "    def __init__(self, cfg):\n",
    "        super().__init__()\n",
    "        self.cfg = cfg\n",
    "        self.dense_dim = cfg.dense_dim #埋め込み特徴量次元\n",
    "        self.hidden_size = cfg.hidden_size\n",
    "        self.num_layers = cfg.num_layers\n",
    "        self.logit_dim = cfg.logit_dim\n",
    "        # nn.Embedding(vocab_size, emb_dim)\n",
    "        # 1層パーセプトロンのようなもの\n",
    "        #self.r_emb = nn.Embedding(3, 2, padding_idx=0)\n",
    "        #self.c_emb = nn.Embedding(3, 2, padding_idx=0)\n",
    "        self.mlp = nn.Sequential(\n",
    "            nn.Linear(len(cfg.feature_cols), self.dense_dim // 2),\n",
    "            nn.ReLU(),\n",
    "            nn.Linear(self.dense_dim // 2, self.dense_dim),\n",
    "            #nn.Dropout(0.2),\n",
    "            nn.ReLU(),\n",
    "        )\n",
    "        self.lstm1 = nn.LSTM(self.dense_dim, self.dense_dim//2,\n",
    "                            dropout=0.1, batch_first=True, bidirectional=True)\n",
    "        self.lstm2 = nn.LSTM(self.dense_dim//2 * 2, self.dense_dim//4,\n",
    "                            dropout=0.1, batch_first=True, bidirectional=True)\n",
    "        self.lstm3 = nn.LSTM(self.dense_dim//4 * 2, self.dense_dim//8,\n",
    "                            dropout=0.1, batch_first=True, bidirectional=True)\n",
    "        self.head = nn.Sequential(\n",
    "            nn.LayerNorm(self.hidden_size//8 * 2),\n",
    "            nn.GELU(),\n",
    "            #nn.Dropout(0.),\n",
    "            nn.Linear(self.hidden_size//8 * 2, 1),\n",
    "        )\n",
    "        # LSTMやGRUは直交行列に初期化する\n",
    "        for n, m in self.named_modules():\n",
    "            if isinstance(m, nn.LSTM):\n",
    "                print(f'init {m}')\n",
    "                for param in m.parameters():\n",
    "                    if len(param.shape) >= 2:\n",
    "                        nn.init.orthogonal_(param.data)\n",
    "                    else:\n",
    "                        nn.init.normal_(param.data)\n",
    "            elif isinstance(m, nn.GRU):\n",
    "                print(f\"init {m}\")\n",
    "                for param in m.parameters():\n",
    "                    if len(param.shape) >= 2:\n",
    "                        nn.init.orthogonal_(param.data)\n",
    "                    else:\n",
    "                        nn.init.normal_(param.data)\n",
    "\n",
    "    def forward(self, x):\n",
    "        bs = x.size(0)\n",
    "        features = self.mlp(x)\n",
    "        features, _ = self.lstm1(features)\n",
    "        features, _ = self.lstm2(features)\n",
    "        features, _ = self.lstm3(features)\n",
    "        output = self.head(features).view(bs, -1)\n",
    "        return output\n",
    "    \n",
    "def get_model(cfg):\n",
    "    model = CustomModel(cfg)\n",
    "    return model\n",
    "\n",
    "# ====================================================\n",
    "# criterion\n",
    "# ====================================================\n",
    "def compute_metric(df, preds):\n",
    "    \"\"\"\n",
    "    Metric for the problem, as I understood it.\n",
    "    \"\"\"\n",
    "    \n",
    "    y = np.array(df['pressure'].values.tolist())\n",
    "    w = 1 - np.array(df['u_out'].values.tolist())\n",
    "    \n",
    "    assert y.shape == preds.shape and w.shape == y.shape, (y.shape, preds.shape, w.shape)\n",
    "    \n",
    "    mae = w * np.abs(y - preds)\n",
    "    mae = mae.sum() / w.sum()\n",
    "    \n",
    "    return mae\n",
    "\n",
    "class VentilatorLoss(nn.Module):\n",
    "#     \"\"\"\n",
    "#     Directly optimizes the competition metric\n",
    "#     \"\"\"\n",
    "#     def __call__(self, preds, y, u_out):\n",
    "#         w = 1 - u_out\n",
    "#         mae = w * (y - preds).abs()\n",
    "#         mae = mae.sum(-1) / w.sum(-1)\n",
    "\n",
    "#         return mae\n",
    "    def __init__(self):\n",
    "        super().__init__()\n",
    "    def forward(self, preds, y, u_out):\n",
    "\n",
    "        mask = 1 - u_out\n",
    "        mae = torch.abs(mask * (y - preds))\n",
    "        mae = torch.sum(mae) / torch.sum(mask)\n",
    "\n",
    "        return mae\n",
    "\n",
    "def get_criterion():\n",
    "    if CFG.criterion_name == 'BCEWithLogitsLoss':\n",
    "        # plだとto(device)いらない\n",
    "        criterion = nn.BCEWithLogitsLoss(reduction=\"mean\")\n",
    "    if CFG.criterion_name == 'CrossEntropyLoss':\n",
    "        criterion = nn.CrossEntropyLoss()\n",
    "    if CFG.criterion_name == 'CustomLoss1':\n",
    "        # [reference]https://www.kaggle.com/theoviel/deep-learning-starter-simple-lstm\n",
    "        criterion = VentilatorLoss()\n",
    "    else:\n",
    "        raise NotImplementedError\n",
    "    return criterion\n",
    "# ====================================================\n",
    "# optimizer\n",
    "# ====================================================\n",
    "def get_optimizer(model: nn.Module, config: dict):\n",
    "    \"\"\"\n",
    "    input:\n",
    "    model:model\n",
    "    config:optimizer_nameやlrが入ったものを渡す\n",
    "    \n",
    "    output:optimizer\n",
    "    \"\"\"\n",
    "    optimizer_name = config.optimizer_name\n",
    "    if 'Adam' == optimizer_name:\n",
    "        return Adam(model.parameters(),\n",
    "                    lr=config.lr,\n",
    "                    weight_decay=config.weight_decay,\n",
    "                    amsgrad=config.amsgrad)\n",
    "    elif 'RAdam' == optimizer_name:\n",
    "        return optim.RAdam(model.parameters(),\n",
    "                           lr=config.lr,\n",
    "                           weight_decay=config.weight_decay)\n",
    "    elif 'sgd' == optimizer_name:\n",
    "        return SGD(model.parameters(),\n",
    "                   lr=config.lr,\n",
    "                   momentum=0.9,\n",
    "                   nesterov=True,\n",
    "                   weight_decay=config.weight_decay,)\n",
    "    else:\n",
    "        raise NotImplementedError\n",
    "\n",
    "# ====================================================\n",
    "# scheduler\n",
    "# ====================================================\n",
    "def get_scheduler(optimizer):\n",
    "    if CFG.scheduler=='ReduceLROnPlateau':\n",
    "        \"\"\"\n",
    "        factor : 学習率の減衰率\n",
    "        patience : 何ステップ向上しなければ減衰するかの値\n",
    "        eps : nanとかInf回避用の微小数\n",
    "        \"\"\"\n",
    "        scheduler = ReduceLROnPlateau(optimizer, mode='min', factor=CFG.factor, patience=CFG.patience, verbose=True, eps=CFG.eps)\n",
    "    elif CFG.scheduler=='CosineAnnealingLR':\n",
    "        \"\"\"\n",
    "        T_max : 1 半周期のステップサイズ\n",
    "        eta_min : 最小学習率(極小値)\n",
    "        \"\"\"\n",
    "        scheduler = CosineAnnealingLR(optimizer, T_max=CFG.T_max, eta_min=CFG.min_lr, last_epoch=-1)\n",
    "    elif CFG.scheduler=='CosineAnnealingWarmRestarts':\n",
    "        \"\"\"\n",
    "        T_0 : 初期の繰りかえし回数\n",
    "        T_mult : サイクルのスケール倍率\n",
    "        \"\"\"\n",
    "        scheduler = CosineAnnealingWarmRestarts(optimizer, T_0=CFG.T_0, T_mult=1, eta_min=CFG.min_lr, last_epoch=-1)\n",
    "    else:\n",
    "        raise NotImplementedError\n",
    "    return scheduler"
   ]
  },
  {
   "cell_type": "code",
   "execution_count": 19,
   "id": "bc37f4a4",
   "metadata": {},
   "outputs": [],
   "source": [
    "# # modelの動作確認\n",
    "# model = get_model(CFG)\n",
    "# Data = DataModule(df_train,df_train,df_train, CFG)\n",
    "# Data.setup()\n",
    "# loader = Data.train_dataloader()\n",
    "# tmp = loader.__iter__()\n",
    "# x, u_out, label = tmp.next()\n",
    "# print(x.shape, u_out.shape, label.shape)\n",
    "# output = model(x)\n",
    "# print(output.shape)\n",
    "# del model, Data, loader, tmp,x, u_out, label, output"
   ]
  },
  {
   "cell_type": "code",
   "execution_count": 20,
   "id": "genuine-student",
   "metadata": {
    "execution": {
     "iopub.execute_input": "2021-08-11T02:24:11.833756Z",
     "iopub.status.busy": "2021-08-11T02:24:11.829514Z",
     "iopub.status.idle": "2021-08-11T02:24:12.259729Z",
     "shell.execute_reply": "2021-08-11T02:24:12.260140Z",
     "shell.execute_reply.started": "2021-08-11T01:41:23.577098Z"
    },
    "papermill": {
     "duration": 0.468206,
     "end_time": "2021-08-11T02:24:12.260281",
     "exception": false,
     "start_time": "2021-08-11T02:24:11.792075",
     "status": "completed"
    },
    "tags": []
   },
   "outputs": [],
   "source": [
    "# #schedulerの確認\n",
    "# model = get_model(CFG)\n",
    "# optimizer = get_optimizer(model, CFG)\n",
    "# scheduler = get_scheduler(optimizer)\n",
    "# from pylab import rcParams\n",
    "# lrs = []\n",
    "# for epoch in range(1, CFG.epochs+1):\n",
    "#     scheduler.step(epoch-1)\n",
    "#     lrs.append(optimizer.param_groups[0][\"lr\"])\n",
    "# rcParams['figure.figsize'] = 20,3\n",
    "# print(lrs)\n",
    "# plt.plot(lrs)"
   ]
  },
  {
   "cell_type": "code",
   "execution_count": 21,
   "id": "charged-commodity",
   "metadata": {
    "execution": {
     "iopub.execute_input": "2021-08-11T02:24:12.417233Z",
     "iopub.status.busy": "2021-08-11T02:24:12.416431Z",
     "iopub.status.idle": "2021-08-11T02:24:12.419121Z",
     "shell.execute_reply": "2021-08-11T02:24:12.418716Z",
     "shell.execute_reply.started": "2021-08-11T01:41:24.052364Z"
    },
    "papermill": {
     "duration": 0.050613,
     "end_time": "2021-08-11T02:24:12.419225",
     "exception": false,
     "start_time": "2021-08-11T02:24:12.368612",
     "status": "completed"
    },
    "tags": []
   },
   "outputs": [],
   "source": [
    "class Trainer(pl.LightningModule):\n",
    "    def __init__(self, cfg):\n",
    "        super().__init__()\n",
    "        self.cfg = cfg\n",
    "        self.model = get_model(cfg)\n",
    "        self.criterion = get_criterion()\n",
    "    \n",
    "    def forward(self, x):\n",
    "        output = self.model(x)\n",
    "        return output\n",
    "    \n",
    "    def training_step(self, batch, batch_idx):\n",
    "        x, u_out, y = batch\n",
    "        # mixup とかしたい場合はここに差し込む\n",
    "        output = self.forward(x)\n",
    "        labels = y#.unsqueeze(1)\n",
    "        loss = self.criterion(output, labels ,u_out).mean()\n",
    "        #self.log_dict(dict(train_loss=loss))\n",
    "        self.log('train_loss', loss, on_step=True, prog_bar=True, logger=True)\n",
    "        return {\"loss\": loss, \"predictions\": output, \"labels\": labels}\n",
    "    \n",
    "    def training_epoch_end(self, outputs):\n",
    "        # training_stepの出力のまとまりがoutputsに入っている。\n",
    "        self.log(\"lr\", self.optimizer.param_groups[0]['lr'], prog_bar=True, logger=True)\n",
    "    \n",
    "    def validation_step(self, batch, batch_idx):\n",
    "        x, u_out, y = batch\n",
    "        output = self.forward(x)\n",
    "        labels = y#.unsqueeze(1)\n",
    "        loss = self.criterion(output,labels ,u_out).mean()\n",
    "        self.log('val_loss', loss, on_step= True, prog_bar=True, logger=True)\n",
    "        return {\"predictions\": output,\n",
    "                \"labels\": labels,\n",
    "                \"loss\": loss.item()}\n",
    "    \n",
    "    def validation_epoch_end(self, outputs):\n",
    "        preds = []\n",
    "        labels = []\n",
    "        loss = 0\n",
    "        for output in outputs:\n",
    "            preds += output['predictions']\n",
    "            labels += output['labels']\n",
    "            loss += output['loss']\n",
    "\n",
    "        labels = torch.stack(labels)\n",
    "        preds = torch.stack(preds)\n",
    "        loss = loss/len(outputs)\n",
    "        \n",
    "        self.log(\"val_loss_epoch\", loss, prog_bar=True, logger=True)\n",
    "        \n",
    "    def predict_step(self, batch, batch_idx):\n",
    "        x = batch\n",
    "        output = self.forward(x)\n",
    "        return output\n",
    "        \n",
    "    def test_step(self, batch, batch_idx):\n",
    "        x = batch       \n",
    "        output = self.forward(x)\n",
    "        return output\n",
    "    \n",
    "    def configure_optimizers(self):\n",
    "        self.optimizer = get_optimizer(self, self.cfg)\n",
    "        self.scheduler = {'scheduler': get_scheduler(self.optimizer),\n",
    "                          'interval': 'step', # or 'epoch'\n",
    "                          'frequency': 1}\n",
    "        return {'optimizer': self.optimizer, 'lr_scheduler': self.scheduler}"
   ]
  },
  {
   "cell_type": "markdown",
   "id": "higher-packing",
   "metadata": {
    "papermill": {
     "duration": 0.034187,
     "end_time": "2021-08-11T02:24:12.486943",
     "exception": false,
     "start_time": "2021-08-11T02:24:12.452756",
     "status": "completed"
    },
    "tags": []
   },
   "source": [
    "## Train"
   ]
  },
  {
   "cell_type": "code",
   "execution_count": 22,
   "id": "skilled-worcester",
   "metadata": {
    "execution": {
     "iopub.execute_input": "2021-08-11T02:24:12.563911Z",
     "iopub.status.busy": "2021-08-11T02:24:12.563051Z",
     "iopub.status.idle": "2021-08-11T03:08:50.208801Z",
     "shell.execute_reply": "2021-08-11T03:08:50.208309Z",
     "shell.execute_reply.started": "2021-08-11T01:41:24.074189Z"
    },
    "papermill": {
     "duration": 2677.689596,
     "end_time": "2021-08-11T03:08:50.209818",
     "exception": false,
     "start_time": "2021-08-11T02:24:12.520222",
     "status": "completed"
    },
    "tags": []
   },
   "outputs": [],
   "source": [
    "def train() -> None:\n",
    "    for fold in range(CFG.n_fold):\n",
    "        if not fold in CFG.trn_fold:\n",
    "            continue\n",
    "        print(f\"{'='*38} Fold: {fold} {'='*38}\")\n",
    "        # Logger\n",
    "        #======================================================\n",
    "        lr_monitor = LearningRateMonitor(logging_interval='step')\n",
    "        # 学習済重みを保存するために必要\n",
    "        loss_checkpoint = ModelCheckpoint(\n",
    "            dirpath=OUTPUT_DIR,\n",
    "            filename=f\"best_loss_fold{fold}\",\n",
    "            monitor=\"val_loss\",\n",
    "            save_last=True,\n",
    "            save_top_k=1,\n",
    "            save_weights_only=True,\n",
    "            mode=\"min\",\n",
    "        )\n",
    "        \n",
    "        wandb_logger = WandbLogger(\n",
    "            project=f'{CFG.competition}',\n",
    "            group= f'{CFG.exp_name}',\n",
    "            name = f'Fold{fold}',\n",
    "            save_dir=OUTPUT_DIR\n",
    "        )\n",
    "        data_module = DataModule(X[Fold!=fold], y[Fold!=fold],\n",
    "                                 X[Fold==fold], y[Fold==fold],\n",
    "                                 test_X,\n",
    "                                 CFG\n",
    "                                )\n",
    "        data_module.setup()\n",
    "        \n",
    "        CFG.T_max = int(math.ceil(len(data_module.train_dataloader())/CFG.grad_acc)*CFG.epochs)\n",
    "        print(f\"set schedular T_max {CFG.T_max}\")\n",
    "        #early_stopping_callback = EarlyStopping(monitor='val_loss_epoch',mode=\"min\", patience=5)\n",
    "        \n",
    "        trainer = pl.Trainer(\n",
    "            logger=wandb_logger,\n",
    "            callbacks=[loss_checkpoint],#lr_monitor,early_stopping_callback\n",
    "            default_root_dir=OUTPUT_DIR,\n",
    "            accumulate_grad_batches=CFG.grad_acc,\n",
    "            max_epochs=CFG.epochs,\n",
    "            precision=CFG.precision,\n",
    "            **CFG.trainer\n",
    "        )\n",
    "        # 学習\n",
    "        model = Trainer(CFG)\n",
    "        trainer.fit(model, data_module)\n",
    "        torch.save(model.model.state_dict(),OUTPUT_DIR + '/' + f'{CFG.exp_name}_fold{fold}.pth')\n",
    "        \n",
    "        del model, data_module\n",
    "        # テストデータを予測して保存\n",
    "        if CFG.inference:\n",
    "            data_module = DataModule(X[0:1], y[0:1], X[0:1], y[0:1], test_X, CFG)\n",
    "            data_module.setup()\n",
    "            # best loss modelのロード\n",
    "            best_model = Trainer.load_from_checkpoint(cfg=CFG,checkpoint_path=loss_checkpoint.best_model_path)\n",
    "            predictions = trainer.predict(best_model, data_module.test_dataloader())\n",
    "            preds = []\n",
    "            for p in predictions:\n",
    "                preds += p\n",
    "            preds = torch.stack(preds).flatten()\n",
    "            submission['pressure'] = preds.to('cpu').detach().numpy()\n",
    "            submission.to_csv(OUTPUT_DIR + '/' + f'{CFG.exp_name}sub_fold{fold}.csv',index=False)\n",
    "        \n",
    "        wandb.finish()\n",
    "\n",
    "        \n",
    "        "
   ]
  },
  {
   "cell_type": "code",
   "execution_count": 23,
   "id": "fee2ab69",
   "metadata": {
    "execution": {
     "iopub.execute_input": "2021-08-11T03:08:50.303962Z",
     "iopub.status.busy": "2021-08-11T03:08:50.303039Z",
     "iopub.status.idle": "2021-08-11T03:08:51.027038Z",
     "shell.execute_reply": "2021-08-11T03:08:51.026519Z",
     "shell.execute_reply.started": "2021-08-11T01:42:17.632323Z"
    },
    "papermill": {
     "duration": 0.775172,
     "end_time": "2021-08-11T03:08:51.027159",
     "exception": false,
     "start_time": "2021-08-11T03:08:50.251987",
     "status": "completed"
    },
    "scrolled": false,
    "tags": []
   },
   "outputs": [
    {
     "name": "stdout",
     "output_type": "stream",
     "text": [
      "====================================== Fold: 0 ======================================\n"
     ]
    },
    {
     "name": "stderr",
     "output_type": "stream",
     "text": [
      "Using native 16bit precision.\n",
      "GPU available: True, used: True\n",
      "TPU available: False, using: 0 TPU cores\n",
      "IPU available: False, using: 0 IPUs\n",
      "D:\\python\\Anaconda3\\lib\\site-packages\\pytorch_lightning\\core\\datamodule.py:424: LightningDeprecationWarning: DataModule.setup has already been called, so it will not be called again. In v1.6 this behavior will change to always call DataModule.setup.\n",
      "  f\"DataModule.{name} has already been called, so it will not be called again. \"\n",
      "LOCAL_RANK: 0 - CUDA_VISIBLE_DEVICES: [0]\n"
     ]
    },
    {
     "name": "stdout",
     "output_type": "stream",
     "text": [
      "set schedular T_max 35100\n",
      "init LSTM(512, 256, batch_first=True, dropout=0.1, bidirectional=True)\n",
      "init LSTM(512, 128, batch_first=True, dropout=0.1, bidirectional=True)\n",
      "init LSTM(256, 64, batch_first=True, dropout=0.1, bidirectional=True)\n"
     ]
    },
    {
     "name": "stderr",
     "output_type": "stream",
     "text": [
      "\u001b[34m\u001b[1mwandb\u001b[0m: wandb version 0.12.4 is available!  To upgrade, please run:\n",
      "\u001b[34m\u001b[1mwandb\u001b[0m:  $ pip install wandb --upgrade\n"
     ]
    },
    {
     "data": {
      "text/html": [
       "\n",
       "                Tracking run with wandb version 0.10.15<br/>\n",
       "                Syncing run <strong style=\"color:#cdcd00\">Fold0</strong> to <a href=\"https://wandb.ai\" target=\"_blank\">Weights & Biases</a> <a href=\"https://docs.wandb.com/integrations/jupyter.html\" target=\"_blank\">(Documentation)</a>.<br/>\n",
       "                Project page: <a href=\"https://wandb.ai/teyosan1229/ventilator\" target=\"_blank\">https://wandb.ai/teyosan1229/ventilator</a><br/>\n",
       "                Run page: <a href=\"https://wandb.ai/teyosan1229/ventilator/runs/2x5kpazz\" target=\"_blank\">https://wandb.ai/teyosan1229/ventilator/runs/2x5kpazz</a><br/>\n",
       "                Run data is saved locally in <code>F:/Kaggle/ventilator-pressure-prediction/data/output/exp025/wandb\\run-20211008_064006-2x5kpazz</code><br/><br/>\n",
       "            "
      ],
      "text/plain": [
       "<IPython.core.display.HTML object>"
      ]
     },
     "metadata": {},
     "output_type": "display_data"
    },
    {
     "name": "stderr",
     "output_type": "stream",
     "text": [
      "\n",
      "  | Name      | Type           | Params\n",
      "---------------------------------------------\n",
      "0 | model     | CustomModel    | 2.5 M \n",
      "1 | criterion | VentilatorLoss | 0     \n",
      "---------------------------------------------\n",
      "2.5 M     Trainable params\n",
      "0         Non-trainable params\n",
      "2.5 M     Total params\n",
      "10.170    Total estimated model params size (MB)\n"
     ]
    },
    {
     "data": {
      "application/vnd.jupyter.widget-view+json": {
       "model_id": "",
       "version_major": 2,
       "version_minor": 0
      },
      "text/plain": [
       "Validation sanity check: 0it [00:00, ?it/s]"
      ]
     },
     "metadata": {},
     "output_type": "display_data"
    },
    {
     "name": "stderr",
     "output_type": "stream",
     "text": [
      "Global seed set to 29\n"
     ]
    },
    {
     "data": {
      "application/vnd.jupyter.widget-view+json": {
       "model_id": "cfcc648be2de46cebed4884810be263b",
       "version_major": 2,
       "version_minor": 0
      },
      "text/plain": [
       "Training: -1it [00:00, ?it/s]"
      ]
     },
     "metadata": {},
     "output_type": "display_data"
    },
    {
     "name": "stderr",
     "output_type": "stream",
     "text": [
      "D:\\python\\Anaconda3\\lib\\site-packages\\pytorch_lightning\\trainer\\connectors\\logger_connector\\result.py:398: LightningDeprecationWarning: One of the returned values {'labels', 'predictions'} has a `grad_fn`. We will detach it automatically but this behaviour will change in v1.6. Please detach it manually: `return {'loss': ..., 'something': something.detach()}`\n",
      "  f\"One of the returned values {set(extra.keys())} has a `grad_fn`. We will detach it automatically\"\n"
     ]
    },
    {
     "data": {
      "application/vnd.jupyter.widget-view+json": {
       "model_id": "",
       "version_major": 2,
       "version_minor": 0
      },
      "text/plain": [
       "Validating: 0it [00:00, ?it/s]"
      ]
     },
     "metadata": {},
     "output_type": "display_data"
    },
    {
     "data": {
      "application/vnd.jupyter.widget-view+json": {
       "model_id": "",
       "version_major": 2,
       "version_minor": 0
      },
      "text/plain": [
       "Validating: 0it [00:00, ?it/s]"
      ]
     },
     "metadata": {},
     "output_type": "display_data"
    },
    {
     "data": {
      "application/vnd.jupyter.widget-view+json": {
       "model_id": "",
       "version_major": 2,
       "version_minor": 0
      },
      "text/plain": [
       "Validating: 0it [00:00, ?it/s]"
      ]
     },
     "metadata": {},
     "output_type": "display_data"
    },
    {
     "data": {
      "application/vnd.jupyter.widget-view+json": {
       "model_id": "",
       "version_major": 2,
       "version_minor": 0
      },
      "text/plain": [
       "Validating: 0it [00:00, ?it/s]"
      ]
     },
     "metadata": {},
     "output_type": "display_data"
    },
    {
     "data": {
      "application/vnd.jupyter.widget-view+json": {
       "model_id": "",
       "version_major": 2,
       "version_minor": 0
      },
      "text/plain": [
       "Validating: 0it [00:00, ?it/s]"
      ]
     },
     "metadata": {},
     "output_type": "display_data"
    },
    {
     "data": {
      "application/vnd.jupyter.widget-view+json": {
       "model_id": "",
       "version_major": 2,
       "version_minor": 0
      },
      "text/plain": [
       "Validating: 0it [00:00, ?it/s]"
      ]
     },
     "metadata": {},
     "output_type": "display_data"
    },
    {
     "data": {
      "application/vnd.jupyter.widget-view+json": {
       "model_id": "",
       "version_major": 2,
       "version_minor": 0
      },
      "text/plain": [
       "Validating: 0it [00:00, ?it/s]"
      ]
     },
     "metadata": {},
     "output_type": "display_data"
    },
    {
     "data": {
      "application/vnd.jupyter.widget-view+json": {
       "model_id": "",
       "version_major": 2,
       "version_minor": 0
      },
      "text/plain": [
       "Validating: 0it [00:00, ?it/s]"
      ]
     },
     "metadata": {},
     "output_type": "display_data"
    },
    {
     "data": {
      "application/vnd.jupyter.widget-view+json": {
       "model_id": "",
       "version_major": 2,
       "version_minor": 0
      },
      "text/plain": [
       "Validating: 0it [00:00, ?it/s]"
      ]
     },
     "metadata": {},
     "output_type": "display_data"
    },
    {
     "data": {
      "application/vnd.jupyter.widget-view+json": {
       "model_id": "",
       "version_major": 2,
       "version_minor": 0
      },
      "text/plain": [
       "Validating: 0it [00:00, ?it/s]"
      ]
     },
     "metadata": {},
     "output_type": "display_data"
    },
    {
     "data": {
      "application/vnd.jupyter.widget-view+json": {
       "model_id": "",
       "version_major": 2,
       "version_minor": 0
      },
      "text/plain": [
       "Validating: 0it [00:00, ?it/s]"
      ]
     },
     "metadata": {},
     "output_type": "display_data"
    },
    {
     "data": {
      "application/vnd.jupyter.widget-view+json": {
       "model_id": "",
       "version_major": 2,
       "version_minor": 0
      },
      "text/plain": [
       "Validating: 0it [00:00, ?it/s]"
      ]
     },
     "metadata": {},
     "output_type": "display_data"
    },
    {
     "data": {
      "application/vnd.jupyter.widget-view+json": {
       "model_id": "",
       "version_major": 2,
       "version_minor": 0
      },
      "text/plain": [
       "Validating: 0it [00:00, ?it/s]"
      ]
     },
     "metadata": {},
     "output_type": "display_data"
    },
    {
     "data": {
      "application/vnd.jupyter.widget-view+json": {
       "model_id": "",
       "version_major": 2,
       "version_minor": 0
      },
      "text/plain": [
       "Validating: 0it [00:00, ?it/s]"
      ]
     },
     "metadata": {},
     "output_type": "display_data"
    },
    {
     "data": {
      "application/vnd.jupyter.widget-view+json": {
       "model_id": "",
       "version_major": 2,
       "version_minor": 0
      },
      "text/plain": [
       "Validating: 0it [00:00, ?it/s]"
      ]
     },
     "metadata": {},
     "output_type": "display_data"
    },
    {
     "data": {
      "application/vnd.jupyter.widget-view+json": {
       "model_id": "",
       "version_major": 2,
       "version_minor": 0
      },
      "text/plain": [
       "Validating: 0it [00:00, ?it/s]"
      ]
     },
     "metadata": {},
     "output_type": "display_data"
    },
    {
     "data": {
      "application/vnd.jupyter.widget-view+json": {
       "model_id": "",
       "version_major": 2,
       "version_minor": 0
      },
      "text/plain": [
       "Validating: 0it [00:00, ?it/s]"
      ]
     },
     "metadata": {},
     "output_type": "display_data"
    },
    {
     "data": {
      "application/vnd.jupyter.widget-view+json": {
       "model_id": "",
       "version_major": 2,
       "version_minor": 0
      },
      "text/plain": [
       "Validating: 0it [00:00, ?it/s]"
      ]
     },
     "metadata": {},
     "output_type": "display_data"
    },
    {
     "data": {
      "application/vnd.jupyter.widget-view+json": {
       "model_id": "",
       "version_major": 2,
       "version_minor": 0
      },
      "text/plain": [
       "Validating: 0it [00:00, ?it/s]"
      ]
     },
     "metadata": {},
     "output_type": "display_data"
    },
    {
     "data": {
      "application/vnd.jupyter.widget-view+json": {
       "model_id": "",
       "version_major": 2,
       "version_minor": 0
      },
      "text/plain": [
       "Validating: 0it [00:00, ?it/s]"
      ]
     },
     "metadata": {},
     "output_type": "display_data"
    },
    {
     "data": {
      "application/vnd.jupyter.widget-view+json": {
       "model_id": "",
       "version_major": 2,
       "version_minor": 0
      },
      "text/plain": [
       "Validating: 0it [00:00, ?it/s]"
      ]
     },
     "metadata": {},
     "output_type": "display_data"
    },
    {
     "data": {
      "application/vnd.jupyter.widget-view+json": {
       "model_id": "",
       "version_major": 2,
       "version_minor": 0
      },
      "text/plain": [
       "Validating: 0it [00:00, ?it/s]"
      ]
     },
     "metadata": {},
     "output_type": "display_data"
    },
    {
     "data": {
      "application/vnd.jupyter.widget-view+json": {
       "model_id": "",
       "version_major": 2,
       "version_minor": 0
      },
      "text/plain": [
       "Validating: 0it [00:00, ?it/s]"
      ]
     },
     "metadata": {},
     "output_type": "display_data"
    },
    {
     "data": {
      "application/vnd.jupyter.widget-view+json": {
       "model_id": "",
       "version_major": 2,
       "version_minor": 0
      },
      "text/plain": [
       "Validating: 0it [00:00, ?it/s]"
      ]
     },
     "metadata": {},
     "output_type": "display_data"
    },
    {
     "data": {
      "application/vnd.jupyter.widget-view+json": {
       "model_id": "",
       "version_major": 2,
       "version_minor": 0
      },
      "text/plain": [
       "Validating: 0it [00:00, ?it/s]"
      ]
     },
     "metadata": {},
     "output_type": "display_data"
    },
    {
     "data": {
      "application/vnd.jupyter.widget-view+json": {
       "model_id": "",
       "version_major": 2,
       "version_minor": 0
      },
      "text/plain": [
       "Validating: 0it [00:00, ?it/s]"
      ]
     },
     "metadata": {},
     "output_type": "display_data"
    },
    {
     "data": {
      "application/vnd.jupyter.widget-view+json": {
       "model_id": "",
       "version_major": 2,
       "version_minor": 0
      },
      "text/plain": [
       "Validating: 0it [00:00, ?it/s]"
      ]
     },
     "metadata": {},
     "output_type": "display_data"
    },
    {
     "data": {
      "application/vnd.jupyter.widget-view+json": {
       "model_id": "",
       "version_major": 2,
       "version_minor": 0
      },
      "text/plain": [
       "Validating: 0it [00:00, ?it/s]"
      ]
     },
     "metadata": {},
     "output_type": "display_data"
    },
    {
     "data": {
      "application/vnd.jupyter.widget-view+json": {
       "model_id": "",
       "version_major": 2,
       "version_minor": 0
      },
      "text/plain": [
       "Validating: 0it [00:00, ?it/s]"
      ]
     },
     "metadata": {},
     "output_type": "display_data"
    },
    {
     "data": {
      "application/vnd.jupyter.widget-view+json": {
       "model_id": "",
       "version_major": 2,
       "version_minor": 0
      },
      "text/plain": [
       "Validating: 0it [00:00, ?it/s]"
      ]
     },
     "metadata": {},
     "output_type": "display_data"
    },
    {
     "data": {
      "application/vnd.jupyter.widget-view+json": {
       "model_id": "",
       "version_major": 2,
       "version_minor": 0
      },
      "text/plain": [
       "Validating: 0it [00:00, ?it/s]"
      ]
     },
     "metadata": {},
     "output_type": "display_data"
    },
    {
     "data": {
      "application/vnd.jupyter.widget-view+json": {
       "model_id": "",
       "version_major": 2,
       "version_minor": 0
      },
      "text/plain": [
       "Validating: 0it [00:00, ?it/s]"
      ]
     },
     "metadata": {},
     "output_type": "display_data"
    },
    {
     "data": {
      "application/vnd.jupyter.widget-view+json": {
       "model_id": "",
       "version_major": 2,
       "version_minor": 0
      },
      "text/plain": [
       "Validating: 0it [00:00, ?it/s]"
      ]
     },
     "metadata": {},
     "output_type": "display_data"
    },
    {
     "data": {
      "application/vnd.jupyter.widget-view+json": {
       "model_id": "",
       "version_major": 2,
       "version_minor": 0
      },
      "text/plain": [
       "Validating: 0it [00:00, ?it/s]"
      ]
     },
     "metadata": {},
     "output_type": "display_data"
    },
    {
     "data": {
      "application/vnd.jupyter.widget-view+json": {
       "model_id": "",
       "version_major": 2,
       "version_minor": 0
      },
      "text/plain": [
       "Validating: 0it [00:00, ?it/s]"
      ]
     },
     "metadata": {},
     "output_type": "display_data"
    },
    {
     "data": {
      "application/vnd.jupyter.widget-view+json": {
       "model_id": "",
       "version_major": 2,
       "version_minor": 0
      },
      "text/plain": [
       "Validating: 0it [00:00, ?it/s]"
      ]
     },
     "metadata": {},
     "output_type": "display_data"
    },
    {
     "data": {
      "application/vnd.jupyter.widget-view+json": {
       "model_id": "",
       "version_major": 2,
       "version_minor": 0
      },
      "text/plain": [
       "Validating: 0it [00:00, ?it/s]"
      ]
     },
     "metadata": {},
     "output_type": "display_data"
    },
    {
     "data": {
      "application/vnd.jupyter.widget-view+json": {
       "model_id": "",
       "version_major": 2,
       "version_minor": 0
      },
      "text/plain": [
       "Validating: 0it [00:00, ?it/s]"
      ]
     },
     "metadata": {},
     "output_type": "display_data"
    },
    {
     "data": {
      "application/vnd.jupyter.widget-view+json": {
       "model_id": "",
       "version_major": 2,
       "version_minor": 0
      },
      "text/plain": [
       "Validating: 0it [00:00, ?it/s]"
      ]
     },
     "metadata": {},
     "output_type": "display_data"
    },
    {
     "data": {
      "application/vnd.jupyter.widget-view+json": {
       "model_id": "",
       "version_major": 2,
       "version_minor": 0
      },
      "text/plain": [
       "Validating: 0it [00:00, ?it/s]"
      ]
     },
     "metadata": {},
     "output_type": "display_data"
    },
    {
     "data": {
      "application/vnd.jupyter.widget-view+json": {
       "model_id": "",
       "version_major": 2,
       "version_minor": 0
      },
      "text/plain": [
       "Validating: 0it [00:00, ?it/s]"
      ]
     },
     "metadata": {},
     "output_type": "display_data"
    },
    {
     "data": {
      "application/vnd.jupyter.widget-view+json": {
       "model_id": "",
       "version_major": 2,
       "version_minor": 0
      },
      "text/plain": [
       "Validating: 0it [00:00, ?it/s]"
      ]
     },
     "metadata": {},
     "output_type": "display_data"
    },
    {
     "data": {
      "application/vnd.jupyter.widget-view+json": {
       "model_id": "",
       "version_major": 2,
       "version_minor": 0
      },
      "text/plain": [
       "Validating: 0it [00:00, ?it/s]"
      ]
     },
     "metadata": {},
     "output_type": "display_data"
    },
    {
     "data": {
      "application/vnd.jupyter.widget-view+json": {
       "model_id": "",
       "version_major": 2,
       "version_minor": 0
      },
      "text/plain": [
       "Validating: 0it [00:00, ?it/s]"
      ]
     },
     "metadata": {},
     "output_type": "display_data"
    },
    {
     "data": {
      "application/vnd.jupyter.widget-view+json": {
       "model_id": "",
       "version_major": 2,
       "version_minor": 0
      },
      "text/plain": [
       "Validating: 0it [00:00, ?it/s]"
      ]
     },
     "metadata": {},
     "output_type": "display_data"
    },
    {
     "data": {
      "application/vnd.jupyter.widget-view+json": {
       "model_id": "",
       "version_major": 2,
       "version_minor": 0
      },
      "text/plain": [
       "Validating: 0it [00:00, ?it/s]"
      ]
     },
     "metadata": {},
     "output_type": "display_data"
    },
    {
     "data": {
      "application/vnd.jupyter.widget-view+json": {
       "model_id": "",
       "version_major": 2,
       "version_minor": 0
      },
      "text/plain": [
       "Validating: 0it [00:00, ?it/s]"
      ]
     },
     "metadata": {},
     "output_type": "display_data"
    },
    {
     "data": {
      "application/vnd.jupyter.widget-view+json": {
       "model_id": "",
       "version_major": 2,
       "version_minor": 0
      },
      "text/plain": [
       "Validating: 0it [00:00, ?it/s]"
      ]
     },
     "metadata": {},
     "output_type": "display_data"
    },
    {
     "data": {
      "application/vnd.jupyter.widget-view+json": {
       "model_id": "",
       "version_major": 2,
       "version_minor": 0
      },
      "text/plain": [
       "Validating: 0it [00:00, ?it/s]"
      ]
     },
     "metadata": {},
     "output_type": "display_data"
    },
    {
     "data": {
      "application/vnd.jupyter.widget-view+json": {
       "model_id": "",
       "version_major": 2,
       "version_minor": 0
      },
      "text/plain": [
       "Validating: 0it [00:00, ?it/s]"
      ]
     },
     "metadata": {},
     "output_type": "display_data"
    },
    {
     "data": {
      "application/vnd.jupyter.widget-view+json": {
       "model_id": "",
       "version_major": 2,
       "version_minor": 0
      },
      "text/plain": [
       "Validating: 0it [00:00, ?it/s]"
      ]
     },
     "metadata": {},
     "output_type": "display_data"
    },
    {
     "data": {
      "application/vnd.jupyter.widget-view+json": {
       "model_id": "",
       "version_major": 2,
       "version_minor": 0
      },
      "text/plain": [
       "Validating: 0it [00:00, ?it/s]"
      ]
     },
     "metadata": {},
     "output_type": "display_data"
    },
    {
     "data": {
      "application/vnd.jupyter.widget-view+json": {
       "model_id": "",
       "version_major": 2,
       "version_minor": 0
      },
      "text/plain": [
       "Validating: 0it [00:00, ?it/s]"
      ]
     },
     "metadata": {},
     "output_type": "display_data"
    },
    {
     "data": {
      "application/vnd.jupyter.widget-view+json": {
       "model_id": "",
       "version_major": 2,
       "version_minor": 0
      },
      "text/plain": [
       "Validating: 0it [00:00, ?it/s]"
      ]
     },
     "metadata": {},
     "output_type": "display_data"
    },
    {
     "data": {
      "application/vnd.jupyter.widget-view+json": {
       "model_id": "",
       "version_major": 2,
       "version_minor": 0
      },
      "text/plain": [
       "Validating: 0it [00:00, ?it/s]"
      ]
     },
     "metadata": {},
     "output_type": "display_data"
    },
    {
     "data": {
      "application/vnd.jupyter.widget-view+json": {
       "model_id": "",
       "version_major": 2,
       "version_minor": 0
      },
      "text/plain": [
       "Validating: 0it [00:00, ?it/s]"
      ]
     },
     "metadata": {},
     "output_type": "display_data"
    },
    {
     "data": {
      "application/vnd.jupyter.widget-view+json": {
       "model_id": "",
       "version_major": 2,
       "version_minor": 0
      },
      "text/plain": [
       "Validating: 0it [00:00, ?it/s]"
      ]
     },
     "metadata": {},
     "output_type": "display_data"
    },
    {
     "data": {
      "application/vnd.jupyter.widget-view+json": {
       "model_id": "",
       "version_major": 2,
       "version_minor": 0
      },
      "text/plain": [
       "Validating: 0it [00:00, ?it/s]"
      ]
     },
     "metadata": {},
     "output_type": "display_data"
    },
    {
     "data": {
      "application/vnd.jupyter.widget-view+json": {
       "model_id": "",
       "version_major": 2,
       "version_minor": 0
      },
      "text/plain": [
       "Validating: 0it [00:00, ?it/s]"
      ]
     },
     "metadata": {},
     "output_type": "display_data"
    },
    {
     "data": {
      "application/vnd.jupyter.widget-view+json": {
       "model_id": "",
       "version_major": 2,
       "version_minor": 0
      },
      "text/plain": [
       "Validating: 0it [00:00, ?it/s]"
      ]
     },
     "metadata": {},
     "output_type": "display_data"
    },
    {
     "data": {
      "application/vnd.jupyter.widget-view+json": {
       "model_id": "",
       "version_major": 2,
       "version_minor": 0
      },
      "text/plain": [
       "Validating: 0it [00:00, ?it/s]"
      ]
     },
     "metadata": {},
     "output_type": "display_data"
    },
    {
     "data": {
      "application/vnd.jupyter.widget-view+json": {
       "model_id": "",
       "version_major": 2,
       "version_minor": 0
      },
      "text/plain": [
       "Validating: 0it [00:00, ?it/s]"
      ]
     },
     "metadata": {},
     "output_type": "display_data"
    },
    {
     "data": {
      "application/vnd.jupyter.widget-view+json": {
       "model_id": "",
       "version_major": 2,
       "version_minor": 0
      },
      "text/plain": [
       "Validating: 0it [00:00, ?it/s]"
      ]
     },
     "metadata": {},
     "output_type": "display_data"
    },
    {
     "data": {
      "application/vnd.jupyter.widget-view+json": {
       "model_id": "",
       "version_major": 2,
       "version_minor": 0
      },
      "text/plain": [
       "Validating: 0it [00:00, ?it/s]"
      ]
     },
     "metadata": {},
     "output_type": "display_data"
    },
    {
     "data": {
      "application/vnd.jupyter.widget-view+json": {
       "model_id": "",
       "version_major": 2,
       "version_minor": 0
      },
      "text/plain": [
       "Validating: 0it [00:00, ?it/s]"
      ]
     },
     "metadata": {},
     "output_type": "display_data"
    },
    {
     "data": {
      "application/vnd.jupyter.widget-view+json": {
       "model_id": "",
       "version_major": 2,
       "version_minor": 0
      },
      "text/plain": [
       "Validating: 0it [00:00, ?it/s]"
      ]
     },
     "metadata": {},
     "output_type": "display_data"
    },
    {
     "data": {
      "application/vnd.jupyter.widget-view+json": {
       "model_id": "",
       "version_major": 2,
       "version_minor": 0
      },
      "text/plain": [
       "Validating: 0it [00:00, ?it/s]"
      ]
     },
     "metadata": {},
     "output_type": "display_data"
    },
    {
     "data": {
      "application/vnd.jupyter.widget-view+json": {
       "model_id": "",
       "version_major": 2,
       "version_minor": 0
      },
      "text/plain": [
       "Validating: 0it [00:00, ?it/s]"
      ]
     },
     "metadata": {},
     "output_type": "display_data"
    },
    {
     "data": {
      "application/vnd.jupyter.widget-view+json": {
       "model_id": "",
       "version_major": 2,
       "version_minor": 0
      },
      "text/plain": [
       "Validating: 0it [00:00, ?it/s]"
      ]
     },
     "metadata": {},
     "output_type": "display_data"
    },
    {
     "data": {
      "application/vnd.jupyter.widget-view+json": {
       "model_id": "",
       "version_major": 2,
       "version_minor": 0
      },
      "text/plain": [
       "Validating: 0it [00:00, ?it/s]"
      ]
     },
     "metadata": {},
     "output_type": "display_data"
    },
    {
     "data": {
      "application/vnd.jupyter.widget-view+json": {
       "model_id": "",
       "version_major": 2,
       "version_minor": 0
      },
      "text/plain": [
       "Validating: 0it [00:00, ?it/s]"
      ]
     },
     "metadata": {},
     "output_type": "display_data"
    },
    {
     "data": {
      "application/vnd.jupyter.widget-view+json": {
       "model_id": "",
       "version_major": 2,
       "version_minor": 0
      },
      "text/plain": [
       "Validating: 0it [00:00, ?it/s]"
      ]
     },
     "metadata": {},
     "output_type": "display_data"
    },
    {
     "data": {
      "application/vnd.jupyter.widget-view+json": {
       "model_id": "",
       "version_major": 2,
       "version_minor": 0
      },
      "text/plain": [
       "Validating: 0it [00:00, ?it/s]"
      ]
     },
     "metadata": {},
     "output_type": "display_data"
    },
    {
     "data": {
      "application/vnd.jupyter.widget-view+json": {
       "model_id": "",
       "version_major": 2,
       "version_minor": 0
      },
      "text/plain": [
       "Validating: 0it [00:00, ?it/s]"
      ]
     },
     "metadata": {},
     "output_type": "display_data"
    },
    {
     "data": {
      "application/vnd.jupyter.widget-view+json": {
       "model_id": "",
       "version_major": 2,
       "version_minor": 0
      },
      "text/plain": [
       "Validating: 0it [00:00, ?it/s]"
      ]
     },
     "metadata": {},
     "output_type": "display_data"
    },
    {
     "data": {
      "application/vnd.jupyter.widget-view+json": {
       "model_id": "",
       "version_major": 2,
       "version_minor": 0
      },
      "text/plain": [
       "Validating: 0it [00:00, ?it/s]"
      ]
     },
     "metadata": {},
     "output_type": "display_data"
    },
    {
     "data": {
      "application/vnd.jupyter.widget-view+json": {
       "model_id": "",
       "version_major": 2,
       "version_minor": 0
      },
      "text/plain": [
       "Validating: 0it [00:00, ?it/s]"
      ]
     },
     "metadata": {},
     "output_type": "display_data"
    },
    {
     "data": {
      "application/vnd.jupyter.widget-view+json": {
       "model_id": "",
       "version_major": 2,
       "version_minor": 0
      },
      "text/plain": [
       "Validating: 0it [00:00, ?it/s]"
      ]
     },
     "metadata": {},
     "output_type": "display_data"
    },
    {
     "data": {
      "application/vnd.jupyter.widget-view+json": {
       "model_id": "",
       "version_major": 2,
       "version_minor": 0
      },
      "text/plain": [
       "Validating: 0it [00:00, ?it/s]"
      ]
     },
     "metadata": {},
     "output_type": "display_data"
    },
    {
     "data": {
      "application/vnd.jupyter.widget-view+json": {
       "model_id": "",
       "version_major": 2,
       "version_minor": 0
      },
      "text/plain": [
       "Validating: 0it [00:00, ?it/s]"
      ]
     },
     "metadata": {},
     "output_type": "display_data"
    },
    {
     "data": {
      "application/vnd.jupyter.widget-view+json": {
       "model_id": "",
       "version_major": 2,
       "version_minor": 0
      },
      "text/plain": [
       "Validating: 0it [00:00, ?it/s]"
      ]
     },
     "metadata": {},
     "output_type": "display_data"
    },
    {
     "data": {
      "application/vnd.jupyter.widget-view+json": {
       "model_id": "",
       "version_major": 2,
       "version_minor": 0
      },
      "text/plain": [
       "Validating: 0it [00:00, ?it/s]"
      ]
     },
     "metadata": {},
     "output_type": "display_data"
    },
    {
     "data": {
      "application/vnd.jupyter.widget-view+json": {
       "model_id": "",
       "version_major": 2,
       "version_minor": 0
      },
      "text/plain": [
       "Validating: 0it [00:00, ?it/s]"
      ]
     },
     "metadata": {},
     "output_type": "display_data"
    },
    {
     "data": {
      "application/vnd.jupyter.widget-view+json": {
       "model_id": "",
       "version_major": 2,
       "version_minor": 0
      },
      "text/plain": [
       "Validating: 0it [00:00, ?it/s]"
      ]
     },
     "metadata": {},
     "output_type": "display_data"
    },
    {
     "data": {
      "application/vnd.jupyter.widget-view+json": {
       "model_id": "",
       "version_major": 2,
       "version_minor": 0
      },
      "text/plain": [
       "Validating: 0it [00:00, ?it/s]"
      ]
     },
     "metadata": {},
     "output_type": "display_data"
    },
    {
     "data": {
      "application/vnd.jupyter.widget-view+json": {
       "model_id": "",
       "version_major": 2,
       "version_minor": 0
      },
      "text/plain": [
       "Validating: 0it [00:00, ?it/s]"
      ]
     },
     "metadata": {},
     "output_type": "display_data"
    },
    {
     "data": {
      "application/vnd.jupyter.widget-view+json": {
       "model_id": "",
       "version_major": 2,
       "version_minor": 0
      },
      "text/plain": [
       "Validating: 0it [00:00, ?it/s]"
      ]
     },
     "metadata": {},
     "output_type": "display_data"
    },
    {
     "data": {
      "application/vnd.jupyter.widget-view+json": {
       "model_id": "",
       "version_major": 2,
       "version_minor": 0
      },
      "text/plain": [
       "Validating: 0it [00:00, ?it/s]"
      ]
     },
     "metadata": {},
     "output_type": "display_data"
    },
    {
     "data": {
      "application/vnd.jupyter.widget-view+json": {
       "model_id": "",
       "version_major": 2,
       "version_minor": 0
      },
      "text/plain": [
       "Validating: 0it [00:00, ?it/s]"
      ]
     },
     "metadata": {},
     "output_type": "display_data"
    },
    {
     "data": {
      "application/vnd.jupyter.widget-view+json": {
       "model_id": "",
       "version_major": 2,
       "version_minor": 0
      },
      "text/plain": [
       "Validating: 0it [00:00, ?it/s]"
      ]
     },
     "metadata": {},
     "output_type": "display_data"
    },
    {
     "data": {
      "application/vnd.jupyter.widget-view+json": {
       "model_id": "",
       "version_major": 2,
       "version_minor": 0
      },
      "text/plain": [
       "Validating: 0it [00:00, ?it/s]"
      ]
     },
     "metadata": {},
     "output_type": "display_data"
    },
    {
     "data": {
      "application/vnd.jupyter.widget-view+json": {
       "model_id": "",
       "version_major": 2,
       "version_minor": 0
      },
      "text/plain": [
       "Validating: 0it [00:00, ?it/s]"
      ]
     },
     "metadata": {},
     "output_type": "display_data"
    },
    {
     "data": {
      "application/vnd.jupyter.widget-view+json": {
       "model_id": "",
       "version_major": 2,
       "version_minor": 0
      },
      "text/plain": [
       "Validating: 0it [00:00, ?it/s]"
      ]
     },
     "metadata": {},
     "output_type": "display_data"
    },
    {
     "data": {
      "application/vnd.jupyter.widget-view+json": {
       "model_id": "",
       "version_major": 2,
       "version_minor": 0
      },
      "text/plain": [
       "Validating: 0it [00:00, ?it/s]"
      ]
     },
     "metadata": {},
     "output_type": "display_data"
    },
    {
     "data": {
      "application/vnd.jupyter.widget-view+json": {
       "model_id": "",
       "version_major": 2,
       "version_minor": 0
      },
      "text/plain": [
       "Validating: 0it [00:00, ?it/s]"
      ]
     },
     "metadata": {},
     "output_type": "display_data"
    },
    {
     "data": {
      "application/vnd.jupyter.widget-view+json": {
       "model_id": "",
       "version_major": 2,
       "version_minor": 0
      },
      "text/plain": [
       "Validating: 0it [00:00, ?it/s]"
      ]
     },
     "metadata": {},
     "output_type": "display_data"
    },
    {
     "data": {
      "application/vnd.jupyter.widget-view+json": {
       "model_id": "",
       "version_major": 2,
       "version_minor": 0
      },
      "text/plain": [
       "Validating: 0it [00:00, ?it/s]"
      ]
     },
     "metadata": {},
     "output_type": "display_data"
    },
    {
     "data": {
      "application/vnd.jupyter.widget-view+json": {
       "model_id": "",
       "version_major": 2,
       "version_minor": 0
      },
      "text/plain": [
       "Validating: 0it [00:00, ?it/s]"
      ]
     },
     "metadata": {},
     "output_type": "display_data"
    },
    {
     "data": {
      "application/vnd.jupyter.widget-view+json": {
       "model_id": "",
       "version_major": 2,
       "version_minor": 0
      },
      "text/plain": [
       "Validating: 0it [00:00, ?it/s]"
      ]
     },
     "metadata": {},
     "output_type": "display_data"
    },
    {
     "data": {
      "application/vnd.jupyter.widget-view+json": {
       "model_id": "",
       "version_major": 2,
       "version_minor": 0
      },
      "text/plain": [
       "Validating: 0it [00:00, ?it/s]"
      ]
     },
     "metadata": {},
     "output_type": "display_data"
    },
    {
     "data": {
      "application/vnd.jupyter.widget-view+json": {
       "model_id": "",
       "version_major": 2,
       "version_minor": 0
      },
      "text/plain": [
       "Validating: 0it [00:00, ?it/s]"
      ]
     },
     "metadata": {},
     "output_type": "display_data"
    },
    {
     "data": {
      "application/vnd.jupyter.widget-view+json": {
       "model_id": "",
       "version_major": 2,
       "version_minor": 0
      },
      "text/plain": [
       "Validating: 0it [00:00, ?it/s]"
      ]
     },
     "metadata": {},
     "output_type": "display_data"
    },
    {
     "data": {
      "application/vnd.jupyter.widget-view+json": {
       "model_id": "",
       "version_major": 2,
       "version_minor": 0
      },
      "text/plain": [
       "Validating: 0it [00:00, ?it/s]"
      ]
     },
     "metadata": {},
     "output_type": "display_data"
    },
    {
     "data": {
      "application/vnd.jupyter.widget-view+json": {
       "model_id": "",
       "version_major": 2,
       "version_minor": 0
      },
      "text/plain": [
       "Validating: 0it [00:00, ?it/s]"
      ]
     },
     "metadata": {},
     "output_type": "display_data"
    },
    {
     "data": {
      "application/vnd.jupyter.widget-view+json": {
       "model_id": "",
       "version_major": 2,
       "version_minor": 0
      },
      "text/plain": [
       "Validating: 0it [00:00, ?it/s]"
      ]
     },
     "metadata": {},
     "output_type": "display_data"
    },
    {
     "data": {
      "application/vnd.jupyter.widget-view+json": {
       "model_id": "",
       "version_major": 2,
       "version_minor": 0
      },
      "text/plain": [
       "Validating: 0it [00:00, ?it/s]"
      ]
     },
     "metadata": {},
     "output_type": "display_data"
    },
    {
     "data": {
      "application/vnd.jupyter.widget-view+json": {
       "model_id": "",
       "version_major": 2,
       "version_minor": 0
      },
      "text/plain": [
       "Validating: 0it [00:00, ?it/s]"
      ]
     },
     "metadata": {},
     "output_type": "display_data"
    },
    {
     "data": {
      "application/vnd.jupyter.widget-view+json": {
       "model_id": "",
       "version_major": 2,
       "version_minor": 0
      },
      "text/plain": [
       "Validating: 0it [00:00, ?it/s]"
      ]
     },
     "metadata": {},
     "output_type": "display_data"
    },
    {
     "data": {
      "application/vnd.jupyter.widget-view+json": {
       "model_id": "",
       "version_major": 2,
       "version_minor": 0
      },
      "text/plain": [
       "Validating: 0it [00:00, ?it/s]"
      ]
     },
     "metadata": {},
     "output_type": "display_data"
    },
    {
     "data": {
      "application/vnd.jupyter.widget-view+json": {
       "model_id": "",
       "version_major": 2,
       "version_minor": 0
      },
      "text/plain": [
       "Validating: 0it [00:00, ?it/s]"
      ]
     },
     "metadata": {},
     "output_type": "display_data"
    },
    {
     "data": {
      "application/vnd.jupyter.widget-view+json": {
       "model_id": "",
       "version_major": 2,
       "version_minor": 0
      },
      "text/plain": [
       "Validating: 0it [00:00, ?it/s]"
      ]
     },
     "metadata": {},
     "output_type": "display_data"
    },
    {
     "data": {
      "application/vnd.jupyter.widget-view+json": {
       "model_id": "",
       "version_major": 2,
       "version_minor": 0
      },
      "text/plain": [
       "Validating: 0it [00:00, ?it/s]"
      ]
     },
     "metadata": {},
     "output_type": "display_data"
    },
    {
     "data": {
      "application/vnd.jupyter.widget-view+json": {
       "model_id": "",
       "version_major": 2,
       "version_minor": 0
      },
      "text/plain": [
       "Validating: 0it [00:00, ?it/s]"
      ]
     },
     "metadata": {},
     "output_type": "display_data"
    },
    {
     "data": {
      "application/vnd.jupyter.widget-view+json": {
       "model_id": "",
       "version_major": 2,
       "version_minor": 0
      },
      "text/plain": [
       "Validating: 0it [00:00, ?it/s]"
      ]
     },
     "metadata": {},
     "output_type": "display_data"
    },
    {
     "data": {
      "application/vnd.jupyter.widget-view+json": {
       "model_id": "",
       "version_major": 2,
       "version_minor": 0
      },
      "text/plain": [
       "Validating: 0it [00:00, ?it/s]"
      ]
     },
     "metadata": {},
     "output_type": "display_data"
    },
    {
     "data": {
      "application/vnd.jupyter.widget-view+json": {
       "model_id": "",
       "version_major": 2,
       "version_minor": 0
      },
      "text/plain": [
       "Validating: 0it [00:00, ?it/s]"
      ]
     },
     "metadata": {},
     "output_type": "display_data"
    },
    {
     "data": {
      "application/vnd.jupyter.widget-view+json": {
       "model_id": "",
       "version_major": 2,
       "version_minor": 0
      },
      "text/plain": [
       "Validating: 0it [00:00, ?it/s]"
      ]
     },
     "metadata": {},
     "output_type": "display_data"
    },
    {
     "data": {
      "application/vnd.jupyter.widget-view+json": {
       "model_id": "",
       "version_major": 2,
       "version_minor": 0
      },
      "text/plain": [
       "Validating: 0it [00:00, ?it/s]"
      ]
     },
     "metadata": {},
     "output_type": "display_data"
    },
    {
     "data": {
      "application/vnd.jupyter.widget-view+json": {
       "model_id": "",
       "version_major": 2,
       "version_minor": 0
      },
      "text/plain": [
       "Validating: 0it [00:00, ?it/s]"
      ]
     },
     "metadata": {},
     "output_type": "display_data"
    },
    {
     "data": {
      "application/vnd.jupyter.widget-view+json": {
       "model_id": "",
       "version_major": 2,
       "version_minor": 0
      },
      "text/plain": [
       "Validating: 0it [00:00, ?it/s]"
      ]
     },
     "metadata": {},
     "output_type": "display_data"
    },
    {
     "data": {
      "application/vnd.jupyter.widget-view+json": {
       "model_id": "",
       "version_major": 2,
       "version_minor": 0
      },
      "text/plain": [
       "Validating: 0it [00:00, ?it/s]"
      ]
     },
     "metadata": {},
     "output_type": "display_data"
    },
    {
     "data": {
      "application/vnd.jupyter.widget-view+json": {
       "model_id": "",
       "version_major": 2,
       "version_minor": 0
      },
      "text/plain": [
       "Validating: 0it [00:00, ?it/s]"
      ]
     },
     "metadata": {},
     "output_type": "display_data"
    },
    {
     "data": {
      "application/vnd.jupyter.widget-view+json": {
       "model_id": "",
       "version_major": 2,
       "version_minor": 0
      },
      "text/plain": [
       "Validating: 0it [00:00, ?it/s]"
      ]
     },
     "metadata": {},
     "output_type": "display_data"
    },
    {
     "data": {
      "application/vnd.jupyter.widget-view+json": {
       "model_id": "",
       "version_major": 2,
       "version_minor": 0
      },
      "text/plain": [
       "Validating: 0it [00:00, ?it/s]"
      ]
     },
     "metadata": {},
     "output_type": "display_data"
    },
    {
     "data": {
      "application/vnd.jupyter.widget-view+json": {
       "model_id": "",
       "version_major": 2,
       "version_minor": 0
      },
      "text/plain": [
       "Validating: 0it [00:00, ?it/s]"
      ]
     },
     "metadata": {},
     "output_type": "display_data"
    },
    {
     "data": {
      "application/vnd.jupyter.widget-view+json": {
       "model_id": "",
       "version_major": 2,
       "version_minor": 0
      },
      "text/plain": [
       "Validating: 0it [00:00, ?it/s]"
      ]
     },
     "metadata": {},
     "output_type": "display_data"
    },
    {
     "data": {
      "application/vnd.jupyter.widget-view+json": {
       "model_id": "",
       "version_major": 2,
       "version_minor": 0
      },
      "text/plain": [
       "Validating: 0it [00:00, ?it/s]"
      ]
     },
     "metadata": {},
     "output_type": "display_data"
    },
    {
     "name": "stderr",
     "output_type": "stream",
     "text": [
      "D:\\python\\Anaconda3\\lib\\site-packages\\pytorch_lightning\\core\\datamodule.py:424: LightningDeprecationWarning: DataModule.prepare_data has already been called, so it will not be called again. In v1.6 this behavior will change to always call DataModule.prepare_data.\n",
      "  f\"DataModule.{name} has already been called, so it will not be called again. \"\n",
      "LOCAL_RANK: 0 - CUDA_VISIBLE_DEVICES: [0]\n"
     ]
    },
    {
     "name": "stdout",
     "output_type": "stream",
     "text": [
      "init LSTM(512, 256, batch_first=True, dropout=0.1, bidirectional=True)\n",
      "init LSTM(512, 128, batch_first=True, dropout=0.1, bidirectional=True)\n",
      "init LSTM(256, 64, batch_first=True, dropout=0.1, bidirectional=True)\n"
     ]
    },
    {
     "data": {
      "application/vnd.jupyter.widget-view+json": {
       "model_id": "67593d44c00840aeb171f405c712f37b",
       "version_major": 2,
       "version_minor": 0
      },
      "text/plain": [
       "Predicting: 67it [00:00, ?it/s]"
      ]
     },
     "metadata": {},
     "output_type": "display_data"
    },
    {
     "data": {
      "text/html": [
       "<br/>Waiting for W&B process to finish, PID 11640<br/>Program ended successfully."
      ],
      "text/plain": [
       "<IPython.core.display.HTML object>"
      ]
     },
     "metadata": {},
     "output_type": "display_data"
    },
    {
     "data": {
      "application/vnd.jupyter.widget-view+json": {
       "model_id": "",
       "version_major": 2,
       "version_minor": 0
      },
      "text/plain": [
       "VBox(children=(Label(value=' 0.00MB of 0.00MB uploaded (0.00MB deduped)\\r'), FloatProgress(value=1.0, max=1.0)…"
      ]
     },
     "metadata": {},
     "output_type": "display_data"
    },
    {
     "data": {
      "text/html": [
       "Find user logs for this run at: <code>F:/Kaggle/ventilator-pressure-prediction/data/output/exp025/wandb\\run-20211008_064006-2x5kpazz\\logs\\debug.log</code>"
      ],
      "text/plain": [
       "<IPython.core.display.HTML object>"
      ]
     },
     "metadata": {},
     "output_type": "display_data"
    },
    {
     "data": {
      "text/html": [
       "Find internal logs for this run at: <code>F:/Kaggle/ventilator-pressure-prediction/data/output/exp025/wandb\\run-20211008_064006-2x5kpazz\\logs\\debug-internal.log</code>"
      ],
      "text/plain": [
       "<IPython.core.display.HTML object>"
      ]
     },
     "metadata": {},
     "output_type": "display_data"
    },
    {
     "data": {
      "text/html": [
       "<h3>Run summary:</h3><br/><style>\n",
       "    table.wandb td:nth-child(1) { padding: 0 10px; text-align: right }\n",
       "    </style><table class=\"wandb\">\n",
       "<tr><td>train_loss</td><td>nan</td></tr><tr><td>epoch</td><td>127</td></tr><tr><td>trainer/global_step</td><td>14899</td></tr><tr><td>_step</td><td>4361</td></tr><tr><td>_runtime</td><td>997</td></tr><tr><td>_timestamp</td><td>1633643803</td></tr><tr><td>val_loss_step</td><td>nan</td></tr><tr><td>val_loss_epoch</td><td>nan</td></tr><tr><td>lr</td><td>0.0031</td></tr></table>"
      ],
      "text/plain": [
       "<IPython.core.display.HTML object>"
      ]
     },
     "metadata": {},
     "output_type": "display_data"
    },
    {
     "data": {
      "text/html": [
       "<h3>Run history:</h3><br/><style>\n",
       "    table.wandb td:nth-child(1) { padding: 0 10px; text-align: right }\n",
       "    </style><table class=\"wandb\">\n",
       "<tr><td>train_loss</td><td>█▃▂▁▁▁▂▁▁▁▁▁▁▁▂                         </td></tr><tr><td>epoch</td><td>▁▁▁▂▂▂▂▂▂▃▃▃▃▃▃▄▄▄▄▄▅▅▅▅▅▅▆▆▆▆▆▇▇▇▇▇▇███</td></tr><tr><td>trainer/global_step</td><td>▁▁▁▁▂▁▁▁▁▁▁▁▂▂▂▂▂▂▂▂▂▅▂▂▂▂▂▂▂▂▂▂▂▃▇▃▃▃█▃</td></tr><tr><td>_step</td><td>▁▁▁▂▂▂▂▂▂▃▃▃▃▃▄▄▄▄▄▄▅▅▅▅▅▅▆▆▆▆▆▇▇▇▇▇▇███</td></tr><tr><td>_runtime</td><td>▁▁▁▂▂▂▂▂▂▃▃▃▃▃▄▄▄▄▄▄▅▅▅▅▅▅▆▆▆▆▆▇▇▇▇▇▇███</td></tr><tr><td>_timestamp</td><td>▁▁▁▂▂▂▂▂▂▃▃▃▃▃▄▄▄▄▄▄▅▅▅▅▅▅▆▆▆▆▆▇▇▇▇▇▇███</td></tr><tr><td>val_loss_step</td><td>█▃▃▂▂▁▂▂▁▂▁▂▁▁▂                         </td></tr><tr><td>val_loss_epoch</td><td>█▂▁▁▁▁▁▁▁▁▁▁▁▁▁                         </td></tr><tr><td>lr</td><td>██████████▇▇▇▇▇▇▇▇▆▆▆▆▆▅▅▅▅▄▄▄▄▃▃▃▃▂▂▂▁▁</td></tr></table><br/>"
      ],
      "text/plain": [
       "<IPython.core.display.HTML object>"
      ]
     },
     "metadata": {},
     "output_type": "display_data"
    },
    {
     "data": {
      "text/html": [
       "Synced 5 W&B file(s), 0 media file(s), 0 artifact file(s) and 0 other file(s)"
      ],
      "text/plain": [
       "<IPython.core.display.HTML object>"
      ]
     },
     "metadata": {},
     "output_type": "display_data"
    },
    {
     "data": {
      "text/html": [
       "\n",
       "                    <br/>Synced <strong style=\"color:#cdcd00\">Fold0</strong>: <a href=\"https://wandb.ai/teyosan1229/ventilator/runs/2x5kpazz\" target=\"_blank\">https://wandb.ai/teyosan1229/ventilator/runs/2x5kpazz</a><br/>\n",
       "                "
      ],
      "text/plain": [
       "<IPython.core.display.HTML object>"
      ]
     },
     "metadata": {},
     "output_type": "display_data"
    }
   ],
   "source": [
    "train()\n",
    "send_line_notification(\"finished\")\n",
    "wandb.finish()"
   ]
  },
  {
   "cell_type": "markdown",
   "id": "57a7cc24",
   "metadata": {},
   "source": [
    "+ TestDatasetでなぜu_outを使っていない？\n",
    "+ hidden_sizeの指す場所がよくわかってない"
   ]
  }
 ],
 "metadata": {
  "kernelspec": {
   "display_name": "Python 3",
   "language": "python",
   "name": "python3"
  },
  "language_info": {
   "codemirror_mode": {
    "name": "ipython",
    "version": 3
   },
   "file_extension": ".py",
   "mimetype": "text/x-python",
   "name": "python",
   "nbconvert_exporter": "python",
   "pygments_lexer": "ipython3",
   "version": "3.7.7"
  },
  "papermill": {
   "default_parameters": {},
   "duration": 2726.79042,
   "end_time": "2021-08-11T03:08:54.714348",
   "environment_variables": {},
   "exception": null,
   "input_path": "__notebook__.ipynb",
   "output_path": "__notebook__.ipynb",
   "parameters": {},
   "start_time": "2021-08-11T02:23:27.923928",
   "version": "2.3.3"
  },
  "widgets": {
   "application/vnd.jupyter.widget-state+json": {
    "state": {
     "03eeaec435a540aeb15eda112a0db3be": {
      "model_module": "@jupyter-widgets/base",
      "model_module_version": "1.2.0",
      "model_name": "LayoutModel",
      "state": {
       "_model_module": "@jupyter-widgets/base",
       "_model_module_version": "1.2.0",
       "_model_name": "LayoutModel",
       "_view_count": null,
       "_view_module": "@jupyter-widgets/base",
       "_view_module_version": "1.2.0",
       "_view_name": "LayoutView",
       "align_content": null,
       "align_items": null,
       "align_self": null,
       "border": null,
       "bottom": null,
       "display": null,
       "flex": null,
       "flex_flow": null,
       "grid_area": null,
       "grid_auto_columns": null,
       "grid_auto_flow": null,
       "grid_auto_rows": null,
       "grid_column": null,
       "grid_gap": null,
       "grid_row": null,
       "grid_template_areas": null,
       "grid_template_columns": null,
       "grid_template_rows": null,
       "height": null,
       "justify_content": null,
       "justify_items": null,
       "left": null,
       "margin": null,
       "max_height": null,
       "max_width": null,
       "min_height": null,
       "min_width": null,
       "object_fit": null,
       "object_position": null,
       "order": null,
       "overflow": null,
       "overflow_x": null,
       "overflow_y": null,
       "padding": null,
       "right": null,
       "top": null,
       "visibility": null,
       "width": null
      }
     },
     "04eba03fef614151912d6aac916e65d9": {
      "model_module": "@jupyter-widgets/controls",
      "model_module_version": "1.5.0",
      "model_name": "HBoxModel",
      "state": {
       "_dom_classes": [],
       "_model_module": "@jupyter-widgets/controls",
       "_model_module_version": "1.5.0",
       "_model_name": "HBoxModel",
       "_view_count": null,
       "_view_module": "@jupyter-widgets/controls",
       "_view_module_version": "1.5.0",
       "_view_name": "HBoxView",
       "box_style": "",
       "children": [
        "IPY_MODEL_202e9cfa431d479a87957090303c019e",
        "IPY_MODEL_b2130fc6a00949e9a8d82e1223777f17",
        "IPY_MODEL_bd08e2a3dabf4af986749fe1634af3ad"
       ],
       "layout": "IPY_MODEL_c47a2da662d446f5a291276241b3b568"
      }
     },
     "0fd9d9c28b9048088978ebd6f79f7999": {
      "model_module": "@jupyter-widgets/controls",
      "model_module_version": "1.5.0",
      "model_name": "FloatProgressModel",
      "state": {
       "_dom_classes": [],
       "_model_module": "@jupyter-widgets/controls",
       "_model_module_version": "1.5.0",
       "_model_name": "FloatProgressModel",
       "_view_count": null,
       "_view_module": "@jupyter-widgets/controls",
       "_view_module_version": "1.5.0",
       "_view_name": "ProgressView",
       "bar_style": "success",
       "description": "",
       "description_tooltip": null,
       "layout": "IPY_MODEL_16038c8517814db1930c67b834c51035",
       "max": 469,
       "min": 0,
       "orientation": "horizontal",
       "style": "IPY_MODEL_6ef32e38caa3406a87a465ab2955915a",
       "value": 469
      }
     },
     "12dea99305cf4b169b8d1f6f53b8755f": {
      "model_module": "@jupyter-widgets/base",
      "model_module_version": "1.2.0",
      "model_name": "LayoutModel",
      "state": {
       "_model_module": "@jupyter-widgets/base",
       "_model_module_version": "1.2.0",
       "_model_name": "LayoutModel",
       "_view_count": null,
       "_view_module": "@jupyter-widgets/base",
       "_view_module_version": "1.2.0",
       "_view_name": "LayoutView",
       "align_content": null,
       "align_items": null,
       "align_self": null,
       "border": null,
       "bottom": null,
       "display": null,
       "flex": "2",
       "flex_flow": null,
       "grid_area": null,
       "grid_auto_columns": null,
       "grid_auto_flow": null,
       "grid_auto_rows": null,
       "grid_column": null,
       "grid_gap": null,
       "grid_row": null,
       "grid_template_areas": null,
       "grid_template_columns": null,
       "grid_template_rows": null,
       "height": null,
       "justify_content": null,
       "justify_items": null,
       "left": null,
       "margin": null,
       "max_height": null,
       "max_width": null,
       "min_height": null,
       "min_width": null,
       "object_fit": null,
       "object_position": null,
       "order": null,
       "overflow": null,
       "overflow_x": null,
       "overflow_y": null,
       "padding": null,
       "right": null,
       "top": null,
       "visibility": null,
       "width": null
      }
     },
     "149a2f53860a464ea3d6026c11dc29ed": {
      "model_module": "@jupyter-widgets/controls",
      "model_module_version": "1.5.0",
      "model_name": "ProgressStyleModel",
      "state": {
       "_model_module": "@jupyter-widgets/controls",
       "_model_module_version": "1.5.0",
       "_model_name": "ProgressStyleModel",
       "_view_count": null,
       "_view_module": "@jupyter-widgets/base",
       "_view_module_version": "1.2.0",
       "_view_name": "StyleView",
       "bar_color": null,
       "description_width": ""
      }
     },
     "16038c8517814db1930c67b834c51035": {
      "model_module": "@jupyter-widgets/base",
      "model_module_version": "1.2.0",
      "model_name": "LayoutModel",
      "state": {
       "_model_module": "@jupyter-widgets/base",
       "_model_module_version": "1.2.0",
       "_model_name": "LayoutModel",
       "_view_count": null,
       "_view_module": "@jupyter-widgets/base",
       "_view_module_version": "1.2.0",
       "_view_name": "LayoutView",
       "align_content": null,
       "align_items": null,
       "align_self": null,
       "border": null,
       "bottom": null,
       "display": null,
       "flex": "2",
       "flex_flow": null,
       "grid_area": null,
       "grid_auto_columns": null,
       "grid_auto_flow": null,
       "grid_auto_rows": null,
       "grid_column": null,
       "grid_gap": null,
       "grid_row": null,
       "grid_template_areas": null,
       "grid_template_columns": null,
       "grid_template_rows": null,
       "height": null,
       "justify_content": null,
       "justify_items": null,
       "left": null,
       "margin": null,
       "max_height": null,
       "max_width": null,
       "min_height": null,
       "min_width": null,
       "object_fit": null,
       "object_position": null,
       "order": null,
       "overflow": null,
       "overflow_x": null,
       "overflow_y": null,
       "padding": null,
       "right": null,
       "top": null,
       "visibility": null,
       "width": null
      }
     },
     "1a51ac68ff634da593dab2404e846234": {
      "model_module": "@jupyter-widgets/controls",
      "model_module_version": "1.5.0",
      "model_name": "DescriptionStyleModel",
      "state": {
       "_model_module": "@jupyter-widgets/controls",
       "_model_module_version": "1.5.0",
       "_model_name": "DescriptionStyleModel",
       "_view_count": null,
       "_view_module": "@jupyter-widgets/base",
       "_view_module_version": "1.2.0",
       "_view_name": "StyleView",
       "description_width": ""
      }
     },
     "1bf8d36d994c4cfab1a2cc6cc142034d": {
      "model_module": "@jupyter-widgets/controls",
      "model_module_version": "1.5.0",
      "model_name": "HTMLModel",
      "state": {
       "_dom_classes": [],
       "_model_module": "@jupyter-widgets/controls",
       "_model_module_version": "1.5.0",
       "_model_name": "HTMLModel",
       "_view_count": null,
       "_view_module": "@jupyter-widgets/controls",
       "_view_module_version": "1.5.0",
       "_view_name": "HTMLView",
       "description": "",
       "description_tooltip": null,
       "layout": "IPY_MODEL_fe0a596d399b4d49b9d91479a67315d8",
       "placeholder": "​",
       "style": "IPY_MODEL_5d4b818a1106424c8727141657a7c8f5",
       "value": " 93/94 [01:07&lt;00:00,  1.43it/s]"
      }
     },
     "202e9cfa431d479a87957090303c019e": {
      "model_module": "@jupyter-widgets/controls",
      "model_module_version": "1.5.0",
      "model_name": "HTMLModel",
      "state": {
       "_dom_classes": [],
       "_model_module": "@jupyter-widgets/controls",
       "_model_module_version": "1.5.0",
       "_model_name": "HTMLModel",
       "_view_count": null,
       "_view_module": "@jupyter-widgets/controls",
       "_view_module_version": "1.5.0",
       "_view_name": "HTMLView",
       "description": "",
       "description_tooltip": null,
       "layout": "IPY_MODEL_d6a65e81daac49eea484cd67f27266b5",
       "placeholder": "​",
       "style": "IPY_MODEL_cd13b4a09c6c44f894140c365580a671",
       "value": "Validating:  99%"
      }
     },
     "20c7543c642141478ee1774805b30470": {
      "model_module": "@jupyter-widgets/controls",
      "model_module_version": "1.5.0",
      "model_name": "HTMLModel",
      "state": {
       "_dom_classes": [],
       "_model_module": "@jupyter-widgets/controls",
       "_model_module_version": "1.5.0",
       "_model_name": "HTMLModel",
       "_view_count": null,
       "_view_module": "@jupyter-widgets/controls",
       "_view_module_version": "1.5.0",
       "_view_name": "HTMLView",
       "description": "",
       "description_tooltip": null,
       "layout": "IPY_MODEL_9ff70424df1f463b949d0bf51da568ad",
       "placeholder": "​",
       "style": "IPY_MODEL_1a51ac68ff634da593dab2404e846234",
       "value": "Validating: 100%"
      }
     },
     "23a34729ac5544e3a1559076a60d0cd2": {
      "model_module": "@jupyter-widgets/base",
      "model_module_version": "1.2.0",
      "model_name": "LayoutModel",
      "state": {
       "_model_module": "@jupyter-widgets/base",
       "_model_module_version": "1.2.0",
       "_model_name": "LayoutModel",
       "_view_count": null,
       "_view_module": "@jupyter-widgets/base",
       "_view_module_version": "1.2.0",
       "_view_name": "LayoutView",
       "align_content": null,
       "align_items": null,
       "align_self": null,
       "border": null,
       "bottom": null,
       "display": null,
       "flex": null,
       "flex_flow": null,
       "grid_area": null,
       "grid_auto_columns": null,
       "grid_auto_flow": null,
       "grid_auto_rows": null,
       "grid_column": null,
       "grid_gap": null,
       "grid_row": null,
       "grid_template_areas": null,
       "grid_template_columns": null,
       "grid_template_rows": null,
       "height": null,
       "justify_content": null,
       "justify_items": null,
       "left": null,
       "margin": null,
       "max_height": null,
       "max_width": null,
       "min_height": null,
       "min_width": null,
       "object_fit": null,
       "object_position": null,
       "order": null,
       "overflow": null,
       "overflow_x": null,
       "overflow_y": null,
       "padding": null,
       "right": null,
       "top": null,
       "visibility": null,
       "width": null
      }
     },
     "25bfb01af5ee48efa5ac1834db78d27e": {
      "model_module": "@jupyter-widgets/base",
      "model_module_version": "1.2.0",
      "model_name": "LayoutModel",
      "state": {
       "_model_module": "@jupyter-widgets/base",
       "_model_module_version": "1.2.0",
       "_model_name": "LayoutModel",
       "_view_count": null,
       "_view_module": "@jupyter-widgets/base",
       "_view_module_version": "1.2.0",
       "_view_name": "LayoutView",
       "align_content": null,
       "align_items": null,
       "align_self": null,
       "border": null,
       "bottom": null,
       "display": "inline-flex",
       "flex": null,
       "flex_flow": "row wrap",
       "grid_area": null,
       "grid_auto_columns": null,
       "grid_auto_flow": null,
       "grid_auto_rows": null,
       "grid_column": null,
       "grid_gap": null,
       "grid_row": null,
       "grid_template_areas": null,
       "grid_template_columns": null,
       "grid_template_rows": null,
       "height": null,
       "justify_content": null,
       "justify_items": null,
       "left": null,
       "margin": null,
       "max_height": null,
       "max_width": null,
       "min_height": null,
       "min_width": null,
       "object_fit": null,
       "object_position": null,
       "order": null,
       "overflow": null,
       "overflow_x": null,
       "overflow_y": null,
       "padding": null,
       "right": null,
       "top": null,
       "visibility": null,
       "width": "100%"
      }
     },
     "2899231fe63b41ddb1ba34222ea1fa82": {
      "model_module": "@jupyter-widgets/controls",
      "model_module_version": "1.5.0",
      "model_name": "HTMLModel",
      "state": {
       "_dom_classes": [],
       "_model_module": "@jupyter-widgets/controls",
       "_model_module_version": "1.5.0",
       "_model_name": "HTMLModel",
       "_view_count": null,
       "_view_module": "@jupyter-widgets/controls",
       "_view_module_version": "1.5.0",
       "_view_name": "HTMLView",
       "description": "",
       "description_tooltip": null,
       "layout": "IPY_MODEL_bc642f61441e40ab997d6e69eed0b24e",
       "placeholder": "​",
       "style": "IPY_MODEL_4845aee832bf466686f4de8cb8668319",
       "value": " 93/94 [01:08&lt;00:00,  1.27it/s]"
      }
     },
     "340f99d4122844d7bc89e41866f9a0c4": {
      "model_module": "@jupyter-widgets/controls",
      "model_module_version": "1.5.0",
      "model_name": "DescriptionStyleModel",
      "state": {
       "_model_module": "@jupyter-widgets/controls",
       "_model_module_version": "1.5.0",
       "_model_name": "DescriptionStyleModel",
       "_view_count": null,
       "_view_module": "@jupyter-widgets/base",
       "_view_module_version": "1.2.0",
       "_view_name": "StyleView",
       "description_width": ""
      }
     },
     "36a6949cce914489b5ab4346f86bb272": {
      "model_module": "@jupyter-widgets/controls",
      "model_module_version": "1.5.0",
      "model_name": "ProgressStyleModel",
      "state": {
       "_model_module": "@jupyter-widgets/controls",
       "_model_module_version": "1.5.0",
       "_model_name": "ProgressStyleModel",
       "_view_count": null,
       "_view_module": "@jupyter-widgets/base",
       "_view_module_version": "1.2.0",
       "_view_name": "StyleView",
       "bar_color": null,
       "description_width": ""
      }
     },
     "37f8c409f7654c968b8161968b1773c9": {
      "model_module": "@jupyter-widgets/base",
      "model_module_version": "1.2.0",
      "model_name": "LayoutModel",
      "state": {
       "_model_module": "@jupyter-widgets/base",
       "_model_module_version": "1.2.0",
       "_model_name": "LayoutModel",
       "_view_count": null,
       "_view_module": "@jupyter-widgets/base",
       "_view_module_version": "1.2.0",
       "_view_name": "LayoutView",
       "align_content": null,
       "align_items": null,
       "align_self": null,
       "border": null,
       "bottom": null,
       "display": null,
       "flex": null,
       "flex_flow": null,
       "grid_area": null,
       "grid_auto_columns": null,
       "grid_auto_flow": null,
       "grid_auto_rows": null,
       "grid_column": null,
       "grid_gap": null,
       "grid_row": null,
       "grid_template_areas": null,
       "grid_template_columns": null,
       "grid_template_rows": null,
       "height": null,
       "justify_content": null,
       "justify_items": null,
       "left": null,
       "margin": null,
       "max_height": null,
       "max_width": null,
       "min_height": null,
       "min_width": null,
       "object_fit": null,
       "object_position": null,
       "order": null,
       "overflow": null,
       "overflow_x": null,
       "overflow_y": null,
       "padding": null,
       "right": null,
       "top": null,
       "visibility": null,
       "width": null
      }
     },
     "3f680ca2ef2b473781acf68083d9d2a4": {
      "model_module": "@jupyter-widgets/controls",
      "model_module_version": "1.5.0",
      "model_name": "LabelModel",
      "state": {
       "_dom_classes": [],
       "_model_module": "@jupyter-widgets/controls",
       "_model_module_version": "1.5.0",
       "_model_name": "LabelModel",
       "_view_count": null,
       "_view_module": "@jupyter-widgets/controls",
       "_view_module_version": "1.5.0",
       "_view_name": "LabelView",
       "description": "",
       "description_tooltip": null,
       "layout": "IPY_MODEL_03eeaec435a540aeb15eda112a0db3be",
       "placeholder": "​",
       "style": "IPY_MODEL_54ab6229f831424e8af6a80cce8ec6e6",
       "value": ""
      }
     },
     "426c95b8529d487aad96e3858289a08d": {
      "model_module": "@jupyter-widgets/controls",
      "model_module_version": "1.5.0",
      "model_name": "FloatProgressModel",
      "state": {
       "_dom_classes": [],
       "_model_module": "@jupyter-widgets/controls",
       "_model_module_version": "1.5.0",
       "_model_name": "FloatProgressModel",
       "_view_count": null,
       "_view_module": "@jupyter-widgets/controls",
       "_view_module_version": "1.5.0",
       "_view_name": "ProgressView",
       "bar_style": "",
       "description": "",
       "description_tooltip": null,
       "layout": "IPY_MODEL_d02d505f35f04de2824834a8bbcacffd",
       "max": 94,
       "min": 0,
       "orientation": "horizontal",
       "style": "IPY_MODEL_149a2f53860a464ea3d6026c11dc29ed",
       "value": 94
      }
     },
     "4339a39518a349ccad89add6a4f0eeb7": {
      "model_module": "@jupyter-widgets/base",
      "model_module_version": "1.2.0",
      "model_name": "LayoutModel",
      "state": {
       "_model_module": "@jupyter-widgets/base",
       "_model_module_version": "1.2.0",
       "_model_name": "LayoutModel",
       "_view_count": null,
       "_view_module": "@jupyter-widgets/base",
       "_view_module_version": "1.2.0",
       "_view_name": "LayoutView",
       "align_content": null,
       "align_items": null,
       "align_self": null,
       "border": null,
       "bottom": null,
       "display": null,
       "flex": null,
       "flex_flow": null,
       "grid_area": null,
       "grid_auto_columns": null,
       "grid_auto_flow": null,
       "grid_auto_rows": null,
       "grid_column": null,
       "grid_gap": null,
       "grid_row": null,
       "grid_template_areas": null,
       "grid_template_columns": null,
       "grid_template_rows": null,
       "height": null,
       "justify_content": null,
       "justify_items": null,
       "left": null,
       "margin": null,
       "max_height": null,
       "max_width": null,
       "min_height": null,
       "min_width": null,
       "object_fit": null,
       "object_position": null,
       "order": null,
       "overflow": null,
       "overflow_x": null,
       "overflow_y": null,
       "padding": null,
       "right": null,
       "top": null,
       "visibility": null,
       "width": null
      }
     },
     "4845aee832bf466686f4de8cb8668319": {
      "model_module": "@jupyter-widgets/controls",
      "model_module_version": "1.5.0",
      "model_name": "DescriptionStyleModel",
      "state": {
       "_model_module": "@jupyter-widgets/controls",
       "_model_module_version": "1.5.0",
       "_model_name": "DescriptionStyleModel",
       "_view_count": null,
       "_view_module": "@jupyter-widgets/base",
       "_view_module_version": "1.2.0",
       "_view_name": "StyleView",
       "description_width": ""
      }
     },
     "53490c31100c4e6c866aa528a5684217": {
      "model_module": "@jupyter-widgets/controls",
      "model_module_version": "1.5.0",
      "model_name": "FloatProgressModel",
      "state": {
       "_dom_classes": [],
       "_model_module": "@jupyter-widgets/controls",
       "_model_module_version": "1.5.0",
       "_model_name": "FloatProgressModel",
       "_view_count": null,
       "_view_module": "@jupyter-widgets/controls",
       "_view_module_version": "1.5.0",
       "_view_name": "ProgressView",
       "bar_style": "",
       "description": "",
       "description_tooltip": null,
       "layout": "IPY_MODEL_686380366c8e475da9ef00e1434b73ed",
       "max": 94,
       "min": 0,
       "orientation": "horizontal",
       "style": "IPY_MODEL_f97d4be39bc34c2a8574c6f4fabc0c69",
       "value": 94
      }
     },
     "545e4923678c43c1a2d7557d8b286546": {
      "model_module": "@jupyter-widgets/controls",
      "model_module_version": "1.5.0",
      "model_name": "DescriptionStyleModel",
      "state": {
       "_model_module": "@jupyter-widgets/controls",
       "_model_module_version": "1.5.0",
       "_model_name": "DescriptionStyleModel",
       "_view_count": null,
       "_view_module": "@jupyter-widgets/base",
       "_view_module_version": "1.2.0",
       "_view_name": "StyleView",
       "description_width": ""
      }
     },
     "54ab6229f831424e8af6a80cce8ec6e6": {
      "model_module": "@jupyter-widgets/controls",
      "model_module_version": "1.5.0",
      "model_name": "DescriptionStyleModel",
      "state": {
       "_model_module": "@jupyter-widgets/controls",
       "_model_module_version": "1.5.0",
       "_model_name": "DescriptionStyleModel",
       "_view_count": null,
       "_view_module": "@jupyter-widgets/base",
       "_view_module_version": "1.2.0",
       "_view_name": "StyleView",
       "description_width": ""
      }
     },
     "54dcfbcce9ae486d84c0a986f2d17be6": {
      "model_module": "@jupyter-widgets/controls",
      "model_module_version": "1.5.0",
      "model_name": "DescriptionStyleModel",
      "state": {
       "_model_module": "@jupyter-widgets/controls",
       "_model_module_version": "1.5.0",
       "_model_name": "DescriptionStyleModel",
       "_view_count": null,
       "_view_module": "@jupyter-widgets/base",
       "_view_module_version": "1.2.0",
       "_view_name": "StyleView",
       "description_width": ""
      }
     },
     "584fe6854f064aa79bc292ffbea41be8": {
      "model_module": "@jupyter-widgets/controls",
      "model_module_version": "1.5.0",
      "model_name": "HBoxModel",
      "state": {
       "_dom_classes": [],
       "_model_module": "@jupyter-widgets/controls",
       "_model_module_version": "1.5.0",
       "_model_name": "HBoxModel",
       "_view_count": null,
       "_view_module": "@jupyter-widgets/controls",
       "_view_module_version": "1.5.0",
       "_view_name": "HBoxView",
       "box_style": "",
       "children": [
        "IPY_MODEL_20c7543c642141478ee1774805b30470",
        "IPY_MODEL_6866c54676fc402ea4cb0610f5bb5d36",
        "IPY_MODEL_5d01c25e85b549b0913abde4d565f89f"
       ],
       "layout": "IPY_MODEL_70a8615cfc9243f8b03bd5dfbbb08511"
      }
     },
     "5964b6b0a8234f2f82f35d28407bd7c5": {
      "model_module": "@jupyter-widgets/controls",
      "model_module_version": "1.5.0",
      "model_name": "HTMLModel",
      "state": {
       "_dom_classes": [],
       "_model_module": "@jupyter-widgets/controls",
       "_model_module_version": "1.5.0",
       "_model_name": "HTMLModel",
       "_view_count": null,
       "_view_module": "@jupyter-widgets/controls",
       "_view_module_version": "1.5.0",
       "_view_name": "HTMLView",
       "description": "",
       "description_tooltip": null,
       "layout": "IPY_MODEL_37f8c409f7654c968b8161968b1773c9",
       "placeholder": "​",
       "style": "IPY_MODEL_340f99d4122844d7bc89e41866f9a0c4",
       "value": "Validating:  99%"
      }
     },
     "5ade0a14dcdf42439b5b289819d5861b": {
      "model_module": "@jupyter-widgets/base",
      "model_module_version": "1.2.0",
      "model_name": "LayoutModel",
      "state": {
       "_model_module": "@jupyter-widgets/base",
       "_model_module_version": "1.2.0",
       "_model_name": "LayoutModel",
       "_view_count": null,
       "_view_module": "@jupyter-widgets/base",
       "_view_module_version": "1.2.0",
       "_view_name": "LayoutView",
       "align_content": null,
       "align_items": null,
       "align_self": null,
       "border": null,
       "bottom": null,
       "display": "inline-flex",
       "flex": null,
       "flex_flow": "row wrap",
       "grid_area": null,
       "grid_auto_columns": null,
       "grid_auto_flow": null,
       "grid_auto_rows": null,
       "grid_column": null,
       "grid_gap": null,
       "grid_row": null,
       "grid_template_areas": null,
       "grid_template_columns": null,
       "grid_template_rows": null,
       "height": null,
       "justify_content": null,
       "justify_items": null,
       "left": null,
       "margin": null,
       "max_height": null,
       "max_width": null,
       "min_height": null,
       "min_width": null,
       "object_fit": null,
       "object_position": null,
       "order": null,
       "overflow": null,
       "overflow_x": null,
       "overflow_y": null,
       "padding": null,
       "right": null,
       "top": null,
       "visibility": null,
       "width": "100%"
      }
     },
     "5b6bd449acf24f318e7779210089cae4": {
      "model_module": "@jupyter-widgets/controls",
      "model_module_version": "1.5.0",
      "model_name": "DescriptionStyleModel",
      "state": {
       "_model_module": "@jupyter-widgets/controls",
       "_model_module_version": "1.5.0",
       "_model_name": "DescriptionStyleModel",
       "_view_count": null,
       "_view_module": "@jupyter-widgets/base",
       "_view_module_version": "1.2.0",
       "_view_name": "StyleView",
       "description_width": ""
      }
     },
     "5d01c25e85b549b0913abde4d565f89f": {
      "model_module": "@jupyter-widgets/controls",
      "model_module_version": "1.5.0",
      "model_name": "HTMLModel",
      "state": {
       "_dom_classes": [],
       "_model_module": "@jupyter-widgets/controls",
       "_model_module_version": "1.5.0",
       "_model_name": "HTMLModel",
       "_view_count": null,
       "_view_module": "@jupyter-widgets/controls",
       "_view_module_version": "1.5.0",
       "_view_name": "HTMLView",
       "description": "",
       "description_tooltip": null,
       "layout": "IPY_MODEL_dd74bc90517349099b985262b7350a46",
       "placeholder": "​",
       "style": "IPY_MODEL_6d94824e12374fca82df7b560c438f48",
       "value": " 94/94 [01:13&lt;00:00,  1.53it/s]"
      }
     },
     "5d4b818a1106424c8727141657a7c8f5": {
      "model_module": "@jupyter-widgets/controls",
      "model_module_version": "1.5.0",
      "model_name": "DescriptionStyleModel",
      "state": {
       "_model_module": "@jupyter-widgets/controls",
       "_model_module_version": "1.5.0",
       "_model_name": "DescriptionStyleModel",
       "_view_count": null,
       "_view_module": "@jupyter-widgets/base",
       "_view_module_version": "1.2.0",
       "_view_name": "StyleView",
       "description_width": ""
      }
     },
     "5e16955069b34e809c903945e413a682": {
      "model_module": "@jupyter-widgets/controls",
      "model_module_version": "1.5.0",
      "model_name": "HTMLModel",
      "state": {
       "_dom_classes": [],
       "_model_module": "@jupyter-widgets/controls",
       "_model_module_version": "1.5.0",
       "_model_name": "HTMLModel",
       "_view_count": null,
       "_view_module": "@jupyter-widgets/controls",
       "_view_module_version": "1.5.0",
       "_view_name": "HTMLView",
       "description": "",
       "description_tooltip": null,
       "layout": "IPY_MODEL_f1057b4b9f1445a992e3318b931f74fb",
       "placeholder": "​",
       "style": "IPY_MODEL_be769eab244449f490b7f3464560eeac",
       "value": "Validating:  99%"
      }
     },
     "686380366c8e475da9ef00e1434b73ed": {
      "model_module": "@jupyter-widgets/base",
      "model_module_version": "1.2.0",
      "model_name": "LayoutModel",
      "state": {
       "_model_module": "@jupyter-widgets/base",
       "_model_module_version": "1.2.0",
       "_model_name": "LayoutModel",
       "_view_count": null,
       "_view_module": "@jupyter-widgets/base",
       "_view_module_version": "1.2.0",
       "_view_name": "LayoutView",
       "align_content": null,
       "align_items": null,
       "align_self": null,
       "border": null,
       "bottom": null,
       "display": null,
       "flex": "2",
       "flex_flow": null,
       "grid_area": null,
       "grid_auto_columns": null,
       "grid_auto_flow": null,
       "grid_auto_rows": null,
       "grid_column": null,
       "grid_gap": null,
       "grid_row": null,
       "grid_template_areas": null,
       "grid_template_columns": null,
       "grid_template_rows": null,
       "height": null,
       "justify_content": null,
       "justify_items": null,
       "left": null,
       "margin": null,
       "max_height": null,
       "max_width": null,
       "min_height": null,
       "min_width": null,
       "object_fit": null,
       "object_position": null,
       "order": null,
       "overflow": null,
       "overflow_x": null,
       "overflow_y": null,
       "padding": null,
       "right": null,
       "top": null,
       "visibility": null,
       "width": null
      }
     },
     "6866c54676fc402ea4cb0610f5bb5d36": {
      "model_module": "@jupyter-widgets/controls",
      "model_module_version": "1.5.0",
      "model_name": "FloatProgressModel",
      "state": {
       "_dom_classes": [],
       "_model_module": "@jupyter-widgets/controls",
       "_model_module_version": "1.5.0",
       "_model_name": "FloatProgressModel",
       "_view_count": null,
       "_view_module": "@jupyter-widgets/controls",
       "_view_module_version": "1.5.0",
       "_view_name": "ProgressView",
       "bar_style": "",
       "description": "",
       "description_tooltip": null,
       "layout": "IPY_MODEL_ebf980f59a6b40baaa72c692534ad360",
       "max": 94,
       "min": 0,
       "orientation": "horizontal",
       "style": "IPY_MODEL_8ce5cf5741c14bc99a799af656e3d5a9",
       "value": 94
      }
     },
     "6932ea4a6d1749a59817e4ea75445087": {
      "model_module": "@jupyter-widgets/base",
      "model_module_version": "1.2.0",
      "model_name": "LayoutModel",
      "state": {
       "_model_module": "@jupyter-widgets/base",
       "_model_module_version": "1.2.0",
       "_model_name": "LayoutModel",
       "_view_count": null,
       "_view_module": "@jupyter-widgets/base",
       "_view_module_version": "1.2.0",
       "_view_name": "LayoutView",
       "align_content": null,
       "align_items": null,
       "align_self": null,
       "border": null,
       "bottom": null,
       "display": "inline-flex",
       "flex": null,
       "flex_flow": "row wrap",
       "grid_area": null,
       "grid_auto_columns": null,
       "grid_auto_flow": null,
       "grid_auto_rows": null,
       "grid_column": null,
       "grid_gap": null,
       "grid_row": null,
       "grid_template_areas": null,
       "grid_template_columns": null,
       "grid_template_rows": null,
       "height": null,
       "justify_content": null,
       "justify_items": null,
       "left": null,
       "margin": null,
       "max_height": null,
       "max_width": null,
       "min_height": null,
       "min_width": null,
       "object_fit": null,
       "object_position": null,
       "order": null,
       "overflow": null,
       "overflow_x": null,
       "overflow_y": null,
       "padding": null,
       "right": null,
       "top": null,
       "visibility": null,
       "width": "100%"
      }
     },
     "694b4ac065664176a6852179f77f84c7": {
      "model_module": "@jupyter-widgets/controls",
      "model_module_version": "1.5.0",
      "model_name": "VBoxModel",
      "state": {
       "_dom_classes": [],
       "_model_module": "@jupyter-widgets/controls",
       "_model_module_version": "1.5.0",
       "_model_name": "VBoxModel",
       "_view_count": null,
       "_view_module": "@jupyter-widgets/controls",
       "_view_module_version": "1.5.0",
       "_view_name": "VBoxView",
       "box_style": "",
       "children": [
        "IPY_MODEL_3f680ca2ef2b473781acf68083d9d2a4",
        "IPY_MODEL_bb6187eeef954b3d98ebc8062a5dea89"
       ],
       "layout": "IPY_MODEL_da0c4c9353764ca4823ee6b6bd0f2d75"
      }
     },
     "6d94824e12374fca82df7b560c438f48": {
      "model_module": "@jupyter-widgets/controls",
      "model_module_version": "1.5.0",
      "model_name": "DescriptionStyleModel",
      "state": {
       "_model_module": "@jupyter-widgets/controls",
       "_model_module_version": "1.5.0",
       "_model_name": "DescriptionStyleModel",
       "_view_count": null,
       "_view_module": "@jupyter-widgets/base",
       "_view_module_version": "1.2.0",
       "_view_name": "StyleView",
       "description_width": ""
      }
     },
     "6ef32e38caa3406a87a465ab2955915a": {
      "model_module": "@jupyter-widgets/controls",
      "model_module_version": "1.5.0",
      "model_name": "ProgressStyleModel",
      "state": {
       "_model_module": "@jupyter-widgets/controls",
       "_model_module_version": "1.5.0",
       "_model_name": "ProgressStyleModel",
       "_view_count": null,
       "_view_module": "@jupyter-widgets/base",
       "_view_module_version": "1.2.0",
       "_view_name": "StyleView",
       "bar_color": null,
       "description_width": ""
      }
     },
     "701dcb5132824bd5baa830cb7d427e78": {
      "model_module": "@jupyter-widgets/base",
      "model_module_version": "1.2.0",
      "model_name": "LayoutModel",
      "state": {
       "_model_module": "@jupyter-widgets/base",
       "_model_module_version": "1.2.0",
       "_model_name": "LayoutModel",
       "_view_count": null,
       "_view_module": "@jupyter-widgets/base",
       "_view_module_version": "1.2.0",
       "_view_name": "LayoutView",
       "align_content": null,
       "align_items": null,
       "align_self": null,
       "border": null,
       "bottom": null,
       "display": null,
       "flex": null,
       "flex_flow": null,
       "grid_area": null,
       "grid_auto_columns": null,
       "grid_auto_flow": null,
       "grid_auto_rows": null,
       "grid_column": null,
       "grid_gap": null,
       "grid_row": null,
       "grid_template_areas": null,
       "grid_template_columns": null,
       "grid_template_rows": null,
       "height": null,
       "justify_content": null,
       "justify_items": null,
       "left": null,
       "margin": null,
       "max_height": null,
       "max_width": null,
       "min_height": null,
       "min_width": null,
       "object_fit": null,
       "object_position": null,
       "order": null,
       "overflow": null,
       "overflow_x": null,
       "overflow_y": null,
       "padding": null,
       "right": null,
       "top": null,
       "visibility": null,
       "width": null
      }
     },
     "70a8615cfc9243f8b03bd5dfbbb08511": {
      "model_module": "@jupyter-widgets/base",
      "model_module_version": "1.2.0",
      "model_name": "LayoutModel",
      "state": {
       "_model_module": "@jupyter-widgets/base",
       "_model_module_version": "1.2.0",
       "_model_name": "LayoutModel",
       "_view_count": null,
       "_view_module": "@jupyter-widgets/base",
       "_view_module_version": "1.2.0",
       "_view_name": "LayoutView",
       "align_content": null,
       "align_items": null,
       "align_self": null,
       "border": null,
       "bottom": null,
       "display": "inline-flex",
       "flex": null,
       "flex_flow": "row wrap",
       "grid_area": null,
       "grid_auto_columns": null,
       "grid_auto_flow": null,
       "grid_auto_rows": null,
       "grid_column": null,
       "grid_gap": null,
       "grid_row": null,
       "grid_template_areas": null,
       "grid_template_columns": null,
       "grid_template_rows": null,
       "height": null,
       "justify_content": null,
       "justify_items": null,
       "left": null,
       "margin": null,
       "max_height": null,
       "max_width": null,
       "min_height": null,
       "min_width": null,
       "object_fit": null,
       "object_position": null,
       "order": null,
       "overflow": null,
       "overflow_x": null,
       "overflow_y": null,
       "padding": null,
       "right": null,
       "top": null,
       "visibility": null,
       "width": "100%"
      }
     },
     "78e7a65898f94983a27fff1661166b7b": {
      "model_module": "@jupyter-widgets/controls",
      "model_module_version": "1.5.0",
      "model_name": "HBoxModel",
      "state": {
       "_dom_classes": [],
       "_model_module": "@jupyter-widgets/controls",
       "_model_module_version": "1.5.0",
       "_model_name": "HBoxModel",
       "_view_count": null,
       "_view_module": "@jupyter-widgets/controls",
       "_view_module_version": "1.5.0",
       "_view_name": "HBoxView",
       "box_style": "",
       "children": [
        "IPY_MODEL_d4e4ea114bf04d7bbf0fa2e7ffba6ddf",
        "IPY_MODEL_0fd9d9c28b9048088978ebd6f79f7999",
        "IPY_MODEL_f78635e0ad7147519400e77b91811ae6"
       ],
       "layout": "IPY_MODEL_25bfb01af5ee48efa5ac1834db78d27e"
      }
     },
     "7a0f201528b04c95ae68eea1a19fcdc6": {
      "model_module": "@jupyter-widgets/base",
      "model_module_version": "1.2.0",
      "model_name": "LayoutModel",
      "state": {
       "_model_module": "@jupyter-widgets/base",
       "_model_module_version": "1.2.0",
       "_model_name": "LayoutModel",
       "_view_count": null,
       "_view_module": "@jupyter-widgets/base",
       "_view_module_version": "1.2.0",
       "_view_name": "LayoutView",
       "align_content": null,
       "align_items": null,
       "align_self": null,
       "border": null,
       "bottom": null,
       "display": null,
       "flex": null,
       "flex_flow": null,
       "grid_area": null,
       "grid_auto_columns": null,
       "grid_auto_flow": null,
       "grid_auto_rows": null,
       "grid_column": null,
       "grid_gap": null,
       "grid_row": null,
       "grid_template_areas": null,
       "grid_template_columns": null,
       "grid_template_rows": null,
       "height": null,
       "justify_content": null,
       "justify_items": null,
       "left": null,
       "margin": null,
       "max_height": null,
       "max_width": null,
       "min_height": null,
       "min_width": null,
       "object_fit": null,
       "object_position": null,
       "order": null,
       "overflow": null,
       "overflow_x": null,
       "overflow_y": null,
       "padding": null,
       "right": null,
       "top": null,
       "visibility": null,
       "width": null
      }
     },
     "7fd276fb2d6140f69693454089f66d57": {
      "model_module": "@jupyter-widgets/base",
      "model_module_version": "1.2.0",
      "model_name": "LayoutModel",
      "state": {
       "_model_module": "@jupyter-widgets/base",
       "_model_module_version": "1.2.0",
       "_model_name": "LayoutModel",
       "_view_count": null,
       "_view_module": "@jupyter-widgets/base",
       "_view_module_version": "1.2.0",
       "_view_name": "LayoutView",
       "align_content": null,
       "align_items": null,
       "align_self": null,
       "border": null,
       "bottom": null,
       "display": null,
       "flex": null,
       "flex_flow": null,
       "grid_area": null,
       "grid_auto_columns": null,
       "grid_auto_flow": null,
       "grid_auto_rows": null,
       "grid_column": null,
       "grid_gap": null,
       "grid_row": null,
       "grid_template_areas": null,
       "grid_template_columns": null,
       "grid_template_rows": null,
       "height": null,
       "justify_content": null,
       "justify_items": null,
       "left": null,
       "margin": null,
       "max_height": null,
       "max_width": null,
       "min_height": null,
       "min_width": null,
       "object_fit": null,
       "object_position": null,
       "order": null,
       "overflow": null,
       "overflow_x": null,
       "overflow_y": null,
       "padding": null,
       "right": null,
       "top": null,
       "visibility": null,
       "width": null
      }
     },
     "83ce485b6a684e728a76554a6bdfdd6d": {
      "model_module": "@jupyter-widgets/controls",
      "model_module_version": "1.5.0",
      "model_name": "HTMLModel",
      "state": {
       "_dom_classes": [],
       "_model_module": "@jupyter-widgets/controls",
       "_model_module_version": "1.5.0",
       "_model_name": "HTMLModel",
       "_view_count": null,
       "_view_module": "@jupyter-widgets/controls",
       "_view_module_version": "1.5.0",
       "_view_name": "HTMLView",
       "description": "",
       "description_tooltip": null,
       "layout": "IPY_MODEL_4339a39518a349ccad89add6a4f0eeb7",
       "placeholder": "​",
       "style": "IPY_MODEL_c4dfaf419a9b4fec9b52d72d73791631",
       "value": "Validating:  99%"
      }
     },
     "852d08abb84d4d9fbe5daedfcfebffca": {
      "model_module": "@jupyter-widgets/controls",
      "model_module_version": "1.5.0",
      "model_name": "HBoxModel",
      "state": {
       "_dom_classes": [],
       "_model_module": "@jupyter-widgets/controls",
       "_model_module_version": "1.5.0",
       "_model_name": "HBoxModel",
       "_view_count": null,
       "_view_module": "@jupyter-widgets/controls",
       "_view_module_version": "1.5.0",
       "_view_name": "HBoxView",
       "box_style": "",
       "children": [
        "IPY_MODEL_924a0a3f85d64171b6d697326ed2d309",
        "IPY_MODEL_9aec331c0c544b7aa9880663f37e3152",
        "IPY_MODEL_d411cf2b33e640589ff4cf4e0282383a"
       ],
       "layout": "IPY_MODEL_931c213401cd4961adbb833a582a634a"
      }
     },
     "85d304f7622b42c3b1ec088d3c69fea8": {
      "model_module": "@jupyter-widgets/controls",
      "model_module_version": "1.5.0",
      "model_name": "DescriptionStyleModel",
      "state": {
       "_model_module": "@jupyter-widgets/controls",
       "_model_module_version": "1.5.0",
       "_model_name": "DescriptionStyleModel",
       "_view_count": null,
       "_view_module": "@jupyter-widgets/base",
       "_view_module_version": "1.2.0",
       "_view_name": "StyleView",
       "description_width": ""
      }
     },
     "8bdc574e7ae940aab52289e188e4753b": {
      "model_module": "@jupyter-widgets/controls",
      "model_module_version": "1.5.0",
      "model_name": "HBoxModel",
      "state": {
       "_dom_classes": [],
       "_model_module": "@jupyter-widgets/controls",
       "_model_module_version": "1.5.0",
       "_model_name": "HBoxModel",
       "_view_count": null,
       "_view_module": "@jupyter-widgets/controls",
       "_view_module_version": "1.5.0",
       "_view_name": "HBoxView",
       "box_style": "",
       "children": [
        "IPY_MODEL_5e16955069b34e809c903945e413a682",
        "IPY_MODEL_426c95b8529d487aad96e3858289a08d",
        "IPY_MODEL_f88a51fc348a4f438ab9ea0b20bf2bd6"
       ],
       "layout": "IPY_MODEL_6932ea4a6d1749a59817e4ea75445087"
      }
     },
     "8ce5cf5741c14bc99a799af656e3d5a9": {
      "model_module": "@jupyter-widgets/controls",
      "model_module_version": "1.5.0",
      "model_name": "ProgressStyleModel",
      "state": {
       "_model_module": "@jupyter-widgets/controls",
       "_model_module_version": "1.5.0",
       "_model_name": "ProgressStyleModel",
       "_view_count": null,
       "_view_module": "@jupyter-widgets/base",
       "_view_module_version": "1.2.0",
       "_view_name": "StyleView",
       "bar_color": null,
       "description_width": ""
      }
     },
     "924a0a3f85d64171b6d697326ed2d309": {
      "model_module": "@jupyter-widgets/controls",
      "model_module_version": "1.5.0",
      "model_name": "HTMLModel",
      "state": {
       "_dom_classes": [],
       "_model_module": "@jupyter-widgets/controls",
       "_model_module_version": "1.5.0",
       "_model_name": "HTMLModel",
       "_view_count": null,
       "_view_module": "@jupyter-widgets/controls",
       "_view_module_version": "1.5.0",
       "_view_name": "HTMLView",
       "description": "",
       "description_tooltip": null,
       "layout": "IPY_MODEL_a10026cf0f604a099e570ab73e34bf95",
       "placeholder": "​",
       "style": "IPY_MODEL_54dcfbcce9ae486d84c0a986f2d17be6",
       "value": "Validation sanity check:  50%"
      }
     },
     "931c213401cd4961adbb833a582a634a": {
      "model_module": "@jupyter-widgets/base",
      "model_module_version": "1.2.0",
      "model_name": "LayoutModel",
      "state": {
       "_model_module": "@jupyter-widgets/base",
       "_model_module_version": "1.2.0",
       "_model_name": "LayoutModel",
       "_view_count": null,
       "_view_module": "@jupyter-widgets/base",
       "_view_module_version": "1.2.0",
       "_view_name": "LayoutView",
       "align_content": null,
       "align_items": null,
       "align_self": null,
       "border": null,
       "bottom": null,
       "display": "inline-flex",
       "flex": null,
       "flex_flow": "row wrap",
       "grid_area": null,
       "grid_auto_columns": null,
       "grid_auto_flow": null,
       "grid_auto_rows": null,
       "grid_column": null,
       "grid_gap": null,
       "grid_row": null,
       "grid_template_areas": null,
       "grid_template_columns": null,
       "grid_template_rows": null,
       "height": null,
       "justify_content": null,
       "justify_items": null,
       "left": null,
       "margin": null,
       "max_height": null,
       "max_width": null,
       "min_height": null,
       "min_width": null,
       "object_fit": null,
       "object_position": null,
       "order": null,
       "overflow": null,
       "overflow_x": null,
       "overflow_y": null,
       "padding": null,
       "right": null,
       "top": null,
       "visibility": null,
       "width": "100%"
      }
     },
     "9aec331c0c544b7aa9880663f37e3152": {
      "model_module": "@jupyter-widgets/controls",
      "model_module_version": "1.5.0",
      "model_name": "FloatProgressModel",
      "state": {
       "_dom_classes": [],
       "_model_module": "@jupyter-widgets/controls",
       "_model_module_version": "1.5.0",
       "_model_name": "FloatProgressModel",
       "_view_count": null,
       "_view_module": "@jupyter-widgets/controls",
       "_view_module_version": "1.5.0",
       "_view_name": "ProgressView",
       "bar_style": "",
       "description": "",
       "description_tooltip": null,
       "layout": "IPY_MODEL_afb885df5a964bbf90b1821058965d65",
       "max": 2,
       "min": 0,
       "orientation": "horizontal",
       "style": "IPY_MODEL_ede1b146236e4282878f8336dd5000b5",
       "value": 2
      }
     },
     "9ff70424df1f463b949d0bf51da568ad": {
      "model_module": "@jupyter-widgets/base",
      "model_module_version": "1.2.0",
      "model_name": "LayoutModel",
      "state": {
       "_model_module": "@jupyter-widgets/base",
       "_model_module_version": "1.2.0",
       "_model_name": "LayoutModel",
       "_view_count": null,
       "_view_module": "@jupyter-widgets/base",
       "_view_module_version": "1.2.0",
       "_view_name": "LayoutView",
       "align_content": null,
       "align_items": null,
       "align_self": null,
       "border": null,
       "bottom": null,
       "display": null,
       "flex": null,
       "flex_flow": null,
       "grid_area": null,
       "grid_auto_columns": null,
       "grid_auto_flow": null,
       "grid_auto_rows": null,
       "grid_column": null,
       "grid_gap": null,
       "grid_row": null,
       "grid_template_areas": null,
       "grid_template_columns": null,
       "grid_template_rows": null,
       "height": null,
       "justify_content": null,
       "justify_items": null,
       "left": null,
       "margin": null,
       "max_height": null,
       "max_width": null,
       "min_height": null,
       "min_width": null,
       "object_fit": null,
       "object_position": null,
       "order": null,
       "overflow": null,
       "overflow_x": null,
       "overflow_y": null,
       "padding": null,
       "right": null,
       "top": null,
       "visibility": null,
       "width": null
      }
     },
     "a10026cf0f604a099e570ab73e34bf95": {
      "model_module": "@jupyter-widgets/base",
      "model_module_version": "1.2.0",
      "model_name": "LayoutModel",
      "state": {
       "_model_module": "@jupyter-widgets/base",
       "_model_module_version": "1.2.0",
       "_model_name": "LayoutModel",
       "_view_count": null,
       "_view_module": "@jupyter-widgets/base",
       "_view_module_version": "1.2.0",
       "_view_name": "LayoutView",
       "align_content": null,
       "align_items": null,
       "align_self": null,
       "border": null,
       "bottom": null,
       "display": null,
       "flex": null,
       "flex_flow": null,
       "grid_area": null,
       "grid_auto_columns": null,
       "grid_auto_flow": null,
       "grid_auto_rows": null,
       "grid_column": null,
       "grid_gap": null,
       "grid_row": null,
       "grid_template_areas": null,
       "grid_template_columns": null,
       "grid_template_rows": null,
       "height": null,
       "justify_content": null,
       "justify_items": null,
       "left": null,
       "margin": null,
       "max_height": null,
       "max_width": null,
       "min_height": null,
       "min_width": null,
       "object_fit": null,
       "object_position": null,
       "order": null,
       "overflow": null,
       "overflow_x": null,
       "overflow_y": null,
       "padding": null,
       "right": null,
       "top": null,
       "visibility": null,
       "width": null
      }
     },
     "ac563db25e284a0c94cd2fd8a5a2adcb": {
      "model_module": "@jupyter-widgets/base",
      "model_module_version": "1.2.0",
      "model_name": "LayoutModel",
      "state": {
       "_model_module": "@jupyter-widgets/base",
       "_model_module_version": "1.2.0",
       "_model_name": "LayoutModel",
       "_view_count": null,
       "_view_module": "@jupyter-widgets/base",
       "_view_module_version": "1.2.0",
       "_view_name": "LayoutView",
       "align_content": null,
       "align_items": null,
       "align_self": null,
       "border": null,
       "bottom": null,
       "display": null,
       "flex": null,
       "flex_flow": null,
       "grid_area": null,
       "grid_auto_columns": null,
       "grid_auto_flow": null,
       "grid_auto_rows": null,
       "grid_column": null,
       "grid_gap": null,
       "grid_row": null,
       "grid_template_areas": null,
       "grid_template_columns": null,
       "grid_template_rows": null,
       "height": null,
       "justify_content": null,
       "justify_items": null,
       "left": null,
       "margin": null,
       "max_height": null,
       "max_width": null,
       "min_height": null,
       "min_width": null,
       "object_fit": null,
       "object_position": null,
       "order": null,
       "overflow": null,
       "overflow_x": null,
       "overflow_y": null,
       "padding": null,
       "right": null,
       "top": null,
       "visibility": null,
       "width": null
      }
     },
     "afb885df5a964bbf90b1821058965d65": {
      "model_module": "@jupyter-widgets/base",
      "model_module_version": "1.2.0",
      "model_name": "LayoutModel",
      "state": {
       "_model_module": "@jupyter-widgets/base",
       "_model_module_version": "1.2.0",
       "_model_name": "LayoutModel",
       "_view_count": null,
       "_view_module": "@jupyter-widgets/base",
       "_view_module_version": "1.2.0",
       "_view_name": "LayoutView",
       "align_content": null,
       "align_items": null,
       "align_self": null,
       "border": null,
       "bottom": null,
       "display": null,
       "flex": "2",
       "flex_flow": null,
       "grid_area": null,
       "grid_auto_columns": null,
       "grid_auto_flow": null,
       "grid_auto_rows": null,
       "grid_column": null,
       "grid_gap": null,
       "grid_row": null,
       "grid_template_areas": null,
       "grid_template_columns": null,
       "grid_template_rows": null,
       "height": null,
       "justify_content": null,
       "justify_items": null,
       "left": null,
       "margin": null,
       "max_height": null,
       "max_width": null,
       "min_height": null,
       "min_width": null,
       "object_fit": null,
       "object_position": null,
       "order": null,
       "overflow": null,
       "overflow_x": null,
       "overflow_y": null,
       "padding": null,
       "right": null,
       "top": null,
       "visibility": null,
       "width": null
      }
     },
     "afd0110b283645b891331db3a10e9a7e": {
      "model_module": "@jupyter-widgets/controls",
      "model_module_version": "1.5.0",
      "model_name": "ProgressStyleModel",
      "state": {
       "_model_module": "@jupyter-widgets/controls",
       "_model_module_version": "1.5.0",
       "_model_name": "ProgressStyleModel",
       "_view_count": null,
       "_view_module": "@jupyter-widgets/base",
       "_view_module_version": "1.2.0",
       "_view_name": "StyleView",
       "bar_color": null,
       "description_width": ""
      }
     },
     "b2130fc6a00949e9a8d82e1223777f17": {
      "model_module": "@jupyter-widgets/controls",
      "model_module_version": "1.5.0",
      "model_name": "FloatProgressModel",
      "state": {
       "_dom_classes": [],
       "_model_module": "@jupyter-widgets/controls",
       "_model_module_version": "1.5.0",
       "_model_name": "FloatProgressModel",
       "_view_count": null,
       "_view_module": "@jupyter-widgets/controls",
       "_view_module_version": "1.5.0",
       "_view_name": "ProgressView",
       "bar_style": "",
       "description": "",
       "description_tooltip": null,
       "layout": "IPY_MODEL_12dea99305cf4b169b8d1f6f53b8755f",
       "max": 94,
       "min": 0,
       "orientation": "horizontal",
       "style": "IPY_MODEL_afd0110b283645b891331db3a10e9a7e",
       "value": 94
      }
     },
     "b7ac2c552e4e460a90b2ece88e4cfeb5": {
      "model_module": "@jupyter-widgets/controls",
      "model_module_version": "1.5.0",
      "model_name": "DescriptionStyleModel",
      "state": {
       "_model_module": "@jupyter-widgets/controls",
       "_model_module_version": "1.5.0",
       "_model_name": "DescriptionStyleModel",
       "_view_count": null,
       "_view_module": "@jupyter-widgets/base",
       "_view_module_version": "1.2.0",
       "_view_name": "StyleView",
       "description_width": ""
      }
     },
     "bb6187eeef954b3d98ebc8062a5dea89": {
      "model_module": "@jupyter-widgets/controls",
      "model_module_version": "1.5.0",
      "model_name": "FloatProgressModel",
      "state": {
       "_dom_classes": [],
       "_model_module": "@jupyter-widgets/controls",
       "_model_module_version": "1.5.0",
       "_model_name": "FloatProgressModel",
       "_view_count": null,
       "_view_module": "@jupyter-widgets/controls",
       "_view_module_version": "1.5.0",
       "_view_name": "ProgressView",
       "bar_style": "",
       "description": "",
       "description_tooltip": null,
       "layout": "IPY_MODEL_ac563db25e284a0c94cd2fd8a5a2adcb",
       "max": 1,
       "min": 0,
       "orientation": "horizontal",
       "style": "IPY_MODEL_fecb2df664554850929969156e27bdcb",
       "value": 0
      }
     },
     "bc642f61441e40ab997d6e69eed0b24e": {
      "model_module": "@jupyter-widgets/base",
      "model_module_version": "1.2.0",
      "model_name": "LayoutModel",
      "state": {
       "_model_module": "@jupyter-widgets/base",
       "_model_module_version": "1.2.0",
       "_model_name": "LayoutModel",
       "_view_count": null,
       "_view_module": "@jupyter-widgets/base",
       "_view_module_version": "1.2.0",
       "_view_name": "LayoutView",
       "align_content": null,
       "align_items": null,
       "align_self": null,
       "border": null,
       "bottom": null,
       "display": null,
       "flex": null,
       "flex_flow": null,
       "grid_area": null,
       "grid_auto_columns": null,
       "grid_auto_flow": null,
       "grid_auto_rows": null,
       "grid_column": null,
       "grid_gap": null,
       "grid_row": null,
       "grid_template_areas": null,
       "grid_template_columns": null,
       "grid_template_rows": null,
       "height": null,
       "justify_content": null,
       "justify_items": null,
       "left": null,
       "margin": null,
       "max_height": null,
       "max_width": null,
       "min_height": null,
       "min_width": null,
       "object_fit": null,
       "object_position": null,
       "order": null,
       "overflow": null,
       "overflow_x": null,
       "overflow_y": null,
       "padding": null,
       "right": null,
       "top": null,
       "visibility": null,
       "width": null
      }
     },
     "bd08e2a3dabf4af986749fe1634af3ad": {
      "model_module": "@jupyter-widgets/controls",
      "model_module_version": "1.5.0",
      "model_name": "HTMLModel",
      "state": {
       "_dom_classes": [],
       "_model_module": "@jupyter-widgets/controls",
       "_model_module_version": "1.5.0",
       "_model_name": "HTMLModel",
       "_view_count": null,
       "_view_module": "@jupyter-widgets/controls",
       "_view_module_version": "1.5.0",
       "_view_name": "HTMLView",
       "description": "",
       "description_tooltip": null,
       "layout": "IPY_MODEL_e015baae76cc48daa9d3dee7c2a9059a",
       "placeholder": "​",
       "style": "IPY_MODEL_85d304f7622b42c3b1ec088d3c69fea8",
       "value": " 93/94 [01:12&lt;00:00,  1.30it/s]"
      }
     },
     "be769eab244449f490b7f3464560eeac": {
      "model_module": "@jupyter-widgets/controls",
      "model_module_version": "1.5.0",
      "model_name": "DescriptionStyleModel",
      "state": {
       "_model_module": "@jupyter-widgets/controls",
       "_model_module_version": "1.5.0",
       "_model_name": "DescriptionStyleModel",
       "_view_count": null,
       "_view_module": "@jupyter-widgets/base",
       "_view_module_version": "1.2.0",
       "_view_name": "StyleView",
       "description_width": ""
      }
     },
     "c47a2da662d446f5a291276241b3b568": {
      "model_module": "@jupyter-widgets/base",
      "model_module_version": "1.2.0",
      "model_name": "LayoutModel",
      "state": {
       "_model_module": "@jupyter-widgets/base",
       "_model_module_version": "1.2.0",
       "_model_name": "LayoutModel",
       "_view_count": null,
       "_view_module": "@jupyter-widgets/base",
       "_view_module_version": "1.2.0",
       "_view_name": "LayoutView",
       "align_content": null,
       "align_items": null,
       "align_self": null,
       "border": null,
       "bottom": null,
       "display": "inline-flex",
       "flex": null,
       "flex_flow": "row wrap",
       "grid_area": null,
       "grid_auto_columns": null,
       "grid_auto_flow": null,
       "grid_auto_rows": null,
       "grid_column": null,
       "grid_gap": null,
       "grid_row": null,
       "grid_template_areas": null,
       "grid_template_columns": null,
       "grid_template_rows": null,
       "height": null,
       "justify_content": null,
       "justify_items": null,
       "left": null,
       "margin": null,
       "max_height": null,
       "max_width": null,
       "min_height": null,
       "min_width": null,
       "object_fit": null,
       "object_position": null,
       "order": null,
       "overflow": null,
       "overflow_x": null,
       "overflow_y": null,
       "padding": null,
       "right": null,
       "top": null,
       "visibility": null,
       "width": "100%"
      }
     },
     "c4dfaf419a9b4fec9b52d72d73791631": {
      "model_module": "@jupyter-widgets/controls",
      "model_module_version": "1.5.0",
      "model_name": "DescriptionStyleModel",
      "state": {
       "_model_module": "@jupyter-widgets/controls",
       "_model_module_version": "1.5.0",
       "_model_name": "DescriptionStyleModel",
       "_view_count": null,
       "_view_module": "@jupyter-widgets/base",
       "_view_module_version": "1.2.0",
       "_view_name": "StyleView",
       "description_width": ""
      }
     },
     "cd13b4a09c6c44f894140c365580a671": {
      "model_module": "@jupyter-widgets/controls",
      "model_module_version": "1.5.0",
      "model_name": "DescriptionStyleModel",
      "state": {
       "_model_module": "@jupyter-widgets/controls",
       "_model_module_version": "1.5.0",
       "_model_name": "DescriptionStyleModel",
       "_view_count": null,
       "_view_module": "@jupyter-widgets/base",
       "_view_module_version": "1.2.0",
       "_view_name": "StyleView",
       "description_width": ""
      }
     },
     "d02d505f35f04de2824834a8bbcacffd": {
      "model_module": "@jupyter-widgets/base",
      "model_module_version": "1.2.0",
      "model_name": "LayoutModel",
      "state": {
       "_model_module": "@jupyter-widgets/base",
       "_model_module_version": "1.2.0",
       "_model_name": "LayoutModel",
       "_view_count": null,
       "_view_module": "@jupyter-widgets/base",
       "_view_module_version": "1.2.0",
       "_view_name": "LayoutView",
       "align_content": null,
       "align_items": null,
       "align_self": null,
       "border": null,
       "bottom": null,
       "display": null,
       "flex": "2",
       "flex_flow": null,
       "grid_area": null,
       "grid_auto_columns": null,
       "grid_auto_flow": null,
       "grid_auto_rows": null,
       "grid_column": null,
       "grid_gap": null,
       "grid_row": null,
       "grid_template_areas": null,
       "grid_template_columns": null,
       "grid_template_rows": null,
       "height": null,
       "justify_content": null,
       "justify_items": null,
       "left": null,
       "margin": null,
       "max_height": null,
       "max_width": null,
       "min_height": null,
       "min_width": null,
       "object_fit": null,
       "object_position": null,
       "order": null,
       "overflow": null,
       "overflow_x": null,
       "overflow_y": null,
       "padding": null,
       "right": null,
       "top": null,
       "visibility": null,
       "width": null
      }
     },
     "d336009f87094e6ca9dd5b15d33b3e1e": {
      "model_module": "@jupyter-widgets/base",
      "model_module_version": "1.2.0",
      "model_name": "LayoutModel",
      "state": {
       "_model_module": "@jupyter-widgets/base",
       "_model_module_version": "1.2.0",
       "_model_name": "LayoutModel",
       "_view_count": null,
       "_view_module": "@jupyter-widgets/base",
       "_view_module_version": "1.2.0",
       "_view_name": "LayoutView",
       "align_content": null,
       "align_items": null,
       "align_self": null,
       "border": null,
       "bottom": null,
       "display": null,
       "flex": "2",
       "flex_flow": null,
       "grid_area": null,
       "grid_auto_columns": null,
       "grid_auto_flow": null,
       "grid_auto_rows": null,
       "grid_column": null,
       "grid_gap": null,
       "grid_row": null,
       "grid_template_areas": null,
       "grid_template_columns": null,
       "grid_template_rows": null,
       "height": null,
       "justify_content": null,
       "justify_items": null,
       "left": null,
       "margin": null,
       "max_height": null,
       "max_width": null,
       "min_height": null,
       "min_width": null,
       "object_fit": null,
       "object_position": null,
       "order": null,
       "overflow": null,
       "overflow_x": null,
       "overflow_y": null,
       "padding": null,
       "right": null,
       "top": null,
       "visibility": null,
       "width": null
      }
     },
     "d37fba86abba40f88e9f7649dde6898c": {
      "model_module": "@jupyter-widgets/controls",
      "model_module_version": "1.5.0",
      "model_name": "HBoxModel",
      "state": {
       "_dom_classes": [],
       "_model_module": "@jupyter-widgets/controls",
       "_model_module_version": "1.5.0",
       "_model_name": "HBoxModel",
       "_view_count": null,
       "_view_module": "@jupyter-widgets/controls",
       "_view_module_version": "1.5.0",
       "_view_name": "HBoxView",
       "box_style": "",
       "children": [
        "IPY_MODEL_83ce485b6a684e728a76554a6bdfdd6d",
        "IPY_MODEL_daa11ab0bab94e89ae72bc888dea8b8b",
        "IPY_MODEL_2899231fe63b41ddb1ba34222ea1fa82"
       ],
       "layout": "IPY_MODEL_5ade0a14dcdf42439b5b289819d5861b"
      }
     },
     "d411cf2b33e640589ff4cf4e0282383a": {
      "model_module": "@jupyter-widgets/controls",
      "model_module_version": "1.5.0",
      "model_name": "HTMLModel",
      "state": {
       "_dom_classes": [],
       "_model_module": "@jupyter-widgets/controls",
       "_model_module_version": "1.5.0",
       "_model_name": "HTMLModel",
       "_view_count": null,
       "_view_module": "@jupyter-widgets/controls",
       "_view_module_version": "1.5.0",
       "_view_name": "HTMLView",
       "description": "",
       "description_tooltip": null,
       "layout": "IPY_MODEL_23a34729ac5544e3a1559076a60d0cd2",
       "placeholder": "​",
       "style": "IPY_MODEL_e1ed5e70998c4bb5b2c61a5cc4996c54",
       "value": " 1/2 [00:05&lt;00:05,  5.55s/it]"
      }
     },
     "d4e4ea114bf04d7bbf0fa2e7ffba6ddf": {
      "model_module": "@jupyter-widgets/controls",
      "model_module_version": "1.5.0",
      "model_name": "HTMLModel",
      "state": {
       "_dom_classes": [],
       "_model_module": "@jupyter-widgets/controls",
       "_model_module_version": "1.5.0",
       "_model_name": "HTMLModel",
       "_view_count": null,
       "_view_module": "@jupyter-widgets/controls",
       "_view_module_version": "1.5.0",
       "_view_name": "HTMLView",
       "description": "",
       "description_tooltip": null,
       "layout": "IPY_MODEL_7a0f201528b04c95ae68eea1a19fcdc6",
       "placeholder": "​",
       "style": "IPY_MODEL_545e4923678c43c1a2d7557d8b286546",
       "value": "Epoch 4: 100%"
      }
     },
     "d6a65e81daac49eea484cd67f27266b5": {
      "model_module": "@jupyter-widgets/base",
      "model_module_version": "1.2.0",
      "model_name": "LayoutModel",
      "state": {
       "_model_module": "@jupyter-widgets/base",
       "_model_module_version": "1.2.0",
       "_model_name": "LayoutModel",
       "_view_count": null,
       "_view_module": "@jupyter-widgets/base",
       "_view_module_version": "1.2.0",
       "_view_name": "LayoutView",
       "align_content": null,
       "align_items": null,
       "align_self": null,
       "border": null,
       "bottom": null,
       "display": null,
       "flex": null,
       "flex_flow": null,
       "grid_area": null,
       "grid_auto_columns": null,
       "grid_auto_flow": null,
       "grid_auto_rows": null,
       "grid_column": null,
       "grid_gap": null,
       "grid_row": null,
       "grid_template_areas": null,
       "grid_template_columns": null,
       "grid_template_rows": null,
       "height": null,
       "justify_content": null,
       "justify_items": null,
       "left": null,
       "margin": null,
       "max_height": null,
       "max_width": null,
       "min_height": null,
       "min_width": null,
       "object_fit": null,
       "object_position": null,
       "order": null,
       "overflow": null,
       "overflow_x": null,
       "overflow_y": null,
       "padding": null,
       "right": null,
       "top": null,
       "visibility": null,
       "width": null
      }
     },
     "da0c4c9353764ca4823ee6b6bd0f2d75": {
      "model_module": "@jupyter-widgets/base",
      "model_module_version": "1.2.0",
      "model_name": "LayoutModel",
      "state": {
       "_model_module": "@jupyter-widgets/base",
       "_model_module_version": "1.2.0",
       "_model_name": "LayoutModel",
       "_view_count": null,
       "_view_module": "@jupyter-widgets/base",
       "_view_module_version": "1.2.0",
       "_view_name": "LayoutView",
       "align_content": null,
       "align_items": null,
       "align_self": null,
       "border": null,
       "bottom": null,
       "display": null,
       "flex": null,
       "flex_flow": null,
       "grid_area": null,
       "grid_auto_columns": null,
       "grid_auto_flow": null,
       "grid_auto_rows": null,
       "grid_column": null,
       "grid_gap": null,
       "grid_row": null,
       "grid_template_areas": null,
       "grid_template_columns": null,
       "grid_template_rows": null,
       "height": null,
       "justify_content": null,
       "justify_items": null,
       "left": null,
       "margin": null,
       "max_height": null,
       "max_width": null,
       "min_height": null,
       "min_width": null,
       "object_fit": null,
       "object_position": null,
       "order": null,
       "overflow": null,
       "overflow_x": null,
       "overflow_y": null,
       "padding": null,
       "right": null,
       "top": null,
       "visibility": null,
       "width": null
      }
     },
     "daa11ab0bab94e89ae72bc888dea8b8b": {
      "model_module": "@jupyter-widgets/controls",
      "model_module_version": "1.5.0",
      "model_name": "FloatProgressModel",
      "state": {
       "_dom_classes": [],
       "_model_module": "@jupyter-widgets/controls",
       "_model_module_version": "1.5.0",
       "_model_name": "FloatProgressModel",
       "_view_count": null,
       "_view_module": "@jupyter-widgets/controls",
       "_view_module_version": "1.5.0",
       "_view_name": "ProgressView",
       "bar_style": "",
       "description": "",
       "description_tooltip": null,
       "layout": "IPY_MODEL_d336009f87094e6ca9dd5b15d33b3e1e",
       "max": 94,
       "min": 0,
       "orientation": "horizontal",
       "style": "IPY_MODEL_36a6949cce914489b5ab4346f86bb272",
       "value": 94
      }
     },
     "dd74bc90517349099b985262b7350a46": {
      "model_module": "@jupyter-widgets/base",
      "model_module_version": "1.2.0",
      "model_name": "LayoutModel",
      "state": {
       "_model_module": "@jupyter-widgets/base",
       "_model_module_version": "1.2.0",
       "_model_name": "LayoutModel",
       "_view_count": null,
       "_view_module": "@jupyter-widgets/base",
       "_view_module_version": "1.2.0",
       "_view_name": "LayoutView",
       "align_content": null,
       "align_items": null,
       "align_self": null,
       "border": null,
       "bottom": null,
       "display": null,
       "flex": null,
       "flex_flow": null,
       "grid_area": null,
       "grid_auto_columns": null,
       "grid_auto_flow": null,
       "grid_auto_rows": null,
       "grid_column": null,
       "grid_gap": null,
       "grid_row": null,
       "grid_template_areas": null,
       "grid_template_columns": null,
       "grid_template_rows": null,
       "height": null,
       "justify_content": null,
       "justify_items": null,
       "left": null,
       "margin": null,
       "max_height": null,
       "max_width": null,
       "min_height": null,
       "min_width": null,
       "object_fit": null,
       "object_position": null,
       "order": null,
       "overflow": null,
       "overflow_x": null,
       "overflow_y": null,
       "padding": null,
       "right": null,
       "top": null,
       "visibility": null,
       "width": null
      }
     },
     "e015baae76cc48daa9d3dee7c2a9059a": {
      "model_module": "@jupyter-widgets/base",
      "model_module_version": "1.2.0",
      "model_name": "LayoutModel",
      "state": {
       "_model_module": "@jupyter-widgets/base",
       "_model_module_version": "1.2.0",
       "_model_name": "LayoutModel",
       "_view_count": null,
       "_view_module": "@jupyter-widgets/base",
       "_view_module_version": "1.2.0",
       "_view_name": "LayoutView",
       "align_content": null,
       "align_items": null,
       "align_self": null,
       "border": null,
       "bottom": null,
       "display": null,
       "flex": null,
       "flex_flow": null,
       "grid_area": null,
       "grid_auto_columns": null,
       "grid_auto_flow": null,
       "grid_auto_rows": null,
       "grid_column": null,
       "grid_gap": null,
       "grid_row": null,
       "grid_template_areas": null,
       "grid_template_columns": null,
       "grid_template_rows": null,
       "height": null,
       "justify_content": null,
       "justify_items": null,
       "left": null,
       "margin": null,
       "max_height": null,
       "max_width": null,
       "min_height": null,
       "min_width": null,
       "object_fit": null,
       "object_position": null,
       "order": null,
       "overflow": null,
       "overflow_x": null,
       "overflow_y": null,
       "padding": null,
       "right": null,
       "top": null,
       "visibility": null,
       "width": null
      }
     },
     "e1ed5e70998c4bb5b2c61a5cc4996c54": {
      "model_module": "@jupyter-widgets/controls",
      "model_module_version": "1.5.0",
      "model_name": "DescriptionStyleModel",
      "state": {
       "_model_module": "@jupyter-widgets/controls",
       "_model_module_version": "1.5.0",
       "_model_name": "DescriptionStyleModel",
       "_view_count": null,
       "_view_module": "@jupyter-widgets/base",
       "_view_module_version": "1.2.0",
       "_view_name": "StyleView",
       "description_width": ""
      }
     },
     "ebf980f59a6b40baaa72c692534ad360": {
      "model_module": "@jupyter-widgets/base",
      "model_module_version": "1.2.0",
      "model_name": "LayoutModel",
      "state": {
       "_model_module": "@jupyter-widgets/base",
       "_model_module_version": "1.2.0",
       "_model_name": "LayoutModel",
       "_view_count": null,
       "_view_module": "@jupyter-widgets/base",
       "_view_module_version": "1.2.0",
       "_view_name": "LayoutView",
       "align_content": null,
       "align_items": null,
       "align_self": null,
       "border": null,
       "bottom": null,
       "display": null,
       "flex": "2",
       "flex_flow": null,
       "grid_area": null,
       "grid_auto_columns": null,
       "grid_auto_flow": null,
       "grid_auto_rows": null,
       "grid_column": null,
       "grid_gap": null,
       "grid_row": null,
       "grid_template_areas": null,
       "grid_template_columns": null,
       "grid_template_rows": null,
       "height": null,
       "justify_content": null,
       "justify_items": null,
       "left": null,
       "margin": null,
       "max_height": null,
       "max_width": null,
       "min_height": null,
       "min_width": null,
       "object_fit": null,
       "object_position": null,
       "order": null,
       "overflow": null,
       "overflow_x": null,
       "overflow_y": null,
       "padding": null,
       "right": null,
       "top": null,
       "visibility": null,
       "width": null
      }
     },
     "ede1b146236e4282878f8336dd5000b5": {
      "model_module": "@jupyter-widgets/controls",
      "model_module_version": "1.5.0",
      "model_name": "ProgressStyleModel",
      "state": {
       "_model_module": "@jupyter-widgets/controls",
       "_model_module_version": "1.5.0",
       "_model_name": "ProgressStyleModel",
       "_view_count": null,
       "_view_module": "@jupyter-widgets/base",
       "_view_module_version": "1.2.0",
       "_view_name": "StyleView",
       "bar_color": null,
       "description_width": ""
      }
     },
     "f1057b4b9f1445a992e3318b931f74fb": {
      "model_module": "@jupyter-widgets/base",
      "model_module_version": "1.2.0",
      "model_name": "LayoutModel",
      "state": {
       "_model_module": "@jupyter-widgets/base",
       "_model_module_version": "1.2.0",
       "_model_name": "LayoutModel",
       "_view_count": null,
       "_view_module": "@jupyter-widgets/base",
       "_view_module_version": "1.2.0",
       "_view_name": "LayoutView",
       "align_content": null,
       "align_items": null,
       "align_self": null,
       "border": null,
       "bottom": null,
       "display": null,
       "flex": null,
       "flex_flow": null,
       "grid_area": null,
       "grid_auto_columns": null,
       "grid_auto_flow": null,
       "grid_auto_rows": null,
       "grid_column": null,
       "grid_gap": null,
       "grid_row": null,
       "grid_template_areas": null,
       "grid_template_columns": null,
       "grid_template_rows": null,
       "height": null,
       "justify_content": null,
       "justify_items": null,
       "left": null,
       "margin": null,
       "max_height": null,
       "max_width": null,
       "min_height": null,
       "min_width": null,
       "object_fit": null,
       "object_position": null,
       "order": null,
       "overflow": null,
       "overflow_x": null,
       "overflow_y": null,
       "padding": null,
       "right": null,
       "top": null,
       "visibility": null,
       "width": null
      }
     },
     "f3e0d08e2cd540d6a938d8444827c050": {
      "model_module": "@jupyter-widgets/base",
      "model_module_version": "1.2.0",
      "model_name": "LayoutModel",
      "state": {
       "_model_module": "@jupyter-widgets/base",
       "_model_module_version": "1.2.0",
       "_model_name": "LayoutModel",
       "_view_count": null,
       "_view_module": "@jupyter-widgets/base",
       "_view_module_version": "1.2.0",
       "_view_name": "LayoutView",
       "align_content": null,
       "align_items": null,
       "align_self": null,
       "border": null,
       "bottom": null,
       "display": "inline-flex",
       "flex": null,
       "flex_flow": "row wrap",
       "grid_area": null,
       "grid_auto_columns": null,
       "grid_auto_flow": null,
       "grid_auto_rows": null,
       "grid_column": null,
       "grid_gap": null,
       "grid_row": null,
       "grid_template_areas": null,
       "grid_template_columns": null,
       "grid_template_rows": null,
       "height": null,
       "justify_content": null,
       "justify_items": null,
       "left": null,
       "margin": null,
       "max_height": null,
       "max_width": null,
       "min_height": null,
       "min_width": null,
       "object_fit": null,
       "object_position": null,
       "order": null,
       "overflow": null,
       "overflow_x": null,
       "overflow_y": null,
       "padding": null,
       "right": null,
       "top": null,
       "visibility": null,
       "width": "100%"
      }
     },
     "f78635e0ad7147519400e77b91811ae6": {
      "model_module": "@jupyter-widgets/controls",
      "model_module_version": "1.5.0",
      "model_name": "HTMLModel",
      "state": {
       "_dom_classes": [],
       "_model_module": "@jupyter-widgets/controls",
       "_model_module_version": "1.5.0",
       "_model_name": "HTMLModel",
       "_view_count": null,
       "_view_module": "@jupyter-widgets/controls",
       "_view_module_version": "1.5.0",
       "_view_name": "HTMLView",
       "description": "",
       "description_tooltip": null,
       "layout": "IPY_MODEL_701dcb5132824bd5baa830cb7d427e78",
       "placeholder": "​",
       "style": "IPY_MODEL_b7ac2c552e4e460a90b2ece88e4cfeb5",
       "value": " 469/469 [08:44&lt;00:00,  1.12s/it, loss=0.27, v_num=4qw7, val_loss_epoch=0.256, val_auc=0.731, auc=0.697, mean_train_auc=0.722, lr=9.64e-5, val_loss_step=0.151]"
      }
     },
     "f7ae624b432843e088f35e0099f2070f": {
      "model_module": "@jupyter-widgets/controls",
      "model_module_version": "1.5.0",
      "model_name": "HBoxModel",
      "state": {
       "_dom_classes": [],
       "_model_module": "@jupyter-widgets/controls",
       "_model_module_version": "1.5.0",
       "_model_name": "HBoxModel",
       "_view_count": null,
       "_view_module": "@jupyter-widgets/controls",
       "_view_module_version": "1.5.0",
       "_view_name": "HBoxView",
       "box_style": "",
       "children": [
        "IPY_MODEL_5964b6b0a8234f2f82f35d28407bd7c5",
        "IPY_MODEL_53490c31100c4e6c866aa528a5684217",
        "IPY_MODEL_1bf8d36d994c4cfab1a2cc6cc142034d"
       ],
       "layout": "IPY_MODEL_f3e0d08e2cd540d6a938d8444827c050"
      }
     },
     "f88a51fc348a4f438ab9ea0b20bf2bd6": {
      "model_module": "@jupyter-widgets/controls",
      "model_module_version": "1.5.0",
      "model_name": "HTMLModel",
      "state": {
       "_dom_classes": [],
       "_model_module": "@jupyter-widgets/controls",
       "_model_module_version": "1.5.0",
       "_model_name": "HTMLModel",
       "_view_count": null,
       "_view_module": "@jupyter-widgets/controls",
       "_view_module_version": "1.5.0",
       "_view_name": "HTMLView",
       "description": "",
       "description_tooltip": null,
       "layout": "IPY_MODEL_7fd276fb2d6140f69693454089f66d57",
       "placeholder": "​",
       "style": "IPY_MODEL_5b6bd449acf24f318e7779210089cae4",
       "value": " 93/94 [01:15&lt;00:00,  1.18it/s]"
      }
     },
     "f97d4be39bc34c2a8574c6f4fabc0c69": {
      "model_module": "@jupyter-widgets/controls",
      "model_module_version": "1.5.0",
      "model_name": "ProgressStyleModel",
      "state": {
       "_model_module": "@jupyter-widgets/controls",
       "_model_module_version": "1.5.0",
       "_model_name": "ProgressStyleModel",
       "_view_count": null,
       "_view_module": "@jupyter-widgets/base",
       "_view_module_version": "1.2.0",
       "_view_name": "StyleView",
       "bar_color": null,
       "description_width": ""
      }
     },
     "fe0a596d399b4d49b9d91479a67315d8": {
      "model_module": "@jupyter-widgets/base",
      "model_module_version": "1.2.0",
      "model_name": "LayoutModel",
      "state": {
       "_model_module": "@jupyter-widgets/base",
       "_model_module_version": "1.2.0",
       "_model_name": "LayoutModel",
       "_view_count": null,
       "_view_module": "@jupyter-widgets/base",
       "_view_module_version": "1.2.0",
       "_view_name": "LayoutView",
       "align_content": null,
       "align_items": null,
       "align_self": null,
       "border": null,
       "bottom": null,
       "display": null,
       "flex": null,
       "flex_flow": null,
       "grid_area": null,
       "grid_auto_columns": null,
       "grid_auto_flow": null,
       "grid_auto_rows": null,
       "grid_column": null,
       "grid_gap": null,
       "grid_row": null,
       "grid_template_areas": null,
       "grid_template_columns": null,
       "grid_template_rows": null,
       "height": null,
       "justify_content": null,
       "justify_items": null,
       "left": null,
       "margin": null,
       "max_height": null,
       "max_width": null,
       "min_height": null,
       "min_width": null,
       "object_fit": null,
       "object_position": null,
       "order": null,
       "overflow": null,
       "overflow_x": null,
       "overflow_y": null,
       "padding": null,
       "right": null,
       "top": null,
       "visibility": null,
       "width": null
      }
     },
     "fecb2df664554850929969156e27bdcb": {
      "model_module": "@jupyter-widgets/controls",
      "model_module_version": "1.5.0",
      "model_name": "ProgressStyleModel",
      "state": {
       "_model_module": "@jupyter-widgets/controls",
       "_model_module_version": "1.5.0",
       "_model_name": "ProgressStyleModel",
       "_view_count": null,
       "_view_module": "@jupyter-widgets/base",
       "_view_module_version": "1.2.0",
       "_view_name": "StyleView",
       "bar_color": null,
       "description_width": ""
      }
     }
    },
    "version_major": 2,
    "version_minor": 0
   }
  }
 },
 "nbformat": 4,
 "nbformat_minor": 5
}
